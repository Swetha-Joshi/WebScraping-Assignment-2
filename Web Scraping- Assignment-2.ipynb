{
 "cells": [
  {
   "cell_type": "markdown",
   "id": "d767ad8d",
   "metadata": {},
   "source": [
    "Q1: Write a python program to scrape data for “Data Analyst” Job position in “Bangalore” location. You have to scrape the job-title, job-location, company_name, experience_required. You have to scrape first 10 jobs data. This task will be done in following steps:\n",
    "\n",
    "1. First get the webpage https://www.naukri.com/\n",
    "2. Enter “Data Analyst” in “Skill, Designations, Companies” field and enter “Bangalore” in “enter the location” field.\n",
    "3. Then click the search button.\n",
    "4. Then scrape the data for the first 10 jobs results you get.\n",
    "5.Finally create a dataframe of the scraped data. Note: All of the above steps have to be done in code. No step is to be done manually."
   ]
  },
  {
   "cell_type": "code",
   "execution_count": 1,
   "id": "56570fe0",
   "metadata": {},
   "outputs": [
    {
     "name": "stdout",
     "output_type": "stream",
     "text": [
      "Requirement already satisfied: selenium in c:\\programdata\\anaconda3\\lib\\site-packages (4.1.3)\n",
      "Requirement already satisfied: trio-websocket~=0.9 in c:\\programdata\\anaconda3\\lib\\site-packages (from selenium) (0.9.2)\n",
      "Requirement already satisfied: urllib3[secure,socks]~=1.26 in c:\\programdata\\anaconda3\\lib\\site-packages (from selenium) (1.26.7)\n",
      "Requirement already satisfied: trio~=0.17 in c:\\programdata\\anaconda3\\lib\\site-packages (from selenium) (0.20.0)\n",
      "Requirement already satisfied: async-generator>=1.9 in c:\\programdata\\anaconda3\\lib\\site-packages (from trio~=0.17->selenium) (1.10)\n",
      "Requirement already satisfied: attrs>=19.2.0 in c:\\programdata\\anaconda3\\lib\\site-packages (from trio~=0.17->selenium) (21.2.0)\n",
      "Requirement already satisfied: outcome in c:\\programdata\\anaconda3\\lib\\site-packages (from trio~=0.17->selenium) (1.1.0)\n",
      "Requirement already satisfied: sortedcontainers in c:\\programdata\\anaconda3\\lib\\site-packages (from trio~=0.17->selenium) (2.4.0)\n",
      "Requirement already satisfied: cffi>=1.14 in c:\\programdata\\anaconda3\\lib\\site-packages (from trio~=0.17->selenium) (1.14.6)\n",
      "Requirement already satisfied: idna in c:\\programdata\\anaconda3\\lib\\site-packages (from trio~=0.17->selenium) (3.2)\n",
      "Requirement already satisfied: sniffio in c:\\programdata\\anaconda3\\lib\\site-packages (from trio~=0.17->selenium) (1.2.0)\n",
      "Requirement already satisfied: pycparser in c:\\programdata\\anaconda3\\lib\\site-packages (from cffi>=1.14->trio~=0.17->selenium) (2.20)\n",
      "Requirement already satisfied: wsproto>=0.14 in c:\\programdata\\anaconda3\\lib\\site-packages (from trio-websocket~=0.9->selenium) (1.1.0)\n",
      "Requirement already satisfied: PySocks!=1.5.7,<2.0,>=1.5.6 in c:\\programdata\\anaconda3\\lib\\site-packages (from urllib3[secure,socks]~=1.26->selenium) (1.7.1)\n",
      "Requirement already satisfied: pyOpenSSL>=0.14 in c:\\programdata\\anaconda3\\lib\\site-packages (from urllib3[secure,socks]~=1.26->selenium) (21.0.0)\n",
      "Requirement already satisfied: cryptography>=1.3.4 in c:\\programdata\\anaconda3\\lib\\site-packages (from urllib3[secure,socks]~=1.26->selenium) (3.4.8)\n",
      "Requirement already satisfied: certifi in c:\\programdata\\anaconda3\\lib\\site-packages (from urllib3[secure,socks]~=1.26->selenium) (2021.10.8)\n",
      "Requirement already satisfied: six>=1.5.2 in c:\\programdata\\anaconda3\\lib\\site-packages (from pyOpenSSL>=0.14->urllib3[secure,socks]~=1.26->selenium) (1.16.0)\n",
      "Requirement already satisfied: h11<1,>=0.9.0 in c:\\programdata\\anaconda3\\lib\\site-packages (from wsproto>=0.14->trio-websocket~=0.9->selenium) (0.13.0)\n"
     ]
    }
   ],
   "source": [
    "!pip install selenium"
   ]
  },
  {
   "cell_type": "code",
   "execution_count": 36,
   "id": "c8ec8854",
   "metadata": {},
   "outputs": [],
   "source": [
    "import selenium\n",
    "from selenium import webdriver\n",
    "import pandas as pd\n",
    "import warnings"
   ]
  },
  {
   "cell_type": "code",
   "execution_count": 37,
   "id": "06f64940",
   "metadata": {},
   "outputs": [
    {
     "name": "stderr",
     "output_type": "stream",
     "text": [
      "C:\\Users\\Swetha\\AppData\\Local\\Temp/ipykernel_6712/1437113911.py:1: DeprecationWarning: executable_path has been deprecated, please pass in a Service object\n",
      "  driver=webdriver.Chrome(r'C:\\Users\\Swetha\\Downloads\\chromedriver_win32\\chromedriver.exe')\n"
     ]
    }
   ],
   "source": [
    "driver=webdriver.Chrome(r'C:\\Users\\Swetha\\Downloads\\chromedriver_win32\\chromedriver.exe')"
   ]
  },
  {
   "cell_type": "code",
   "execution_count": 38,
   "id": "59b2dfbf",
   "metadata": {},
   "outputs": [],
   "source": [
    "url = 'https://www.naukri.com/'\n",
    "driver.get(url)"
   ]
  },
  {
   "cell_type": "code",
   "execution_count": 39,
   "id": "454c9957",
   "metadata": {},
   "outputs": [
    {
     "name": "stderr",
     "output_type": "stream",
     "text": [
      "C:\\Users\\Swetha\\AppData\\Local\\Temp/ipykernel_6712/1185296610.py:2: DeprecationWarning: find_element_by_class_name is deprecated. Please use find_element(by=By.CLASS_NAME, value=name) instead\n",
      "  search_job = driver.find_element_by_class_name(\"suggestor-input \")\n"
     ]
    },
    {
     "data": {
      "text/plain": [
       "<selenium.webdriver.remote.webelement.WebElement (session=\"cefb3f904c024c60ed96f1b8257ac9de\", element=\"ad89cff4-88cf-448d-9fb7-080444b3e8c7\")>"
      ]
     },
     "execution_count": 39,
     "metadata": {},
     "output_type": "execute_result"
    }
   ],
   "source": [
    "#finding web element for search job bar using id\n",
    "search_job = driver.find_element_by_class_name(\"suggestor-input \")\n",
    "search_job"
   ]
  },
  {
   "cell_type": "code",
   "execution_count": 40,
   "id": "da9768eb",
   "metadata": {},
   "outputs": [],
   "source": [
    "search_job.send_keys(\"Data Analyst\")"
   ]
  },
  {
   "cell_type": "code",
   "execution_count": 41,
   "id": "5a7c6b81",
   "metadata": {},
   "outputs": [
    {
     "name": "stderr",
     "output_type": "stream",
     "text": [
      "C:\\Users\\Swetha\\AppData\\Local\\Temp/ipykernel_6712/384518552.py:1: DeprecationWarning: find_element_by_xpath is deprecated. Please use find_element(by=By.XPATH, value=xpath) instead\n",
      "  search_loc = driver.find_element_by_xpath(\"/html/body/div/div[2]/div[3]/div/div/div[3]/div/div/div/input\")\n"
     ]
    },
    {
     "data": {
      "text/plain": [
       "<selenium.webdriver.remote.webelement.WebElement (session=\"cefb3f904c024c60ed96f1b8257ac9de\", element=\"522ab11b-5d93-4ee2-a8df-eedeca163488\")>"
      ]
     },
     "execution_count": 41,
     "metadata": {},
     "output_type": "execute_result"
    }
   ],
   "source": [
    "search_loc = driver.find_element_by_xpath(\"/html/body/div/div[2]/div[3]/div/div/div[3]/div/div/div/input\")\n",
    "search_loc"
   ]
  },
  {
   "cell_type": "code",
   "execution_count": 42,
   "id": "05b18a05",
   "metadata": {},
   "outputs": [],
   "source": [
    "search_loc.send_keys(\"Bangalore\")"
   ]
  },
  {
   "cell_type": "code",
   "execution_count": 43,
   "id": "12ed5bf8",
   "metadata": {},
   "outputs": [
    {
     "name": "stderr",
     "output_type": "stream",
     "text": [
      "C:\\Users\\Swetha\\AppData\\Local\\Temp/ipykernel_6712/3912091503.py:1: DeprecationWarning: find_element_by_xpath is deprecated. Please use find_element(by=By.XPATH, value=xpath) instead\n",
      "  search_btn = driver.find_element_by_xpath(\"/html/body/div/div[2]/div[3]/div/div/div[6]\")\n"
     ]
    },
    {
     "data": {
      "text/plain": [
       "<selenium.webdriver.remote.webelement.WebElement (session=\"cefb3f904c024c60ed96f1b8257ac9de\", element=\"ec793cfa-17c5-4a89-b593-87e9a8cd401c\")>"
      ]
     },
     "execution_count": 43,
     "metadata": {},
     "output_type": "execute_result"
    }
   ],
   "source": [
    "search_btn = driver.find_element_by_xpath(\"/html/body/div/div[2]/div[3]/div/div/div[6]\")\n",
    "search_btn"
   ]
  },
  {
   "cell_type": "code",
   "execution_count": 44,
   "id": "11f6f068",
   "metadata": {},
   "outputs": [],
   "source": [
    "search_btn.click()"
   ]
  },
  {
   "cell_type": "code",
   "execution_count": 45,
   "id": "1e789988",
   "metadata": {},
   "outputs": [
    {
     "name": "stderr",
     "output_type": "stream",
     "text": [
      "C:\\Users\\Swetha\\AppData\\Local\\Temp/ipykernel_6712/380109672.py:1: DeprecationWarning: find_element_by_xpath is deprecated. Please use find_element(by=By.XPATH, value=xpath) instead\n",
      "  salary_check = driver.find_element_by_xpath(\"/html/body/div[1]/div[3]/div[2]/section[1]/div[2]/div[4]/div[2]/div[1]/label/i\")\n"
     ]
    }
   ],
   "source": [
    "salary_check = driver.find_element_by_xpath(\"/html/body/div[1]/div[3]/div[2]/section[1]/div[2]/div[4]/div[2]/div[1]/label/i\")"
   ]
  },
  {
   "cell_type": "code",
   "execution_count": 46,
   "id": "04cfda62",
   "metadata": {},
   "outputs": [],
   "source": [
    "salary_check.click()"
   ]
  },
  {
   "cell_type": "code",
   "execution_count": 47,
   "id": "00048707",
   "metadata": {},
   "outputs": [
    {
     "name": "stderr",
     "output_type": "stream",
     "text": [
      "C:\\Users\\Swetha\\AppData\\Local\\Temp/ipykernel_6712/2664529550.py:1: DeprecationWarning: find_elements_by_xpath is deprecated. Please use find_elements(by=By.XPATH, value=xpath) instead\n",
      "  title_tags = driver.find_elements_by_xpath('//a[@class=\"title fw500 ellipsis\"]')\n"
     ]
    },
    {
     "data": {
      "text/plain": [
       "[<selenium.webdriver.remote.webelement.WebElement (session=\"cefb3f904c024c60ed96f1b8257ac9de\", element=\"02bf0809-88a5-4656-b779-11f6c72329da\")>,\n",
       " <selenium.webdriver.remote.webelement.WebElement (session=\"cefb3f904c024c60ed96f1b8257ac9de\", element=\"6a218294-0e1c-42ed-a8b6-8122924d5a9c\")>]"
      ]
     },
     "execution_count": 47,
     "metadata": {},
     "output_type": "execute_result"
    }
   ],
   "source": [
    "title_tags = driver.find_elements_by_xpath('//a[@class=\"title fw500 ellipsis\"]')\n",
    "len(title_tags)\n",
    "title_tags[0:2]"
   ]
  },
  {
   "cell_type": "code",
   "execution_count": 48,
   "id": "09c7c523",
   "metadata": {},
   "outputs": [
    {
     "data": {
      "text/plain": [
       "['Data Coordinator | Data Analyst | MS Excel | Typing | Bangalore',\n",
       " 'software developer & Testing / Business Analyst/Data Analyst/Python.']"
      ]
     },
     "execution_count": 48,
     "metadata": {},
     "output_type": "execute_result"
    }
   ],
   "source": [
    "job_titles = []\n",
    "\n",
    "for i in title_tags:\n",
    "    job_titles.append(i.text)\n",
    "len(job_titles)\n",
    "job_titles[0:2]"
   ]
  },
  {
   "cell_type": "code",
   "execution_count": 49,
   "id": "313904c3",
   "metadata": {},
   "outputs": [
    {
     "name": "stderr",
     "output_type": "stream",
     "text": [
      "C:\\Users\\Swetha\\AppData\\Local\\Temp/ipykernel_6712/1558228043.py:1: DeprecationWarning: find_elements_by_xpath is deprecated. Please use find_elements(by=By.XPATH, value=xpath) instead\n",
      "  company_tags = driver.find_elements_by_xpath(\"//a[@class='subTitle ellipsis fleft']\")\n"
     ]
    },
    {
     "data": {
      "text/plain": [
       "['Inspiration Manpower Consultancy Pvt. Ltd.',\n",
       " 'SECRET TECHNOLOGIES INDIA VMS GROUP']"
      ]
     },
     "execution_count": 49,
     "metadata": {},
     "output_type": "execute_result"
    }
   ],
   "source": [
    "company_tags = driver.find_elements_by_xpath(\"//a[@class='subTitle ellipsis fleft']\")\n",
    "company_tags[0:2]\n",
    "\n",
    "company_names = []\n",
    "\n",
    "for i in company_tags:\n",
    "    company_names.append(i.text)\n",
    "company_names[0:2]"
   ]
  },
  {
   "cell_type": "code",
   "execution_count": 50,
   "id": "daba67e7",
   "metadata": {},
   "outputs": [
    {
     "name": "stderr",
     "output_type": "stream",
     "text": [
      "C:\\Users\\Swetha\\AppData\\Local\\Temp/ipykernel_6712/2903174761.py:1: DeprecationWarning: find_elements_by_xpath is deprecated. Please use find_elements(by=By.XPATH, value=xpath) instead\n",
      "  exp_tags = driver.find_elements_by_xpath(\"//li[@class='fleft grey-text br2 placeHolderLi experience']\")\n"
     ]
    },
    {
     "data": {
      "text/plain": [
       "['0-4 Yrs',\n",
       " '0-2 Yrs',\n",
       " '0-5 Yrs',\n",
       " '1-3 Yrs',\n",
       " '0-2 Yrs',\n",
       " '1-5 Yrs',\n",
       " '1-3 Yrs',\n",
       " '0-2 Yrs',\n",
       " '4-9 Yrs',\n",
       " '0-4 Yrs']"
      ]
     },
     "execution_count": 50,
     "metadata": {},
     "output_type": "execute_result"
    }
   ],
   "source": [
    "exp_tags = driver.find_elements_by_xpath(\"//li[@class='fleft grey-text br2 placeHolderLi experience']\")\n",
    "\n",
    "experience = []\n",
    "for i in exp_tags:\n",
    "    experience.append(i.text)\n",
    "experience[0:10]"
   ]
  },
  {
   "cell_type": "code",
   "execution_count": 51,
   "id": "55ab6c3c",
   "metadata": {},
   "outputs": [
    {
     "name": "stderr",
     "output_type": "stream",
     "text": [
      "C:\\Users\\Swetha\\AppData\\Local\\Temp/ipykernel_6712/976799895.py:1: DeprecationWarning: find_elements_by_xpath is deprecated. Please use find_elements(by=By.XPATH, value=xpath) instead\n",
      "  locn_tags = driver.find_elements_by_xpath(\"//li[@class='fleft grey-text br2 placeHolderLi location']\")\n"
     ]
    },
    {
     "data": {
      "text/plain": [
       "['Bangalore/Bengaluru(Sadashiva Nagar)',\n",
       " 'Pune, Bangalore/Bengaluru(Shivaji Nagar), Mumbai (All Areas)\\n(WFH during Covid)',\n",
       " 'Ahmedabad, Bangalore/Bengaluru',\n",
       " 'Bangalore/Bengaluru',\n",
       " 'Bangalore/Bengaluru\\n(WFH during Covid)',\n",
       " 'Bangalore/Bengaluru',\n",
       " 'Hyderabad/Secunderabad, Chennai, Bangalore/Bengaluru\\n(WFH during Covid)',\n",
       " 'Chennai, Bangalore/Bengaluru',\n",
       " 'Bangalore/Bengaluru',\n",
       " 'Bangalore/Bengaluru']"
      ]
     },
     "execution_count": 51,
     "metadata": {},
     "output_type": "execute_result"
    }
   ],
   "source": [
    "locn_tags = driver.find_elements_by_xpath(\"//li[@class='fleft grey-text br2 placeHolderLi location']\")\n",
    "len(locn_tags)\n",
    "\n",
    "location = []\n",
    "\n",
    "for i in locn_tags:\n",
    "    location.append(i.text)\n",
    "location[0:10]"
   ]
  },
  {
   "cell_type": "code",
   "execution_count": 52,
   "id": "e57bf9a2",
   "metadata": {},
   "outputs": [
    {
     "data": {
      "text/plain": [
       "(20, 20, 17, 20)"
      ]
     },
     "execution_count": 52,
     "metadata": {},
     "output_type": "execute_result"
    }
   ],
   "source": [
    "len(job_titles),len(company_names),len(experience),len(location)"
   ]
  },
  {
   "cell_type": "code",
   "execution_count": 53,
   "id": "933ad7e7",
   "metadata": {},
   "outputs": [
    {
     "data": {
      "text/html": [
       "<div>\n",
       "<style scoped>\n",
       "    .dataframe tbody tr th:only-of-type {\n",
       "        vertical-align: middle;\n",
       "    }\n",
       "\n",
       "    .dataframe tbody tr th {\n",
       "        vertical-align: top;\n",
       "    }\n",
       "\n",
       "    .dataframe thead th {\n",
       "        text-align: right;\n",
       "    }\n",
       "</style>\n",
       "<table border=\"1\" class=\"dataframe\">\n",
       "  <thead>\n",
       "    <tr style=\"text-align: right;\">\n",
       "      <th></th>\n",
       "      <th>Job Title</th>\n",
       "      <th>Company</th>\n",
       "      <th>Experience</th>\n",
       "      <th>Location</th>\n",
       "    </tr>\n",
       "  </thead>\n",
       "  <tbody>\n",
       "    <tr>\n",
       "      <th>0</th>\n",
       "      <td>Data Coordinator | Data Analyst | MS Excel | T...</td>\n",
       "      <td>Inspiration Manpower Consultancy Pvt. Ltd.</td>\n",
       "      <td>0-4 Yrs</td>\n",
       "      <td>Bangalore/Bengaluru(Sadashiva Nagar)</td>\n",
       "    </tr>\n",
       "    <tr>\n",
       "      <th>1</th>\n",
       "      <td>software developer &amp; Testing / Business Analys...</td>\n",
       "      <td>SECRET TECHNOLOGIES INDIA VMS GROUP</td>\n",
       "      <td>0-2 Yrs</td>\n",
       "      <td>Pune, Bangalore/Bengaluru(Shivaji Nagar), Mumb...</td>\n",
       "    </tr>\n",
       "    <tr>\n",
       "      <th>2</th>\n",
       "      <td>Looking For Data Analyst</td>\n",
       "      <td>Trellance</td>\n",
       "      <td>0-5 Yrs</td>\n",
       "      <td>Ahmedabad, Bangalore/Bengaluru</td>\n",
       "    </tr>\n",
       "    <tr>\n",
       "      <th>3</th>\n",
       "      <td>Data Analyst || Advance Excel || D Limit || Co...</td>\n",
       "      <td>Inspiration Manpower Consultancy Pvt. Ltd.</td>\n",
       "      <td>1-3 Yrs</td>\n",
       "      <td>Bangalore/Bengaluru</td>\n",
       "    </tr>\n",
       "    <tr>\n",
       "      <th>4</th>\n",
       "      <td>Data Analyst Work FROM Home</td>\n",
       "      <td>Fine Homes and Interior</td>\n",
       "      <td>0-2 Yrs</td>\n",
       "      <td>Bangalore/Bengaluru\\n(WFH during Covid)</td>\n",
       "    </tr>\n",
       "    <tr>\n",
       "      <th>5</th>\n",
       "      <td>Data Analyst</td>\n",
       "      <td>Capillary Technologies</td>\n",
       "      <td>1-5 Yrs</td>\n",
       "      <td>Bangalore/Bengaluru</td>\n",
       "    </tr>\n",
       "    <tr>\n",
       "      <th>6</th>\n",
       "      <td>Computer Operator | Computer Skills |Computer ...</td>\n",
       "      <td>D2 Retro</td>\n",
       "      <td>1-3 Yrs</td>\n",
       "      <td>Hyderabad/Secunderabad, Chennai, Bangalore/Ben...</td>\n",
       "    </tr>\n",
       "    <tr>\n",
       "      <th>7</th>\n",
       "      <td>Hiring For Data Analyst from 1 yr of exp in Ba...</td>\n",
       "      <td>PROMANTUS INDIA PRIVATE LIMITED</td>\n",
       "      <td>0-2 Yrs</td>\n",
       "      <td>Chennai, Bangalore/Bengaluru</td>\n",
       "    </tr>\n",
       "    <tr>\n",
       "      <th>8</th>\n",
       "      <td>Financial Data Analyst</td>\n",
       "      <td>Moody's</td>\n",
       "      <td>4-9 Yrs</td>\n",
       "      <td>Bangalore/Bengaluru</td>\n",
       "    </tr>\n",
       "    <tr>\n",
       "      <th>9</th>\n",
       "      <td>Data Research Analyst</td>\n",
       "      <td>FUTURES AND CAREERS</td>\n",
       "      <td>0-4 Yrs</td>\n",
       "      <td>Bangalore/Bengaluru</td>\n",
       "    </tr>\n",
       "  </tbody>\n",
       "</table>\n",
       "</div>"
      ],
      "text/plain": [
       "                                           Job Title  \\\n",
       "0  Data Coordinator | Data Analyst | MS Excel | T...   \n",
       "1  software developer & Testing / Business Analys...   \n",
       "2                           Looking For Data Analyst   \n",
       "3  Data Analyst || Advance Excel || D Limit || Co...   \n",
       "4                        Data Analyst Work FROM Home   \n",
       "5                                       Data Analyst   \n",
       "6  Computer Operator | Computer Skills |Computer ...   \n",
       "7  Hiring For Data Analyst from 1 yr of exp in Ba...   \n",
       "8                             Financial Data Analyst   \n",
       "9                              Data Research Analyst   \n",
       "\n",
       "                                      Company Experience  \\\n",
       "0  Inspiration Manpower Consultancy Pvt. Ltd.    0-4 Yrs   \n",
       "1         SECRET TECHNOLOGIES INDIA VMS GROUP    0-2 Yrs   \n",
       "2                                   Trellance    0-5 Yrs   \n",
       "3  Inspiration Manpower Consultancy Pvt. Ltd.    1-3 Yrs   \n",
       "4                     Fine Homes and Interior    0-2 Yrs   \n",
       "5                      Capillary Technologies    1-5 Yrs   \n",
       "6                                    D2 Retro    1-3 Yrs   \n",
       "7             PROMANTUS INDIA PRIVATE LIMITED    0-2 Yrs   \n",
       "8                                     Moody's    4-9 Yrs   \n",
       "9                         FUTURES AND CAREERS    0-4 Yrs   \n",
       "\n",
       "                                            Location  \n",
       "0               Bangalore/Bengaluru(Sadashiva Nagar)  \n",
       "1  Pune, Bangalore/Bengaluru(Shivaji Nagar), Mumb...  \n",
       "2                     Ahmedabad, Bangalore/Bengaluru  \n",
       "3                                Bangalore/Bengaluru  \n",
       "4            Bangalore/Bengaluru\\n(WFH during Covid)  \n",
       "5                                Bangalore/Bengaluru  \n",
       "6  Hyderabad/Secunderabad, Chennai, Bangalore/Ben...  \n",
       "7                       Chennai, Bangalore/Bengaluru  \n",
       "8                                Bangalore/Bengaluru  \n",
       "9                                Bangalore/Bengaluru  "
      ]
     },
     "execution_count": 53,
     "metadata": {},
     "output_type": "execute_result"
    }
   ],
   "source": [
    "jobs = pd.DataFrame()\n",
    "jobs['Job Title'] = job_titles[0:10]\n",
    "jobs['Company'] = company_names[0:10]\n",
    "jobs['Experience'] = experience[0:10]\n",
    "jobs['Location'] = location[0:10]\n",
    "jobs"
   ]
  },
  {
   "cell_type": "code",
   "execution_count": null,
   "id": "70ea2d10",
   "metadata": {},
   "outputs": [],
   "source": []
  },
  {
   "cell_type": "markdown",
   "id": "e5240866",
   "metadata": {},
   "source": [
    "Q2: Write a python program to scrape data for “Data Scientist” Job position in “Bangalore” location. You\n",
    "have to scrape the job-title, job-location, company_name. You have to scrape first 10 jobs data.\n",
    "This task will be done in following steps:\n",
    "1. First get the webpage https://www.naukri.com/\n",
    "2. Enter “Data Scientist” in “Skill, Designations, Companies” field and enter “Bangalore” in “enter the\n",
    "location” field.\n",
    "3. Then click the search button.\n",
    "4. Then scrape the data for the first 10 jobs results you get.\n",
    "5. Finally create a dataframe of the scraped data.\n",
    "Note: All of the above steps have to be done in code. No step is to be done manually."
   ]
  },
  {
   "cell_type": "code",
   "execution_count": 54,
   "id": "9369b3d8",
   "metadata": {},
   "outputs": [
    {
     "name": "stderr",
     "output_type": "stream",
     "text": [
      "C:\\Users\\Swetha\\AppData\\Local\\Temp/ipykernel_6712/4276708154.py:6: DeprecationWarning: executable_path has been deprecated, please pass in a Service object\n",
      "  driver=webdriver.Chrome(r'C:\\Users\\Swetha\\Downloads\\chromedriver_win32\\chromedriver.exe')\n"
     ]
    }
   ],
   "source": [
    "import selenium\n",
    "from selenium import webdriver\n",
    "import pandas as pd\n",
    "import warnings\n",
    "\n",
    "driver=webdriver.Chrome(r'C:\\Users\\Swetha\\Downloads\\chromedriver_win32\\chromedriver.exe')\n",
    "\n",
    "url = 'https://www.naukri.com/'\n",
    "driver.get(url)"
   ]
  },
  {
   "cell_type": "code",
   "execution_count": 55,
   "id": "858c5965",
   "metadata": {},
   "outputs": [
    {
     "name": "stderr",
     "output_type": "stream",
     "text": [
      "C:\\Users\\Swetha\\AppData\\Local\\Temp/ipykernel_6712/3411390551.py:1: DeprecationWarning: find_element_by_class_name is deprecated. Please use find_element(by=By.CLASS_NAME, value=name) instead\n",
      "  search_job = driver.find_element_by_class_name(\"suggestor-input \")\n"
     ]
    },
    {
     "data": {
      "text/plain": [
       "<selenium.webdriver.remote.webelement.WebElement (session=\"6d77b3c3d48c6f02ee05a357a02842f3\", element=\"fc05d9c1-cc90-44b6-8ef7-ef921d73e568\")>"
      ]
     },
     "execution_count": 55,
     "metadata": {},
     "output_type": "execute_result"
    }
   ],
   "source": [
    "search_job = driver.find_element_by_class_name(\"suggestor-input \")\n",
    "search_job"
   ]
  },
  {
   "cell_type": "code",
   "execution_count": 56,
   "id": "101bfb5d",
   "metadata": {},
   "outputs": [],
   "source": [
    "search_job.send_keys(\"Data Scientist\")"
   ]
  },
  {
   "cell_type": "code",
   "execution_count": 57,
   "id": "3518ac90",
   "metadata": {},
   "outputs": [
    {
     "name": "stderr",
     "output_type": "stream",
     "text": [
      "C:\\Users\\Swetha\\AppData\\Local\\Temp/ipykernel_6712/384518552.py:1: DeprecationWarning: find_element_by_xpath is deprecated. Please use find_element(by=By.XPATH, value=xpath) instead\n",
      "  search_loc = driver.find_element_by_xpath(\"/html/body/div/div[2]/div[3]/div/div/div[3]/div/div/div/input\")\n"
     ]
    },
    {
     "data": {
      "text/plain": [
       "<selenium.webdriver.remote.webelement.WebElement (session=\"6d77b3c3d48c6f02ee05a357a02842f3\", element=\"7777a026-3327-4b3e-b12e-d817b8c1d0b1\")>"
      ]
     },
     "execution_count": 57,
     "metadata": {},
     "output_type": "execute_result"
    }
   ],
   "source": [
    "search_loc = driver.find_element_by_xpath(\"/html/body/div/div[2]/div[3]/div/div/div[3]/div/div/div/input\")\n",
    "search_loc"
   ]
  },
  {
   "cell_type": "code",
   "execution_count": 58,
   "id": "0249454d",
   "metadata": {},
   "outputs": [],
   "source": [
    "search_loc.send_keys(\"Bangalore\")"
   ]
  },
  {
   "cell_type": "code",
   "execution_count": 59,
   "id": "53f717dc",
   "metadata": {},
   "outputs": [
    {
     "name": "stderr",
     "output_type": "stream",
     "text": [
      "C:\\Users\\Swetha\\AppData\\Local\\Temp/ipykernel_6712/3912091503.py:1: DeprecationWarning: find_element_by_xpath is deprecated. Please use find_element(by=By.XPATH, value=xpath) instead\n",
      "  search_btn = driver.find_element_by_xpath(\"/html/body/div/div[2]/div[3]/div/div/div[6]\")\n"
     ]
    },
    {
     "data": {
      "text/plain": [
       "<selenium.webdriver.remote.webelement.WebElement (session=\"6d77b3c3d48c6f02ee05a357a02842f3\", element=\"01b10c9e-9337-43fa-85a5-a059714afa74\")>"
      ]
     },
     "execution_count": 59,
     "metadata": {},
     "output_type": "execute_result"
    }
   ],
   "source": [
    "search_btn = driver.find_element_by_xpath(\"/html/body/div/div[2]/div[3]/div/div/div[6]\")\n",
    "search_btn"
   ]
  },
  {
   "cell_type": "code",
   "execution_count": 60,
   "id": "6cb15a00",
   "metadata": {},
   "outputs": [],
   "source": [
    "search_btn.click()"
   ]
  },
  {
   "cell_type": "code",
   "execution_count": 61,
   "id": "534e7b74",
   "metadata": {},
   "outputs": [
    {
     "name": "stderr",
     "output_type": "stream",
     "text": [
      "C:\\Users\\Swetha\\AppData\\Local\\Temp/ipykernel_6712/380109672.py:1: DeprecationWarning: find_element_by_xpath is deprecated. Please use find_element(by=By.XPATH, value=xpath) instead\n",
      "  salary_check = driver.find_element_by_xpath(\"/html/body/div[1]/div[3]/div[2]/section[1]/div[2]/div[4]/div[2]/div[1]/label/i\")\n"
     ]
    }
   ],
   "source": [
    "salary_check = driver.find_element_by_xpath(\"/html/body/div[1]/div[3]/div[2]/section[1]/div[2]/div[4]/div[2]/div[1]/label/i\")"
   ]
  },
  {
   "cell_type": "code",
   "execution_count": 62,
   "id": "56795d35",
   "metadata": {},
   "outputs": [],
   "source": [
    "salary_check.click()"
   ]
  },
  {
   "cell_type": "code",
   "execution_count": 64,
   "id": "7cc2d160",
   "metadata": {},
   "outputs": [
    {
     "name": "stderr",
     "output_type": "stream",
     "text": [
      "C:\\Users\\Swetha\\AppData\\Local\\Temp/ipykernel_6712/2040925159.py:1: DeprecationWarning: find_elements_by_xpath is deprecated. Please use find_elements(by=By.XPATH, value=xpath) instead\n",
      "  title_tags = driver.find_elements_by_xpath('//a[@class=\"title fw500 ellipsis\"]')\n"
     ]
    },
    {
     "data": {
      "text/plain": [
       "['Junior Data Scientist',\n",
       " 'Data Scientist',\n",
       " 'Opportunity For Data Scientist Internship - Bengaluru',\n",
       " 'Data scientist (WFH)',\n",
       " 'Data scientist ( WFH )',\n",
       " 'Interested To join permanent position For Data Scientist(Bangalore)',\n",
       " 'Data Scientist - Immediate Joiners only',\n",
       " 'Data Scientist',\n",
       " 'Data Scientist',\n",
       " 'Associate Scientist - Semantic & Data Modeling']"
      ]
     },
     "execution_count": 64,
     "metadata": {},
     "output_type": "execute_result"
    }
   ],
   "source": [
    "title_tags = driver.find_elements_by_xpath('//a[@class=\"title fw500 ellipsis\"]')\n",
    "len(title_tags)\n",
    "title_tags[0:2]\n",
    "\n",
    "job_titles = []\n",
    "\n",
    "for i in title_tags:\n",
    "    job_titles.append(i.text)\n",
    "len(job_titles)\n",
    "job_titles[0:10]"
   ]
  },
  {
   "cell_type": "code",
   "execution_count": 65,
   "id": "5f627d82",
   "metadata": {},
   "outputs": [
    {
     "name": "stderr",
     "output_type": "stream",
     "text": [
      "C:\\Users\\Swetha\\AppData\\Local\\Temp/ipykernel_6712/2447820376.py:1: DeprecationWarning: find_elements_by_xpath is deprecated. Please use find_elements(by=By.XPATH, value=xpath) instead\n",
      "  company_tags = driver.find_elements_by_xpath(\"//a[@class='subTitle ellipsis fleft']\")\n"
     ]
    },
    {
     "data": {
      "text/plain": [
       "['Titan',\n",
       " 'Genpact',\n",
       " 'Corner Stone Solutions',\n",
       " 'SPM HR SOLUTIONS',\n",
       " 'SPM Jobs',\n",
       " 'Pelatro Solutions Pvt. Ltd',\n",
       " 'MLAI Digital',\n",
       " 'Om Consulting',\n",
       " 'Kofluence Tech Pvt Ltd',\n",
       " 'Axa XL']"
      ]
     },
     "execution_count": 65,
     "metadata": {},
     "output_type": "execute_result"
    }
   ],
   "source": [
    "company_tags = driver.find_elements_by_xpath(\"//a[@class='subTitle ellipsis fleft']\")\n",
    "company_tags[0:2]\n",
    "\n",
    "company_names = []\n",
    "\n",
    "for i in company_tags:\n",
    "    company_names.append(i.text)\n",
    "company_names[0:10]"
   ]
  },
  {
   "cell_type": "code",
   "execution_count": 66,
   "id": "a8eaf7f0",
   "metadata": {},
   "outputs": [
    {
     "name": "stderr",
     "output_type": "stream",
     "text": [
      "C:\\Users\\Swetha\\AppData\\Local\\Temp/ipykernel_6712/2903174761.py:1: DeprecationWarning: find_elements_by_xpath is deprecated. Please use find_elements(by=By.XPATH, value=xpath) instead\n",
      "  exp_tags = driver.find_elements_by_xpath(\"//li[@class='fleft grey-text br2 placeHolderLi experience']\")\n"
     ]
    },
    {
     "data": {
      "text/plain": [
       "['1-5 Yrs',\n",
       " '6-10 Yrs',\n",
       " '0-1 Yrs',\n",
       " '8-8 Yrs',\n",
       " '8-10 Yrs',\n",
       " '5-8 Yrs',\n",
       " '3-6 Yrs',\n",
       " '1-3 Yrs',\n",
       " '3-5 Yrs',\n",
       " '3-8 Yrs']"
      ]
     },
     "execution_count": 66,
     "metadata": {},
     "output_type": "execute_result"
    }
   ],
   "source": [
    "exp_tags = driver.find_elements_by_xpath(\"//li[@class='fleft grey-text br2 placeHolderLi experience']\")\n",
    "\n",
    "experience = []\n",
    "for i in exp_tags:\n",
    "    experience.append(i.text)\n",
    "experience[0:10]"
   ]
  },
  {
   "cell_type": "code",
   "execution_count": 67,
   "id": "24820a1b",
   "metadata": {},
   "outputs": [
    {
     "name": "stderr",
     "output_type": "stream",
     "text": [
      "C:\\Users\\Swetha\\AppData\\Local\\Temp/ipykernel_6712/976799895.py:1: DeprecationWarning: find_elements_by_xpath is deprecated. Please use find_elements(by=By.XPATH, value=xpath) instead\n",
      "  locn_tags = driver.find_elements_by_xpath(\"//li[@class='fleft grey-text br2 placeHolderLi location']\")\n"
     ]
    },
    {
     "data": {
      "text/plain": [
       "['Bangalore/Bengaluru',\n",
       " 'Gurgaon/Gurugram, Bangalore/Bengaluru',\n",
       " 'Indore, Bangalore/Bengaluru\\n(WFH during Covid)',\n",
       " 'Bangalore/Bengaluru',\n",
       " 'Bangalore/Bengaluru',\n",
       " 'Bangalore/Bengaluru\\n(WFH during Covid)',\n",
       " 'Bangalore/Bengaluru, Delhi / NCR',\n",
       " 'Bangalore/Bengaluru',\n",
       " 'Bangalore/Bengaluru(Koramangala)',\n",
       " 'Bangalore East']"
      ]
     },
     "execution_count": 67,
     "metadata": {},
     "output_type": "execute_result"
    }
   ],
   "source": [
    "locn_tags = driver.find_elements_by_xpath(\"//li[@class='fleft grey-text br2 placeHolderLi location']\")\n",
    "len(locn_tags)\n",
    "\n",
    "location = []\n",
    "\n",
    "for i in locn_tags:\n",
    "    location.append(i.text)\n",
    "location[0:10]"
   ]
  },
  {
   "cell_type": "code",
   "execution_count": 68,
   "id": "0e5ccc59",
   "metadata": {},
   "outputs": [
    {
     "data": {
      "text/plain": [
       "(20, 20, 18, 20)"
      ]
     },
     "execution_count": 68,
     "metadata": {},
     "output_type": "execute_result"
    }
   ],
   "source": [
    "len(job_titles),len(company_names),len(experience),len(location)"
   ]
  },
  {
   "cell_type": "code",
   "execution_count": 69,
   "id": "fc913302",
   "metadata": {},
   "outputs": [
    {
     "data": {
      "text/html": [
       "<div>\n",
       "<style scoped>\n",
       "    .dataframe tbody tr th:only-of-type {\n",
       "        vertical-align: middle;\n",
       "    }\n",
       "\n",
       "    .dataframe tbody tr th {\n",
       "        vertical-align: top;\n",
       "    }\n",
       "\n",
       "    .dataframe thead th {\n",
       "        text-align: right;\n",
       "    }\n",
       "</style>\n",
       "<table border=\"1\" class=\"dataframe\">\n",
       "  <thead>\n",
       "    <tr style=\"text-align: right;\">\n",
       "      <th></th>\n",
       "      <th>Job Title</th>\n",
       "      <th>Company</th>\n",
       "      <th>Experience</th>\n",
       "      <th>Location</th>\n",
       "    </tr>\n",
       "  </thead>\n",
       "  <tbody>\n",
       "    <tr>\n",
       "      <th>0</th>\n",
       "      <td>Junior Data Scientist</td>\n",
       "      <td>Titan</td>\n",
       "      <td>1-5 Yrs</td>\n",
       "      <td>Bangalore/Bengaluru</td>\n",
       "    </tr>\n",
       "    <tr>\n",
       "      <th>1</th>\n",
       "      <td>Data Scientist</td>\n",
       "      <td>Genpact</td>\n",
       "      <td>6-10 Yrs</td>\n",
       "      <td>Gurgaon/Gurugram, Bangalore/Bengaluru</td>\n",
       "    </tr>\n",
       "    <tr>\n",
       "      <th>2</th>\n",
       "      <td>Opportunity For Data Scientist Internship - Be...</td>\n",
       "      <td>Corner Stone Solutions</td>\n",
       "      <td>0-1 Yrs</td>\n",
       "      <td>Indore, Bangalore/Bengaluru\\n(WFH during Covid)</td>\n",
       "    </tr>\n",
       "    <tr>\n",
       "      <th>3</th>\n",
       "      <td>Data scientist (WFH)</td>\n",
       "      <td>SPM HR SOLUTIONS</td>\n",
       "      <td>8-8 Yrs</td>\n",
       "      <td>Bangalore/Bengaluru</td>\n",
       "    </tr>\n",
       "    <tr>\n",
       "      <th>4</th>\n",
       "      <td>Data scientist ( WFH )</td>\n",
       "      <td>SPM Jobs</td>\n",
       "      <td>8-10 Yrs</td>\n",
       "      <td>Bangalore/Bengaluru</td>\n",
       "    </tr>\n",
       "    <tr>\n",
       "      <th>5</th>\n",
       "      <td>Interested To join permanent position For Data...</td>\n",
       "      <td>Pelatro Solutions Pvt. Ltd</td>\n",
       "      <td>5-8 Yrs</td>\n",
       "      <td>Bangalore/Bengaluru\\n(WFH during Covid)</td>\n",
       "    </tr>\n",
       "    <tr>\n",
       "      <th>6</th>\n",
       "      <td>Data Scientist - Immediate Joiners only</td>\n",
       "      <td>MLAI Digital</td>\n",
       "      <td>3-6 Yrs</td>\n",
       "      <td>Bangalore/Bengaluru, Delhi / NCR</td>\n",
       "    </tr>\n",
       "    <tr>\n",
       "      <th>7</th>\n",
       "      <td>Data Scientist</td>\n",
       "      <td>Om Consulting</td>\n",
       "      <td>1-3 Yrs</td>\n",
       "      <td>Bangalore/Bengaluru</td>\n",
       "    </tr>\n",
       "    <tr>\n",
       "      <th>8</th>\n",
       "      <td>Data Scientist</td>\n",
       "      <td>Kofluence Tech Pvt Ltd</td>\n",
       "      <td>3-5 Yrs</td>\n",
       "      <td>Bangalore/Bengaluru(Koramangala)</td>\n",
       "    </tr>\n",
       "    <tr>\n",
       "      <th>9</th>\n",
       "      <td>Associate Scientist - Semantic &amp; Data Modeling</td>\n",
       "      <td>Axa XL</td>\n",
       "      <td>3-8 Yrs</td>\n",
       "      <td>Bangalore East</td>\n",
       "    </tr>\n",
       "  </tbody>\n",
       "</table>\n",
       "</div>"
      ],
      "text/plain": [
       "                                           Job Title  \\\n",
       "0                              Junior Data Scientist   \n",
       "1                                     Data Scientist   \n",
       "2  Opportunity For Data Scientist Internship - Be...   \n",
       "3                               Data scientist (WFH)   \n",
       "4                             Data scientist ( WFH )   \n",
       "5  Interested To join permanent position For Data...   \n",
       "6            Data Scientist - Immediate Joiners only   \n",
       "7                                     Data Scientist   \n",
       "8                                     Data Scientist   \n",
       "9     Associate Scientist - Semantic & Data Modeling   \n",
       "\n",
       "                      Company Experience  \\\n",
       "0                       Titan    1-5 Yrs   \n",
       "1                     Genpact   6-10 Yrs   \n",
       "2      Corner Stone Solutions    0-1 Yrs   \n",
       "3            SPM HR SOLUTIONS    8-8 Yrs   \n",
       "4                    SPM Jobs   8-10 Yrs   \n",
       "5  Pelatro Solutions Pvt. Ltd    5-8 Yrs   \n",
       "6                MLAI Digital    3-6 Yrs   \n",
       "7               Om Consulting    1-3 Yrs   \n",
       "8      Kofluence Tech Pvt Ltd    3-5 Yrs   \n",
       "9                      Axa XL    3-8 Yrs   \n",
       "\n",
       "                                          Location  \n",
       "0                              Bangalore/Bengaluru  \n",
       "1            Gurgaon/Gurugram, Bangalore/Bengaluru  \n",
       "2  Indore, Bangalore/Bengaluru\\n(WFH during Covid)  \n",
       "3                              Bangalore/Bengaluru  \n",
       "4                              Bangalore/Bengaluru  \n",
       "5          Bangalore/Bengaluru\\n(WFH during Covid)  \n",
       "6                 Bangalore/Bengaluru, Delhi / NCR  \n",
       "7                              Bangalore/Bengaluru  \n",
       "8                 Bangalore/Bengaluru(Koramangala)  \n",
       "9                                   Bangalore East  "
      ]
     },
     "execution_count": 69,
     "metadata": {},
     "output_type": "execute_result"
    }
   ],
   "source": [
    "jobs = pd.DataFrame()\n",
    "jobs['Job Title'] = job_titles[0:10]\n",
    "jobs['Company'] = company_names[0:10]\n",
    "jobs['Experience'] = experience[0:10]\n",
    "jobs['Location'] = location[0:10]\n",
    "jobs"
   ]
  },
  {
   "cell_type": "code",
   "execution_count": null,
   "id": "a929bf22",
   "metadata": {},
   "outputs": [],
   "source": []
  },
  {
   "cell_type": "markdown",
   "id": "a2fec1c7",
   "metadata": {},
   "source": [
    "Q3: In this question you have to scrape data using the filters available on the webpage as shown below:\n",
    "\n",
    "You have to use the location and salary filter.\n",
    "You have to scrape data for “Data Scientist” designation for first 10 job results.\n",
    "You have to scrape the job-title, job-location, company name, experience required.\n",
    "The location filter to be used is “Delhi/NCR”. The salary filter to be used is “3-6” lakhs\n",
    "The task will be done as shown in the below steps:\n",
    "1. first get the webpage https://www.naukri.com/\n",
    "2. Enter “Data Scientist” in “Skill, Designations, and Companies” field.\n",
    "3. Then click the search button.\n",
    "4. Then apply the location filter and salary filter by checking the respective boxes\n",
    "5. Then scrape the data for the first 10 jobs results you get.\n",
    "6. Finally create a dataframe of the scraped data.\n",
    "Note: All of the above steps have to be done in code. No step is to be done manually.\n",
    "    "
   ]
  },
  {
   "cell_type": "code",
   "execution_count": 70,
   "id": "d74a221d",
   "metadata": {},
   "outputs": [
    {
     "name": "stderr",
     "output_type": "stream",
     "text": [
      "C:\\Users\\Swetha\\AppData\\Local\\Temp/ipykernel_6712/4276708154.py:6: DeprecationWarning: executable_path has been deprecated, please pass in a Service object\n",
      "  driver=webdriver.Chrome(r'C:\\Users\\Swetha\\Downloads\\chromedriver_win32\\chromedriver.exe')\n"
     ]
    }
   ],
   "source": [
    "import selenium\n",
    "from selenium import webdriver\n",
    "import pandas as pd\n",
    "import warnings\n",
    "\n",
    "driver=webdriver.Chrome(r'C:\\Users\\Swetha\\Downloads\\chromedriver_win32\\chromedriver.exe')\n",
    "\n",
    "url = 'https://www.naukri.com/'\n",
    "driver.get(url)"
   ]
  },
  {
   "cell_type": "code",
   "execution_count": 71,
   "id": "5f538613",
   "metadata": {},
   "outputs": [
    {
     "name": "stderr",
     "output_type": "stream",
     "text": [
      "C:\\Users\\Swetha\\AppData\\Local\\Temp/ipykernel_6712/665377137.py:1: DeprecationWarning: find_element_by_class_name is deprecated. Please use find_element(by=By.CLASS_NAME, value=name) instead\n",
      "  search_job = driver.find_element_by_class_name(\"suggestor-input \")\n"
     ]
    }
   ],
   "source": [
    "search_job = driver.find_element_by_class_name(\"suggestor-input \")\n",
    "search_job\n",
    "\n",
    "search_job.send_keys(\"Data Scientist\")"
   ]
  },
  {
   "cell_type": "code",
   "execution_count": 72,
   "id": "fb48b62b",
   "metadata": {},
   "outputs": [
    {
     "name": "stderr",
     "output_type": "stream",
     "text": [
      "C:\\Users\\Swetha\\AppData\\Local\\Temp/ipykernel_6712/441958406.py:1: DeprecationWarning: find_element_by_xpath is deprecated. Please use find_element(by=By.XPATH, value=xpath) instead\n",
      "  search_loc = driver.find_element_by_xpath(\"/html/body/div/div[2]/div[3]/div/div/div[3]/div/div/div/input\")\n"
     ]
    }
   ],
   "source": [
    "search_loc = driver.find_element_by_xpath(\"/html/body/div/div[2]/div[3]/div/div/div[3]/div/div/div/input\")\n",
    "search_loc\n",
    "\n",
    "search_loc.send_keys(\"Delhi/NCR\")"
   ]
  },
  {
   "cell_type": "code",
   "execution_count": 73,
   "id": "7fe84e16",
   "metadata": {},
   "outputs": [
    {
     "name": "stderr",
     "output_type": "stream",
     "text": [
      "C:\\Users\\Swetha\\AppData\\Local\\Temp/ipykernel_6712/3771033958.py:1: DeprecationWarning: find_element_by_xpath is deprecated. Please use find_element(by=By.XPATH, value=xpath) instead\n",
      "  search_btn = driver.find_element_by_xpath(\"/html/body/div/div[2]/div[3]/div/div/div[6]\")\n"
     ]
    }
   ],
   "source": [
    "search_btn = driver.find_element_by_xpath(\"/html/body/div/div[2]/div[3]/div/div/div[6]\")\n",
    "search_btn\n",
    "\n",
    "search_btn.click()"
   ]
  },
  {
   "cell_type": "code",
   "execution_count": 75,
   "id": "8c5b03ce",
   "metadata": {
    "scrolled": true
   },
   "outputs": [
    {
     "name": "stderr",
     "output_type": "stream",
     "text": [
      "C:\\Users\\Swetha\\AppData\\Local\\Temp/ipykernel_6712/2580533100.py:1: DeprecationWarning: find_element_by_xpath is deprecated. Please use find_element(by=By.XPATH, value=xpath) instead\n",
      "  salary_check = driver.find_element_by_xpath(\"/html/body/div[1]/div[3]/div[2]/section[1]/div[2]/div[4]/div[2]/div[1]/label/i\")\n"
     ]
    }
   ],
   "source": [
    "salary_check = driver.find_element_by_xpath(\"/html/body/div[1]/div[3]/div[2]/section[1]/div[2]/div[4]/div[2]/div[1]/label/i\")\n",
    "\n",
    "salary_check.click()"
   ]
  },
  {
   "cell_type": "code",
   "execution_count": 76,
   "id": "0a1d0c2b",
   "metadata": {},
   "outputs": [
    {
     "name": "stderr",
     "output_type": "stream",
     "text": [
      "C:\\Users\\Swetha\\AppData\\Local\\Temp/ipykernel_6712/2040925159.py:1: DeprecationWarning: find_elements_by_xpath is deprecated. Please use find_elements(by=By.XPATH, value=xpath) instead\n",
      "  title_tags = driver.find_elements_by_xpath('//a[@class=\"title fw500 ellipsis\"]')\n"
     ]
    },
    {
     "data": {
      "text/plain": [
       "['Data Scientist',\n",
       " 'Data Analyst / Data Scientist / Business Analytics / Fresher - MNC',\n",
       " 'Only Fresher / Python Data Scientist / Trainee / Analytics - MNC Jobs',\n",
       " 'Senior Data Scientist',\n",
       " 'Data Scientist - Immediate Joiners only',\n",
       " 'Data Scientist',\n",
       " 'Data Scientist',\n",
       " 'Data Scientist',\n",
       " 'Required! Data Scientist Executives',\n",
       " 'Data Scientist,Data Analyst']"
      ]
     },
     "execution_count": 76,
     "metadata": {},
     "output_type": "execute_result"
    }
   ],
   "source": [
    "title_tags = driver.find_elements_by_xpath('//a[@class=\"title fw500 ellipsis\"]')\n",
    "len(title_tags)\n",
    "title_tags[0:2]\n",
    "\n",
    "job_titles = []\n",
    "\n",
    "for i in title_tags:\n",
    "    job_titles.append(i.text)\n",
    "len(job_titles)\n",
    "job_titles[0:10]"
   ]
  },
  {
   "cell_type": "code",
   "execution_count": 77,
   "id": "269a4d13",
   "metadata": {},
   "outputs": [
    {
     "name": "stderr",
     "output_type": "stream",
     "text": [
      "C:\\Users\\Swetha\\AppData\\Local\\Temp/ipykernel_6712/2447820376.py:1: DeprecationWarning: find_elements_by_xpath is deprecated. Please use find_elements(by=By.XPATH, value=xpath) instead\n",
      "  company_tags = driver.find_elements_by_xpath(\"//a[@class='subTitle ellipsis fleft']\")\n"
     ]
    },
    {
     "data": {
      "text/plain": [
       "['Genpact',\n",
       " 'GABA Consultancy services',\n",
       " 'GABA Consultancy services',\n",
       " 'DECISION POINT PRIVATE LIMITED',\n",
       " 'MLAI Digital',\n",
       " 'CNH Industrial',\n",
       " 'Gauge Data Solutions Pvt Ltd',\n",
       " 'Alp Consulting Limited',\n",
       " 'Web King Services',\n",
       " 'Maximus Human Resources Private Limited']"
      ]
     },
     "execution_count": 77,
     "metadata": {},
     "output_type": "execute_result"
    }
   ],
   "source": [
    "company_tags = driver.find_elements_by_xpath(\"//a[@class='subTitle ellipsis fleft']\")\n",
    "company_tags[0:2]\n",
    "\n",
    "company_names = []\n",
    "\n",
    "for i in company_tags:\n",
    "    company_names.append(i.text)\n",
    "company_names[0:10]"
   ]
  },
  {
   "cell_type": "code",
   "execution_count": 78,
   "id": "14ea0cf0",
   "metadata": {},
   "outputs": [
    {
     "name": "stderr",
     "output_type": "stream",
     "text": [
      "C:\\Users\\Swetha\\AppData\\Local\\Temp/ipykernel_6712/2903174761.py:1: DeprecationWarning: find_elements_by_xpath is deprecated. Please use find_elements(by=By.XPATH, value=xpath) instead\n",
      "  exp_tags = driver.find_elements_by_xpath(\"//li[@class='fleft grey-text br2 placeHolderLi experience']\")\n"
     ]
    },
    {
     "data": {
      "text/plain": [
       "['6-10 Yrs',\n",
       " '0-0 Yrs',\n",
       " '0-0 Yrs',\n",
       " '2-5 Yrs',\n",
       " '3-6 Yrs',\n",
       " '1-6 Yrs',\n",
       " '2-7 Yrs',\n",
       " '1-6 Yrs',\n",
       " '0-5 Yrs',\n",
       " '1-6 Yrs']"
      ]
     },
     "execution_count": 78,
     "metadata": {},
     "output_type": "execute_result"
    }
   ],
   "source": [
    "exp_tags = driver.find_elements_by_xpath(\"//li[@class='fleft grey-text br2 placeHolderLi experience']\")\n",
    "\n",
    "experience = []\n",
    "for i in exp_tags:\n",
    "    experience.append(i.text)\n",
    "experience[0:10]"
   ]
  },
  {
   "cell_type": "code",
   "execution_count": 79,
   "id": "25859329",
   "metadata": {},
   "outputs": [
    {
     "name": "stderr",
     "output_type": "stream",
     "text": [
      "C:\\Users\\Swetha\\AppData\\Local\\Temp/ipykernel_6712/976799895.py:1: DeprecationWarning: find_elements_by_xpath is deprecated. Please use find_elements(by=By.XPATH, value=xpath) instead\n",
      "  locn_tags = driver.find_elements_by_xpath(\"//li[@class='fleft grey-text br2 placeHolderLi location']\")\n"
     ]
    },
    {
     "data": {
      "text/plain": [
       "['Gurgaon/Gurugram, Bangalore/Bengaluru',\n",
       " 'Noida, New Delhi, Delhi / NCR',\n",
       " 'Noida, New Delhi, Gurgaon/Gurugram',\n",
       " 'Gurgaon/Gurugram, Chennai\\n(WFH during Covid)',\n",
       " 'Bangalore/Bengaluru, Delhi / NCR',\n",
       " 'Gurgaon/Gurugram',\n",
       " 'Noida',\n",
       " 'Kolkata, Hyderabad/Secunderabad, Pune, Chennai, Bangalore/Bengaluru, Delhi / NCR',\n",
       " 'Hyderabad/Secunderabad, Delhi / NCR\\n(WFH during Covid)',\n",
       " 'Mumbai, Gurgaon/Gurugram']"
      ]
     },
     "execution_count": 79,
     "metadata": {},
     "output_type": "execute_result"
    }
   ],
   "source": [
    "locn_tags = driver.find_elements_by_xpath(\"//li[@class='fleft grey-text br2 placeHolderLi location']\")\n",
    "len(locn_tags)\n",
    "\n",
    "location = []\n",
    "\n",
    "for i in locn_tags:\n",
    "    location.append(i.text)\n",
    "location[0:10]"
   ]
  },
  {
   "cell_type": "code",
   "execution_count": 80,
   "id": "bb4a8a65",
   "metadata": {},
   "outputs": [
    {
     "data": {
      "text/plain": [
       "(20, 20, 20, 20)"
      ]
     },
     "execution_count": 80,
     "metadata": {},
     "output_type": "execute_result"
    }
   ],
   "source": [
    "len(job_titles),len(company_names),len(experience),len(location)"
   ]
  },
  {
   "cell_type": "code",
   "execution_count": 81,
   "id": "ae74c2b6",
   "metadata": {},
   "outputs": [
    {
     "data": {
      "text/html": [
       "<div>\n",
       "<style scoped>\n",
       "    .dataframe tbody tr th:only-of-type {\n",
       "        vertical-align: middle;\n",
       "    }\n",
       "\n",
       "    .dataframe tbody tr th {\n",
       "        vertical-align: top;\n",
       "    }\n",
       "\n",
       "    .dataframe thead th {\n",
       "        text-align: right;\n",
       "    }\n",
       "</style>\n",
       "<table border=\"1\" class=\"dataframe\">\n",
       "  <thead>\n",
       "    <tr style=\"text-align: right;\">\n",
       "      <th></th>\n",
       "      <th>Job Title</th>\n",
       "      <th>Company</th>\n",
       "      <th>Experience</th>\n",
       "      <th>Location</th>\n",
       "    </tr>\n",
       "  </thead>\n",
       "  <tbody>\n",
       "    <tr>\n",
       "      <th>0</th>\n",
       "      <td>Data Scientist</td>\n",
       "      <td>Genpact</td>\n",
       "      <td>6-10 Yrs</td>\n",
       "      <td>Gurgaon/Gurugram, Bangalore/Bengaluru</td>\n",
       "    </tr>\n",
       "    <tr>\n",
       "      <th>1</th>\n",
       "      <td>Data Analyst / Data Scientist / Business Analy...</td>\n",
       "      <td>GABA Consultancy services</td>\n",
       "      <td>0-0 Yrs</td>\n",
       "      <td>Noida, New Delhi, Delhi / NCR</td>\n",
       "    </tr>\n",
       "    <tr>\n",
       "      <th>2</th>\n",
       "      <td>Only Fresher / Python Data Scientist / Trainee...</td>\n",
       "      <td>GABA Consultancy services</td>\n",
       "      <td>0-0 Yrs</td>\n",
       "      <td>Noida, New Delhi, Gurgaon/Gurugram</td>\n",
       "    </tr>\n",
       "    <tr>\n",
       "      <th>3</th>\n",
       "      <td>Senior Data Scientist</td>\n",
       "      <td>DECISION POINT PRIVATE LIMITED</td>\n",
       "      <td>2-5 Yrs</td>\n",
       "      <td>Gurgaon/Gurugram, Chennai\\n(WFH during Covid)</td>\n",
       "    </tr>\n",
       "    <tr>\n",
       "      <th>4</th>\n",
       "      <td>Data Scientist - Immediate Joiners only</td>\n",
       "      <td>MLAI Digital</td>\n",
       "      <td>3-6 Yrs</td>\n",
       "      <td>Bangalore/Bengaluru, Delhi / NCR</td>\n",
       "    </tr>\n",
       "    <tr>\n",
       "      <th>5</th>\n",
       "      <td>Data Scientist</td>\n",
       "      <td>CNH Industrial</td>\n",
       "      <td>1-6 Yrs</td>\n",
       "      <td>Gurgaon/Gurugram</td>\n",
       "    </tr>\n",
       "    <tr>\n",
       "      <th>6</th>\n",
       "      <td>Data Scientist</td>\n",
       "      <td>Gauge Data Solutions Pvt Ltd</td>\n",
       "      <td>2-7 Yrs</td>\n",
       "      <td>Noida</td>\n",
       "    </tr>\n",
       "    <tr>\n",
       "      <th>7</th>\n",
       "      <td>Data Scientist</td>\n",
       "      <td>Alp Consulting Limited</td>\n",
       "      <td>1-6 Yrs</td>\n",
       "      <td>Kolkata, Hyderabad/Secunderabad, Pune, Chennai...</td>\n",
       "    </tr>\n",
       "    <tr>\n",
       "      <th>8</th>\n",
       "      <td>Required! Data Scientist Executives</td>\n",
       "      <td>Web King Services</td>\n",
       "      <td>0-5 Yrs</td>\n",
       "      <td>Hyderabad/Secunderabad, Delhi / NCR\\n(WFH duri...</td>\n",
       "    </tr>\n",
       "    <tr>\n",
       "      <th>9</th>\n",
       "      <td>Data Scientist,Data Analyst</td>\n",
       "      <td>Maximus Human Resources Private Limited</td>\n",
       "      <td>1-6 Yrs</td>\n",
       "      <td>Mumbai, Gurgaon/Gurugram</td>\n",
       "    </tr>\n",
       "  </tbody>\n",
       "</table>\n",
       "</div>"
      ],
      "text/plain": [
       "                                           Job Title  \\\n",
       "0                                     Data Scientist   \n",
       "1  Data Analyst / Data Scientist / Business Analy...   \n",
       "2  Only Fresher / Python Data Scientist / Trainee...   \n",
       "3                              Senior Data Scientist   \n",
       "4            Data Scientist - Immediate Joiners only   \n",
       "5                                     Data Scientist   \n",
       "6                                     Data Scientist   \n",
       "7                                     Data Scientist   \n",
       "8                Required! Data Scientist Executives   \n",
       "9                        Data Scientist,Data Analyst   \n",
       "\n",
       "                                   Company Experience  \\\n",
       "0                                  Genpact   6-10 Yrs   \n",
       "1                GABA Consultancy services    0-0 Yrs   \n",
       "2                GABA Consultancy services    0-0 Yrs   \n",
       "3           DECISION POINT PRIVATE LIMITED    2-5 Yrs   \n",
       "4                             MLAI Digital    3-6 Yrs   \n",
       "5                           CNH Industrial    1-6 Yrs   \n",
       "6             Gauge Data Solutions Pvt Ltd    2-7 Yrs   \n",
       "7                   Alp Consulting Limited    1-6 Yrs   \n",
       "8                        Web King Services    0-5 Yrs   \n",
       "9  Maximus Human Resources Private Limited    1-6 Yrs   \n",
       "\n",
       "                                            Location  \n",
       "0              Gurgaon/Gurugram, Bangalore/Bengaluru  \n",
       "1                      Noida, New Delhi, Delhi / NCR  \n",
       "2                 Noida, New Delhi, Gurgaon/Gurugram  \n",
       "3      Gurgaon/Gurugram, Chennai\\n(WFH during Covid)  \n",
       "4                   Bangalore/Bengaluru, Delhi / NCR  \n",
       "5                                   Gurgaon/Gurugram  \n",
       "6                                              Noida  \n",
       "7  Kolkata, Hyderabad/Secunderabad, Pune, Chennai...  \n",
       "8  Hyderabad/Secunderabad, Delhi / NCR\\n(WFH duri...  \n",
       "9                           Mumbai, Gurgaon/Gurugram  "
      ]
     },
     "execution_count": 81,
     "metadata": {},
     "output_type": "execute_result"
    }
   ],
   "source": [
    "jobs = pd.DataFrame()\n",
    "jobs['Job Title'] = job_titles[0:10]\n",
    "jobs['Company'] = company_names[0:10]\n",
    "jobs['Experience'] = experience[0:10]\n",
    "jobs['Location'] = location[0:10]\n",
    "jobs"
   ]
  },
  {
   "cell_type": "code",
   "execution_count": null,
   "id": "a09fff3d",
   "metadata": {},
   "outputs": [],
   "source": []
  },
  {
   "cell_type": "markdown",
   "id": "804da674",
   "metadata": {},
   "source": [
    "Q4: Scrape data of first 100 sunglasses listings on flipkart.com. You have to scrape four attributes:\n",
    "1. Brand\n",
    "2. Product Description\n",
    "3. Price\n",
    "The attributes which you have to scrape is ticked marked in the below image.\n",
    "To scrape the data you have to go through following steps:\n",
    "1. Go to Flipkart webpage by url : https://www.flipkart.com/\n",
    "2. Enter “sunglasses” in the search field where “search for products, brands andmore” is written and\n",
    "click the search icon\n",
    "3. After that you will reach to the page having a lot of sunglasses. From this pageyou can scrap the\n",
    "required data as usual.\n",
    "4. After scraping data from the first page, go to the “Next” Button at the bottom ofthe page , then\n",
    "click on it.\n",
    "5. Now scrape data from this page as usual\n",
    "6. Repeat this until you get data for 100 sunglasses.\n",
    "Note: That all of the above steps have to be done by coding only and not manually."
   ]
  },
  {
   "cell_type": "code",
   "execution_count": 14,
   "id": "fd9bd487",
   "metadata": {},
   "outputs": [
    {
     "name": "stderr",
     "output_type": "stream",
     "text": [
      "C:\\Users\\Swetha\\AppData\\Local\\Temp/ipykernel_15420/4040530136.py:6: DeprecationWarning: executable_path has been deprecated, please pass in a Service object\n",
      "  driver=webdriver.Chrome(r'C:\\Users\\Swetha\\Downloads\\chromedriver_win32\\chromedriver.exe')\n"
     ]
    }
   ],
   "source": [
    "import selenium\n",
    "from selenium import webdriver\n",
    "import pandas as pd\n",
    "import warnings\n",
    "\n",
    "driver=webdriver.Chrome(r'C:\\Users\\Swetha\\Downloads\\chromedriver_win32\\chromedriver.exe')\n",
    "\n",
    "url = 'https://www.flipkart.com/'\n",
    "driver.get(url)"
   ]
  },
  {
   "cell_type": "code",
   "execution_count": 15,
   "id": "d7e36aa9",
   "metadata": {},
   "outputs": [
    {
     "name": "stderr",
     "output_type": "stream",
     "text": [
      "C:\\Users\\Swetha\\AppData\\Local\\Temp/ipykernel_15420/1557593997.py:1: DeprecationWarning: find_element_by_class_name is deprecated. Please use find_element(by=By.CLASS_NAME, value=name) instead\n",
      "  search_glasses = driver.find_element_by_class_name('_3704LK')\n"
     ]
    }
   ],
   "source": [
    "search_glasses = driver.find_element_by_class_name('_3704LK')\n",
    "search_glasses\n",
    "\n",
    "search_glasses.send_keys(\"Sun Glasses\")\n",
    "\n",
    "search_glasses.click()"
   ]
  },
  {
   "cell_type": "code",
   "execution_count": 22,
   "id": "679bc993",
   "metadata": {},
   "outputs": [
    {
     "name": "stderr",
     "output_type": "stream",
     "text": [
      "C:\\Users\\Swetha\\AppData\\Local\\Temp/ipykernel_15420/1696711150.py:1: DeprecationWarning: find_element_by_xpath is deprecated. Please use find_element(by=By.XPATH, value=xpath) instead\n",
      "  search_btn = driver.find_element_by_xpath(\"/html/body/div[1]/div/div[1]/div[1]/div[2]/div[2]/form/div/button\")\n"
     ]
    }
   ],
   "source": [
    "search_btn = driver.find_element_by_xpath(\"/html/body/div[1]/div/div[1]/div[1]/div[2]/div[2]/form/div/button\")"
   ]
  },
  {
   "cell_type": "code",
   "execution_count": 17,
   "id": "2e7db821",
   "metadata": {},
   "outputs": [],
   "source": [
    "search_btn.click()"
   ]
  },
  {
   "cell_type": "markdown",
   "id": "b6dc485e",
   "metadata": {},
   "source": [
    "Brands"
   ]
  },
  {
   "cell_type": "markdown",
   "id": "d7ba858c",
   "metadata": {},
   "source": [
    "Brands available on first page."
   ]
  },
  {
   "cell_type": "code",
   "execution_count": 129,
   "id": "8ff540ee",
   "metadata": {},
   "outputs": [
    {
     "name": "stderr",
     "output_type": "stream",
     "text": [
      "C:\\Users\\Swetha\\AppData\\Local\\Temp/ipykernel_6712/2167277663.py:1: DeprecationWarning: find_elements_by_xpath is deprecated. Please use find_elements(by=By.XPATH, value=xpath) instead\n",
      "  brand_tags = driver.find_elements_by_xpath(\"//div[@class='_2WkVRV']\")\n"
     ]
    },
    {
     "data": {
      "text/plain": [
       "['VINCENT CHASE',\n",
       " 'PIRASO',\n",
       " 'SRPM',\n",
       " 'SUNBEE',\n",
       " 'PIRASO',\n",
       " 'Elligator',\n",
       " 'DEIXELS',\n",
       " 'AISLIN',\n",
       " 'PIRASO',\n",
       " 'SHAAH COLLECTIONS',\n",
       " 'New Specs',\n",
       " 'ROYAL SON',\n",
       " 'Fastrack',\n",
       " 'GANSTA',\n",
       " 'PIRASO',\n",
       " 'AISLIN',\n",
       " 'Lee Topper',\n",
       " 'Fastrack',\n",
       " 'SRPM',\n",
       " 'ROYAL SON',\n",
       " 'kingsunglasses',\n",
       " 'ROZZETTA CRAFT',\n",
       " 'Silver Kartz',\n",
       " 'PIRASO',\n",
       " 'kingsunglasses',\n",
       " 'SUNBEE',\n",
       " 'ROYAL SON',\n",
       " 'PIRASO',\n",
       " 'Lee Topper',\n",
       " 'PHENOMENAL',\n",
       " 'Fastrack',\n",
       " 'AISLIN',\n",
       " 'Fastrack',\n",
       " 'kingsunglasses',\n",
       " 'SRPM',\n",
       " 'ROYAL SON',\n",
       " 'New Specs',\n",
       " 'Elligator',\n",
       " 'SHAAH COLLECTIONS',\n",
       " 'Singco India']"
      ]
     },
     "execution_count": 129,
     "metadata": {},
     "output_type": "execute_result"
    }
   ],
   "source": [
    "brand_tags = driver.find_elements_by_xpath(\"//div[@class='_2WkVRV']\")\n",
    "len(brand_tags)\n",
    "\n",
    "Brand = []\n",
    "\n",
    "for i in brand_tags:\n",
    "    Brand.append(i.text)\n",
    "Brand"
   ]
  },
  {
   "cell_type": "markdown",
   "id": "c0b1eed1",
   "metadata": {},
   "source": [
    "Brands available on second page."
   ]
  },
  {
   "cell_type": "code",
   "execution_count": 130,
   "id": "56ba118e",
   "metadata": {},
   "outputs": [
    {
     "name": "stderr",
     "output_type": "stream",
     "text": [
      "C:\\Users\\Swetha\\AppData\\Local\\Temp/ipykernel_6712/3484484188.py:1: DeprecationWarning: find_elements_by_xpath is deprecated. Please use find_elements(by=By.XPATH, value=xpath) instead\n",
      "  brand_tags = driver.find_elements_by_xpath(\"//div[@class='_2WkVRV']\")\n"
     ]
    },
    {
     "data": {
      "text/plain": [
       "['PIRASO',\n",
       " 'PIRASO',\n",
       " 'PIRASO',\n",
       " 'PIRASO',\n",
       " 'Elligator',\n",
       " 'Fastrack',\n",
       " 'Rich Club',\n",
       " 'VILLAIN',\n",
       " 'New Specs',\n",
       " 'kingsunglasses',\n",
       " 'PHENOMENAL',\n",
       " 'PIRASO',\n",
       " 'PIRASO',\n",
       " 'PIRASO',\n",
       " 'Fravy',\n",
       " 'VINCENT CHASE',\n",
       " 'Lee Topper',\n",
       " 'IDEE',\n",
       " 'PIRASO',\n",
       " 'VINCENT CHASE',\n",
       " 'New Specs',\n",
       " 'kingsunglasses',\n",
       " 'kingsunglasses',\n",
       " 'PIRASO',\n",
       " 'ROYAL SON',\n",
       " 'ROZZETTA CRAFT',\n",
       " 'ROYAL SON',\n",
       " 'VINCENT CHASE',\n",
       " 'SHAAH COLLECTIONS',\n",
       " 'SUNBEE',\n",
       " 'ROZZETTA CRAFT',\n",
       " 'ROZZETTA CRAFT',\n",
       " 'ROYAL SON',\n",
       " 'Mi',\n",
       " 'GANSTA',\n",
       " 'PIRASO',\n",
       " 'Singco India',\n",
       " 'SUNBEE',\n",
       " 'Rich Club',\n",
       " 'VINCENT CHASE']"
      ]
     },
     "execution_count": 130,
     "metadata": {},
     "output_type": "execute_result"
    }
   ],
   "source": [
    "brand_tags = driver.find_elements_by_xpath(\"//div[@class='_2WkVRV']\")\n",
    "len(brand_tags)\n",
    "\n",
    "Brand1 = []\n",
    "\n",
    "for i in brand_tags:\n",
    "    Brand1.append(i.text)\n",
    "Brand1"
   ]
  },
  {
   "cell_type": "markdown",
   "id": "0119b630",
   "metadata": {},
   "source": [
    "Brands available on third page."
   ]
  },
  {
   "cell_type": "code",
   "execution_count": 131,
   "id": "681cf98c",
   "metadata": {},
   "outputs": [
    {
     "name": "stderr",
     "output_type": "stream",
     "text": [
      "C:\\Users\\Swetha\\AppData\\Local\\Temp/ipykernel_6712/2750690666.py:1: DeprecationWarning: find_elements_by_xpath is deprecated. Please use find_elements(by=By.XPATH, value=xpath) instead\n",
      "  brand_tags = driver.find_elements_by_xpath(\"//div[@class='_2WkVRV']\")\n"
     ]
    },
    {
     "data": {
      "text/plain": [
       "['Rich Club',\n",
       " 'PHENOMENAL',\n",
       " 'IDEE',\n",
       " 'Silver Kartz',\n",
       " 'PHENOMENAL',\n",
       " 'Fastrack',\n",
       " 'kingsunglasses',\n",
       " 'elegante',\n",
       " 'NuVew',\n",
       " 'PHENOMENAL',\n",
       " 'IDEE',\n",
       " 'SRPM',\n",
       " 'Lee Topper',\n",
       " 'PIRASO',\n",
       " 'hipe',\n",
       " 'AISLIN',\n",
       " 'povty',\n",
       " 'kingsunglasses',\n",
       " 'kingsunglasses',\n",
       " 'Lee Topper',\n",
       " 'DEIXELS',\n",
       " 'Elligator',\n",
       " 'Fastrack',\n",
       " 'kingsunglasses',\n",
       " 'hipe',\n",
       " 'VINCENT CHASE',\n",
       " 'DEIXELS',\n",
       " 'IDEE',\n",
       " 'ROZZETTA CRAFT',\n",
       " 'Johaena',\n",
       " 'Fastrack',\n",
       " 'Rich Club',\n",
       " 'Fastrack',\n",
       " 'Fastrack',\n",
       " 'Fastrack',\n",
       " 'Fastrack',\n",
       " 'Elligator',\n",
       " 'IDEE',\n",
       " 'AISLIN',\n",
       " 'Fastrack']"
      ]
     },
     "execution_count": 131,
     "metadata": {},
     "output_type": "execute_result"
    }
   ],
   "source": [
    "brand_tags = driver.find_elements_by_xpath(\"//div[@class='_2WkVRV']\")\n",
    "len(brand_tags)\n",
    "\n",
    "Brand2 = []\n",
    "\n",
    "for i in brand_tags:\n",
    "    Brand2.append(i.text)\n",
    "Brand2"
   ]
  },
  {
   "cell_type": "code",
   "execution_count": 132,
   "id": "b7e99c0a",
   "metadata": {},
   "outputs": [
    {
     "data": {
      "text/plain": [
       "(40, 40, 40)"
      ]
     },
     "execution_count": 132,
     "metadata": {},
     "output_type": "execute_result"
    }
   ],
   "source": [
    "len(Brand),len(Brand1),len(Brand2)"
   ]
  },
  {
   "cell_type": "markdown",
   "id": "52b0cea9",
   "metadata": {},
   "source": [
    "Product Description"
   ]
  },
  {
   "cell_type": "markdown",
   "id": "0ba208c7",
   "metadata": {},
   "source": [
    "Product description available on first page."
   ]
  },
  {
   "cell_type": "code",
   "execution_count": 120,
   "id": "40b416dc",
   "metadata": {},
   "outputs": [
    {
     "name": "stderr",
     "output_type": "stream",
     "text": [
      "C:\\Users\\Swetha\\AppData\\Local\\Temp/ipykernel_6712/4118634599.py:1: DeprecationWarning: find_elements_by_xpath is deprecated. Please use find_elements(by=By.XPATH, value=xpath) instead\n",
      "  product_des = driver.find_elements_by_xpath(\"//a[@class='IRpwTa']\")\n"
     ]
    },
    {
     "data": {
      "text/plain": [
       "['UV Protection Round Sunglasses (53)',\n",
       " 'UV Protection Wayfarer Sunglasses (32)',\n",
       " 'UV Protection Aviator Sunglasses (58)',\n",
       " 'UV Protection Aviator Sunglasses (54)',\n",
       " 'Polarized Round Sunglasses (48)',\n",
       " 'UV Protection Wayfarer Sunglasses (Free Size)',\n",
       " 'UV Protection, Mirrored Sports Sunglasses (Free Size)',\n",
       " 'UV Protection Aviator Sunglasses (54)',\n",
       " 'UV Protection Wayfarer Sunglasses (53)',\n",
       " 'Mirrored, UV Protection Wayfarer Sunglasses (Free Size)',\n",
       " 'UV Protection Retro Square Sunglasses (Free Size)',\n",
       " 'Others Retro Square Sunglasses (Free Size)',\n",
       " 'Riding Glasses, Night Vision Wrap-around Sunglasses (Fr...',\n",
       " 'UV Protection Butterfly Sunglasses (65)',\n",
       " 'Mirrored Aviator Sunglasses (32)',\n",
       " 'by Lenskart Polarized, UV Protection Wayfarer Sunglasse...',\n",
       " 'Others Retro Square Sunglasses (Free Size)',\n",
       " 'UV Protection Over-sized Sunglasses (57)',\n",
       " 'UV Protection Aviator Sunglasses (Free Size)',\n",
       " 'UV Protection Aviator Sunglasses (55)',\n",
       " 'UV Protection Butterfly Sunglasses (60)',\n",
       " 'UV Protection Retro Square Sunglasses (Free Size)',\n",
       " 'UV Protection Rectangular Sunglasses (Free Size)',\n",
       " 'by Lenskart Polarized, UV Protection Round Sunglasses (...',\n",
       " 'Mirrored, UV Protection Wayfarer, Rectangular Sunglasse...',\n",
       " 'Mirrored Aviator Sunglasses (Free Size)',\n",
       " 'UV Protection, Polarized, Mirrored Retro Square Sunglas...',\n",
       " 'UV Protection, Riding Glasses Rectangular Sunglasses (F...',\n",
       " 'UV Protection Round Sunglasses (Free Size)',\n",
       " 'UV Protection, Gradient Rectangular Sunglasses (Free Si...',\n",
       " 'UV Protection Rectangular Sunglasses (58)',\n",
       " 'UV Protection Aviator Sunglasses (54)',\n",
       " 'Polarized Aviator Sunglasses (Free Size)',\n",
       " 'Mirrored Aviator Sunglasses (55)',\n",
       " 'UV Protection, Mirrored Retro Square Sunglasses (53)',\n",
       " 'by Lenskart Polarized, UV Protection Cat-eye Sunglasses...',\n",
       " 'UV Protection, Polarized, Mirrored Wayfarer Sunglasses ...',\n",
       " 'UV Protection Cat-eye Sunglasses (17)',\n",
       " 'UV Protection Aviator Sunglasses (88)']"
      ]
     },
     "execution_count": 120,
     "metadata": {},
     "output_type": "execute_result"
    }
   ],
   "source": [
    "product_des = driver.find_elements_by_xpath(\"//a[@class='IRpwTa']\")\n",
    "len(product_des)\n",
    "\n",
    "Product_Description = []\n",
    "\n",
    "for i in product_des:\n",
    "    Product_Description.append(i.text)\n",
    "    \n",
    "Product_Description"
   ]
  },
  {
   "cell_type": "markdown",
   "id": "8fdd5678",
   "metadata": {},
   "source": [
    "Product description available on second page."
   ]
  },
  {
   "cell_type": "code",
   "execution_count": 121,
   "id": "7b1e4f38",
   "metadata": {},
   "outputs": [
    {
     "name": "stderr",
     "output_type": "stream",
     "text": [
      "C:\\Users\\Swetha\\AppData\\Local\\Temp/ipykernel_6712/3325732001.py:1: DeprecationWarning: find_elements_by_xpath is deprecated. Please use find_elements(by=By.XPATH, value=xpath) instead\n",
      "  product_des1 = driver.find_elements_by_xpath(\"//a[@class='IRpwTa']\")\n"
     ]
    },
    {
     "data": {
      "text/plain": [
       "['UV Protection Round Sunglasses (53)',\n",
       " 'UV Protection Wayfarer Sunglasses (32)',\n",
       " 'UV Protection Aviator Sunglasses (58)',\n",
       " 'UV Protection Aviator Sunglasses (54)',\n",
       " 'Polarized Round Sunglasses (48)',\n",
       " 'UV Protection Wayfarer Sunglasses (Free Size)',\n",
       " 'UV Protection, Mirrored Sports Sunglasses (Free Size)',\n",
       " 'UV Protection Aviator Sunglasses (54)',\n",
       " 'UV Protection Wayfarer Sunglasses (53)',\n",
       " 'Mirrored, UV Protection Wayfarer Sunglasses (Free Size)',\n",
       " 'UV Protection Retro Square Sunglasses (Free Size)',\n",
       " 'Others Retro Square Sunglasses (Free Size)',\n",
       " 'Riding Glasses, Night Vision Wrap-around Sunglasses (Fr...',\n",
       " 'UV Protection Butterfly Sunglasses (65)',\n",
       " 'Mirrored Aviator Sunglasses (32)',\n",
       " 'by Lenskart Polarized, UV Protection Wayfarer Sunglasse...',\n",
       " 'Others Retro Square Sunglasses (Free Size)',\n",
       " 'UV Protection Over-sized Sunglasses (57)',\n",
       " 'UV Protection Aviator Sunglasses (Free Size)',\n",
       " 'UV Protection Aviator Sunglasses (55)',\n",
       " 'UV Protection Butterfly Sunglasses (60)',\n",
       " 'UV Protection Retro Square Sunglasses (Free Size)',\n",
       " 'UV Protection Rectangular Sunglasses (Free Size)',\n",
       " 'by Lenskart Polarized, UV Protection Round Sunglasses (...',\n",
       " 'Mirrored, UV Protection Wayfarer, Rectangular Sunglasse...',\n",
       " 'Mirrored Aviator Sunglasses (Free Size)',\n",
       " 'UV Protection, Polarized, Mirrored Retro Square Sunglas...',\n",
       " 'UV Protection, Riding Glasses Rectangular Sunglasses (F...',\n",
       " 'UV Protection Round Sunglasses (Free Size)',\n",
       " 'UV Protection, Gradient Rectangular Sunglasses (Free Si...',\n",
       " 'UV Protection Rectangular Sunglasses (58)',\n",
       " 'UV Protection Aviator Sunglasses (54)',\n",
       " 'Polarized Aviator Sunglasses (Free Size)',\n",
       " 'Mirrored Aviator Sunglasses (55)',\n",
       " 'UV Protection, Mirrored Retro Square Sunglasses (53)',\n",
       " 'by Lenskart Polarized, UV Protection Cat-eye Sunglasses...',\n",
       " 'UV Protection, Polarized, Mirrored Wayfarer Sunglasses ...',\n",
       " 'UV Protection Cat-eye Sunglasses (17)',\n",
       " 'UV Protection Aviator Sunglasses (88)']"
      ]
     },
     "execution_count": 121,
     "metadata": {},
     "output_type": "execute_result"
    }
   ],
   "source": [
    "product_des1 = driver.find_elements_by_xpath(\"//a[@class='IRpwTa']\")\n",
    "len(product_des1)\n",
    "\n",
    "Product_Description1 = []\n",
    "\n",
    "for i in product_des1:\n",
    "    Product_Description1.append(i.text)\n",
    "    \n",
    "Product_Description1"
   ]
  },
  {
   "cell_type": "markdown",
   "id": "dd6c8075",
   "metadata": {},
   "source": [
    "Product description available on third page."
   ]
  },
  {
   "cell_type": "code",
   "execution_count": 123,
   "id": "eafb8120",
   "metadata": {},
   "outputs": [
    {
     "name": "stderr",
     "output_type": "stream",
     "text": [
      "C:\\Users\\Swetha\\AppData\\Local\\Temp/ipykernel_6712/2176704866.py:1: DeprecationWarning: find_elements_by_xpath is deprecated. Please use find_elements(by=By.XPATH, value=xpath) instead\n",
      "  product_des2 = driver.find_elements_by_xpath(\"//a[@class='IRpwTa']\")\n"
     ]
    },
    {
     "data": {
      "text/plain": [
       "['UV Protection Round Sunglasses (48)',\n",
       " 'UV Protection, Mirrored Retro Square Sunglasses (53)',\n",
       " 'UV Protection Cat-eye Sunglasses (17)',\n",
       " 'Mirrored Aviator Sunglasses (32)',\n",
       " 'UV Protection Aviator Sunglasses (88)',\n",
       " 'UV Protection Clubmaster Sunglasses (Free Size)',\n",
       " 'UV Protection Aviator Sunglasses (Free Size)',\n",
       " 'UV Protection, Mirrored Wayfarer, Retro Square Sunglass...',\n",
       " 'UV Protection, Mirrored Round Sunglasses (Free Size)',\n",
       " 'UV Protection Wayfarer Sunglasses (Free Size)',\n",
       " 'UV Protection Sports Sunglasses (62)',\n",
       " 'by Lenskart Polarized, UV Protection Rectangular Sungla...',\n",
       " 'UV Protection, Mirrored Retro Square Sunglasses (53)',\n",
       " 'UV Protection Cat-eye Sunglasses (17)',\n",
       " 'Night Vision, UV Protection Round Sunglasses (54)',\n",
       " 'Mirrored, UV Protection, Riding Glasses, Others Wrap-ar...',\n",
       " 'UV Protection, Riding Glasses Retro Square, Spectacle ...',\n",
       " 'UV Protection Aviator Sunglasses (Free Size)',\n",
       " 'Mirrored, UV Protection, Gradient Round Sunglasses (55)',\n",
       " 'UV Protection Wayfarer Sunglasses (32)',\n",
       " 'UV Protection, Gradient Oval Sunglasses (58)',\n",
       " 'UV Protection Retro Square Sunglasses (Free Size)',\n",
       " 'Mirrored, UV Protection Aviator Sunglasses (56)',\n",
       " 'UV Protection, Gradient Wayfarer Sunglasses (58)',\n",
       " 'UV Protection, Others Round, Aviator Sunglasses (54)',\n",
       " 'UV Protection Cat-eye Sunglasses (Free Size)',\n",
       " 'UV Protection Wayfarer Sunglasses (Free Size)',\n",
       " 'by Lenskart Polarized, UV Protection Round Sunglasses (...',\n",
       " 'UV Protection Aviator Sunglasses (55)',\n",
       " 'UV Protection Oval Sunglasses (Free Size)',\n",
       " 'UV Protection Rectangular Sunglasses (55)',\n",
       " 'UV Protection Aviator Sunglasses (50)',\n",
       " 'UV Protection, Gradient, Mirrored, Riding Glasses Aviat...',\n",
       " 'by Lenskart Polarized, UV Protection Wayfarer Sunglasse...',\n",
       " 'UV Protection Rectangular Sunglasses (Free Size)',\n",
       " 'UV Protection, Polarized Rectangular Sunglasses (Free S...',\n",
       " 'UV Protection Rectangular Sunglasses (59)',\n",
       " 'UV Protection, Gradient Retro Square Sunglasses (Free S...',\n",
       " 'Riding Glasses, UV Protection Oval Sunglasses (52)',\n",
       " 'UV Protection Wrap-around Sunglasses (Free Size)']"
      ]
     },
     "execution_count": 123,
     "metadata": {},
     "output_type": "execute_result"
    }
   ],
   "source": [
    "product_des2 = driver.find_elements_by_xpath(\"//a[@class='IRpwTa']\")\n",
    "len(product_des1)\n",
    "\n",
    "Product_Description2 = []\n",
    "\n",
    "for i in product_des2:\n",
    "    Product_Description2.append(i.text)\n",
    "    \n",
    "Product_Description2"
   ]
  },
  {
   "cell_type": "code",
   "execution_count": 124,
   "id": "f0f16076",
   "metadata": {},
   "outputs": [
    {
     "data": {
      "text/plain": [
       "(39, 39, 40)"
      ]
     },
     "execution_count": 124,
     "metadata": {},
     "output_type": "execute_result"
    }
   ],
   "source": [
    "len(Product_Description),len(Product_Description1),len(Product_Description2)"
   ]
  },
  {
   "cell_type": "markdown",
   "id": "6484daab",
   "metadata": {},
   "source": [
    "Price"
   ]
  },
  {
   "cell_type": "markdown",
   "id": "40de54f4",
   "metadata": {},
   "source": [
    "Prices of products available in first page."
   ]
  },
  {
   "cell_type": "code",
   "execution_count": 134,
   "id": "a37a7690",
   "metadata": {},
   "outputs": [
    {
     "name": "stderr",
     "output_type": "stream",
     "text": [
      "C:\\Users\\Swetha\\AppData\\Local\\Temp/ipykernel_6712/1644787318.py:1: DeprecationWarning: find_elements_by_xpath is deprecated. Please use find_elements(by=By.XPATH, value=xpath) instead\n",
      "  price = driver.find_elements_by_xpath(\"//div[@class='_30jeq3']\")\n"
     ]
    },
    {
     "data": {
      "text/plain": [
       "['₹749',\n",
       " '₹349',\n",
       " '₹148',\n",
       " '₹203',\n",
       " '₹179',\n",
       " '₹208',\n",
       " '₹152',\n",
       " '₹949',\n",
       " '₹175',\n",
       " '₹115',\n",
       " '₹182',\n",
       " '₹200',\n",
       " '₹629',\n",
       " '₹148',\n",
       " '₹175',\n",
       " '₹949',\n",
       " '₹225',\n",
       " '₹629',\n",
       " '₹128',\n",
       " '₹376',\n",
       " '₹134',\n",
       " '₹424',\n",
       " '₹183',\n",
       " '₹799',\n",
       " '₹136',\n",
       " '₹234',\n",
       " '₹329',\n",
       " '₹275',\n",
       " '₹149',\n",
       " '₹239',\n",
       " '₹549',\n",
       " '₹1,049',\n",
       " '₹548',\n",
       " '₹239',\n",
       " '₹170',\n",
       " '₹499',\n",
       " '₹213',\n",
       " '₹139',\n",
       " '₹131',\n",
       " '₹669']"
      ]
     },
     "execution_count": 134,
     "metadata": {},
     "output_type": "execute_result"
    }
   ],
   "source": [
    "price = driver.find_elements_by_xpath(\"//div[@class='_30jeq3']\")\n",
    "len(price)\n",
    "\n",
    "Price = []\n",
    "\n",
    "for i in price:\n",
    "    Price.append(i.text)\n",
    "    \n",
    "Price"
   ]
  },
  {
   "cell_type": "markdown",
   "id": "a26cf808",
   "metadata": {},
   "source": [
    "Prices of products available in second page."
   ]
  },
  {
   "cell_type": "code",
   "execution_count": 135,
   "id": "4f95bfb9",
   "metadata": {},
   "outputs": [
    {
     "name": "stderr",
     "output_type": "stream",
     "text": [
      "C:\\Users\\Swetha\\AppData\\Local\\Temp/ipykernel_6712/2352963444.py:1: DeprecationWarning: find_elements_by_xpath is deprecated. Please use find_elements(by=By.XPATH, value=xpath) instead\n",
      "  price = driver.find_elements_by_xpath(\"//div[@class='_30jeq3']\")\n"
     ]
    },
    {
     "data": {
      "text/plain": [
       "['₹175',\n",
       " '₹299',\n",
       " '₹175',\n",
       " '₹246',\n",
       " '₹126',\n",
       " '₹709',\n",
       " '₹125',\n",
       " '₹231',\n",
       " '₹108',\n",
       " '₹189',\n",
       " '₹278',\n",
       " '₹391',\n",
       " '₹325',\n",
       " '₹149',\n",
       " '₹149',\n",
       " '₹949',\n",
       " '₹226',\n",
       " '₹929',\n",
       " '₹325',\n",
       " '₹349',\n",
       " '₹133',\n",
       " '₹208',\n",
       " '₹130',\n",
       " '₹249',\n",
       " '₹329',\n",
       " '₹424',\n",
       " '₹329',\n",
       " '₹128',\n",
       " '₹226',\n",
       " '₹180',\n",
       " '₹349',\n",
       " '₹249',\n",
       " '₹424',\n",
       " '₹959',\n",
       " '₹234',\n",
       " '₹110',\n",
       " '₹144',\n",
       " '₹203',\n",
       " '₹115',\n",
       " '₹249']"
      ]
     },
     "execution_count": 135,
     "metadata": {},
     "output_type": "execute_result"
    }
   ],
   "source": [
    "price = driver.find_elements_by_xpath(\"//div[@class='_30jeq3']\")\n",
    "len(price)\n",
    "\n",
    "Price1 = []\n",
    "\n",
    "for i in price:\n",
    "    Price1.append(i.text)\n",
    "    \n",
    "Price1"
   ]
  },
  {
   "cell_type": "markdown",
   "id": "4f7d421e",
   "metadata": {},
   "source": [
    "Prices of products available in Third page."
   ]
  },
  {
   "cell_type": "code",
   "execution_count": 136,
   "id": "5c4ce8f5",
   "metadata": {},
   "outputs": [
    {
     "name": "stderr",
     "output_type": "stream",
     "text": [
      "C:\\Users\\Swetha\\AppData\\Local\\Temp/ipykernel_6712/2585660104.py:1: DeprecationWarning: find_elements_by_xpath is deprecated. Please use find_elements(by=By.XPATH, value=xpath) instead\n",
      "  price = driver.find_elements_by_xpath(\"//div[@class='_30jeq3']\")\n"
     ]
    },
    {
     "data": {
      "text/plain": [
       "['₹192',\n",
       " '₹203',\n",
       " '₹267',\n",
       " '₹198',\n",
       " '₹234',\n",
       " '₹179',\n",
       " '₹549',\n",
       " '₹396',\n",
       " '₹257',\n",
       " '₹325',\n",
       " '₹249',\n",
       " '₹799',\n",
       " '₹139',\n",
       " '₹267',\n",
       " '₹859',\n",
       " '₹424',\n",
       " '₹149',\n",
       " '₹349',\n",
       " '₹277',\n",
       " '₹249',\n",
       " '₹129',\n",
       " '₹249',\n",
       " '₹169',\n",
       " '₹299',\n",
       " '₹149',\n",
       " '₹396',\n",
       " '₹749',\n",
       " '₹637',\n",
       " '₹149',\n",
       " '₹113',\n",
       " '₹929',\n",
       " '₹709',\n",
       " '₹1,549',\n",
       " '₹159',\n",
       " '₹321',\n",
       " '₹925',\n",
       " '₹127',\n",
       " '₹589',\n",
       " '₹231',\n",
       " '₹614']"
      ]
     },
     "execution_count": 136,
     "metadata": {},
     "output_type": "execute_result"
    }
   ],
   "source": [
    "price = driver.find_elements_by_xpath(\"//div[@class='_30jeq3']\")\n",
    "len(price)\n",
    "\n",
    "Price2 = []\n",
    "\n",
    "for i in price:\n",
    "    Price2.append(i.text)\n",
    "    \n",
    "Price2"
   ]
  },
  {
   "cell_type": "code",
   "execution_count": 137,
   "id": "0529f50d",
   "metadata": {},
   "outputs": [
    {
     "data": {
      "text/plain": [
       "(40, 40, 40)"
      ]
     },
     "execution_count": 137,
     "metadata": {},
     "output_type": "execute_result"
    }
   ],
   "source": [
    "len(Price),len(Price1),len(Price2)"
   ]
  },
  {
   "cell_type": "code",
   "execution_count": null,
   "id": "ac05f943",
   "metadata": {},
   "outputs": [],
   "source": []
  },
  {
   "cell_type": "markdown",
   "id": "6dea92cb",
   "metadata": {},
   "source": [
    "Q5: Scrape 100 reviews data from flipkart.com for iphone11 phone. You have to go the link:\n",
    "https://www.flipkart.com/apple-iphone-11-black-64-gb-includes- earpods-power\u0002adapter/p/itm0f37c2240b217?pid=MOBFKCTSVZAXUHGR&lid=LSTMOBFKC\n",
    "TSVZAXUHGREPBFGI&marketplace.\n",
    "When you will open the above link you will reach to the below shown webpage .\n",
    "As shown in the above page you have to scrape the tick marked attributes.These are:\n",
    "1. Rating\n",
    "2. Review summary\n",
    "3. Full review\n",
    "4. You have to scrape this data for first 100 reviews.\n",
    "Note: All the steps required during scraping should be done through code only and not manually."
   ]
  },
  {
   "cell_type": "code",
   "execution_count": 139,
   "id": "cc16c148",
   "metadata": {},
   "outputs": [
    {
     "name": "stderr",
     "output_type": "stream",
     "text": [
      "C:\\Users\\Swetha\\AppData\\Local\\Temp/ipykernel_6712/2631137643.py:6: DeprecationWarning: executable_path has been deprecated, please pass in a Service object\n",
      "  driver=webdriver.Chrome(r'C:\\Users\\Swetha\\Downloads\\chromedriver_win32\\chromedriver.exe')\n"
     ]
    }
   ],
   "source": [
    "import selenium\n",
    "from selenium import webdriver\n",
    "import pandas as pd\n",
    "import warnings\n",
    "\n",
    "driver=webdriver.Chrome(r'C:\\Users\\Swetha\\Downloads\\chromedriver_win32\\chromedriver.exe')\n",
    "\n",
    "url = 'https://www.flipkart.com/apple-iphone-11-black-64-gb-includes- earpods-power\u0002adapter/p/itm0f37c2240b217?pid=MOBFKCTSVZAXUHGR&lid=LSTMOBFKC'\n",
    "driver.get(url)"
   ]
  },
  {
   "cell_type": "markdown",
   "id": "fe09ed80",
   "metadata": {},
   "source": [
    "Rating"
   ]
  },
  {
   "cell_type": "markdown",
   "id": "ddcd215f",
   "metadata": {},
   "source": [
    "Ratings from page 1"
   ]
  },
  {
   "cell_type": "code",
   "execution_count": 140,
   "id": "bf34dd27",
   "metadata": {},
   "outputs": [
    {
     "name": "stderr",
     "output_type": "stream",
     "text": [
      "C:\\Users\\Swetha\\AppData\\Local\\Temp/ipykernel_6712/3483899773.py:1: DeprecationWarning: find_elements_by_xpath is deprecated. Please use find_elements(by=By.XPATH, value=xpath) instead\n",
      "  rating = driver.find_elements_by_xpath(\"//div[@class='_3LWZlK _1BLPMq']\")\n"
     ]
    },
    {
     "data": {
      "text/plain": [
       "['5', '5', '5', '5', '5', '5', '5', '4', '5', '5']"
      ]
     },
     "execution_count": 140,
     "metadata": {},
     "output_type": "execute_result"
    }
   ],
   "source": [
    "rating = driver.find_elements_by_xpath(\"//div[@class='_3LWZlK _1BLPMq']\")\n",
    "len(rating)\n",
    "\n",
    "Rating = []\n",
    "\n",
    "for i in rating:\n",
    "    Rating.append(i.text)\n",
    "    \n",
    "Rating"
   ]
  },
  {
   "cell_type": "markdown",
   "id": "45da47f0",
   "metadata": {},
   "source": [
    "Ratings from page 2"
   ]
  },
  {
   "cell_type": "code",
   "execution_count": 141,
   "id": "48a24997",
   "metadata": {},
   "outputs": [
    {
     "name": "stderr",
     "output_type": "stream",
     "text": [
      "C:\\Users\\Swetha\\AppData\\Local\\Temp/ipykernel_6712/4135803146.py:1: DeprecationWarning: find_elements_by_xpath is deprecated. Please use find_elements(by=By.XPATH, value=xpath) instead\n",
      "  rating = driver.find_elements_by_xpath(\"//div[@class='_3LWZlK _1BLPMq']\")\n"
     ]
    },
    {
     "data": {
      "text/plain": [
       "['5', '5', '5', '5', '5', '5', '5', '5', '5', '5']"
      ]
     },
     "execution_count": 141,
     "metadata": {},
     "output_type": "execute_result"
    }
   ],
   "source": [
    "rating = driver.find_elements_by_xpath(\"//div[@class='_3LWZlK _1BLPMq']\")\n",
    "len(rating)\n",
    "\n",
    "Rating1 = []\n",
    "\n",
    "for i in rating:\n",
    "    Rating1.append(i.text)\n",
    "    \n",
    "Rating1"
   ]
  },
  {
   "cell_type": "markdown",
   "id": "51fe6900",
   "metadata": {},
   "source": [
    "Ratings from page 3"
   ]
  },
  {
   "cell_type": "code",
   "execution_count": 142,
   "id": "8dea31c5",
   "metadata": {},
   "outputs": [
    {
     "name": "stderr",
     "output_type": "stream",
     "text": [
      "C:\\Users\\Swetha\\AppData\\Local\\Temp/ipykernel_6712/3196697728.py:1: DeprecationWarning: find_elements_by_xpath is deprecated. Please use find_elements(by=By.XPATH, value=xpath) instead\n",
      "  rating = driver.find_elements_by_xpath(\"//div[@class='_3LWZlK _1BLPMq']\")\n"
     ]
    },
    {
     "data": {
      "text/plain": [
       "['5', '4', '5', '5', '5', '4', '5', '5', '5', '5']"
      ]
     },
     "execution_count": 142,
     "metadata": {},
     "output_type": "execute_result"
    }
   ],
   "source": [
    "rating = driver.find_elements_by_xpath(\"//div[@class='_3LWZlK _1BLPMq']\")\n",
    "len(rating)\n",
    "\n",
    "Rating2 = []\n",
    "\n",
    "for i in rating:\n",
    "    Rating2.append(i.text)\n",
    "    \n",
    "Rating2"
   ]
  },
  {
   "cell_type": "markdown",
   "id": "eea0a29d",
   "metadata": {},
   "source": [
    "Ratings from page 4"
   ]
  },
  {
   "cell_type": "code",
   "execution_count": 143,
   "id": "dc4f8d90",
   "metadata": {},
   "outputs": [
    {
     "name": "stderr",
     "output_type": "stream",
     "text": [
      "C:\\Users\\Swetha\\AppData\\Local\\Temp/ipykernel_6712/4031591679.py:1: DeprecationWarning: find_elements_by_xpath is deprecated. Please use find_elements(by=By.XPATH, value=xpath) instead\n",
      "  rating = driver.find_elements_by_xpath(\"//div[@class='_3LWZlK _1BLPMq']\")\n"
     ]
    },
    {
     "data": {
      "text/plain": [
       "['5', '4', '5', '5', '5', '5', '5', '5', '5']"
      ]
     },
     "execution_count": 143,
     "metadata": {},
     "output_type": "execute_result"
    }
   ],
   "source": [
    "rating = driver.find_elements_by_xpath(\"//div[@class='_3LWZlK _1BLPMq']\")\n",
    "len(rating)\n",
    "\n",
    "Rating3 = []\n",
    "\n",
    "for i in rating:\n",
    "    Rating3.append(i.text)\n",
    "    \n",
    "Rating3"
   ]
  },
  {
   "cell_type": "code",
   "execution_count": null,
   "id": "c774a355",
   "metadata": {},
   "outputs": [],
   "source": [
    "Ratings from page 5"
   ]
  },
  {
   "cell_type": "code",
   "execution_count": 144,
   "id": "06346478",
   "metadata": {},
   "outputs": [
    {
     "name": "stderr",
     "output_type": "stream",
     "text": [
      "C:\\Users\\Swetha\\AppData\\Local\\Temp/ipykernel_6712/2936158966.py:1: DeprecationWarning: find_elements_by_xpath is deprecated. Please use find_elements(by=By.XPATH, value=xpath) instead\n",
      "  rating = driver.find_elements_by_xpath(\"//div[@class='_3LWZlK _1BLPMq']\")\n"
     ]
    },
    {
     "data": {
      "text/plain": [
       "['5', '4', '5', '5', '5', '4', '5', '5', '5', '5']"
      ]
     },
     "execution_count": 144,
     "metadata": {},
     "output_type": "execute_result"
    }
   ],
   "source": [
    "rating = driver.find_elements_by_xpath(\"//div[@class='_3LWZlK _1BLPMq']\")\n",
    "len(rating)\n",
    "\n",
    "Rating4 = []\n",
    "\n",
    "for i in rating:\n",
    "    Rating4.append(i.text)\n",
    "    \n",
    "Rating4"
   ]
  },
  {
   "cell_type": "code",
   "execution_count": 145,
   "id": "907a8ea4",
   "metadata": {},
   "outputs": [
    {
     "data": {
      "text/plain": [
       "(10, 10, 10, 9, 10)"
      ]
     },
     "execution_count": 145,
     "metadata": {},
     "output_type": "execute_result"
    }
   ],
   "source": [
    "len(Rating),len(Rating1),len(Rating2),len(Rating3),len(Rating4)"
   ]
  },
  {
   "cell_type": "markdown",
   "id": "b04ea077",
   "metadata": {},
   "source": [
    "Review Summary"
   ]
  },
  {
   "cell_type": "markdown",
   "id": "1d50603a",
   "metadata": {},
   "source": [
    "Review Summary from page 1"
   ]
  },
  {
   "cell_type": "code",
   "execution_count": 146,
   "id": "85c702e2",
   "metadata": {},
   "outputs": [
    {
     "name": "stderr",
     "output_type": "stream",
     "text": [
      "C:\\Users\\Swetha\\AppData\\Local\\Temp/ipykernel_6712/3765914937.py:1: DeprecationWarning: find_elements_by_xpath is deprecated. Please use find_elements(by=By.XPATH, value=xpath) instead\n",
      "  review_summary = driver.find_elements_by_xpath(\"//p[@class='_2-N8zT']\")\n"
     ]
    },
    {
     "data": {
      "text/plain": [
       "['Brilliant',\n",
       " 'Simply awesome',\n",
       " 'Best in the market!',\n",
       " 'Perfect product!',\n",
       " 'Fabulous!',\n",
       " 'Worth every penny',\n",
       " 'Great product',\n",
       " 'Good choice',\n",
       " 'Highly recommended',\n",
       " 'Worth every penny']"
      ]
     },
     "execution_count": 146,
     "metadata": {},
     "output_type": "execute_result"
    }
   ],
   "source": [
    "review_summary = driver.find_elements_by_xpath(\"//p[@class='_2-N8zT']\")\n",
    "len(review_summary)\n",
    "\n",
    "ReviewSummary = []\n",
    "\n",
    "for i in review_summary:\n",
    "    ReviewSummary.append(i.text)\n",
    "    \n",
    "ReviewSummary"
   ]
  },
  {
   "cell_type": "markdown",
   "id": "be08b382",
   "metadata": {},
   "source": [
    "Review Summary from page 2"
   ]
  },
  {
   "cell_type": "code",
   "execution_count": 147,
   "id": "00c6f76f",
   "metadata": {},
   "outputs": [
    {
     "name": "stderr",
     "output_type": "stream",
     "text": [
      "C:\\Users\\Swetha\\AppData\\Local\\Temp/ipykernel_6712/3098722719.py:1: DeprecationWarning: find_elements_by_xpath is deprecated. Please use find_elements(by=By.XPATH, value=xpath) instead\n",
      "  review_summary = driver.find_elements_by_xpath(\"//p[@class='_2-N8zT']\")\n"
     ]
    },
    {
     "data": {
      "text/plain": [
       "['Highly recommended',\n",
       " 'Perfect product!',\n",
       " 'Perfect product!',\n",
       " 'Highly recommended',\n",
       " 'Perfect product!',\n",
       " 'Worth every penny',\n",
       " 'Classy product',\n",
       " 'Worth every penny',\n",
       " 'Terrific',\n",
       " 'Wonderful']"
      ]
     },
     "execution_count": 147,
     "metadata": {},
     "output_type": "execute_result"
    }
   ],
   "source": [
    "review_summary = driver.find_elements_by_xpath(\"//p[@class='_2-N8zT']\")\n",
    "len(review_summary)\n",
    "\n",
    "ReviewSummary1 = []\n",
    "\n",
    "for i in review_summary:\n",
    "    ReviewSummary1.append(i.text)\n",
    "    \n",
    "ReviewSummary1"
   ]
  },
  {
   "cell_type": "markdown",
   "id": "21af24e1",
   "metadata": {},
   "source": [
    "Review Summary from page 3"
   ]
  },
  {
   "cell_type": "code",
   "execution_count": 148,
   "id": "43ff36c6",
   "metadata": {},
   "outputs": [
    {
     "name": "stderr",
     "output_type": "stream",
     "text": [
      "C:\\Users\\Swetha\\AppData\\Local\\Temp/ipykernel_6712/1044091339.py:1: DeprecationWarning: find_elements_by_xpath is deprecated. Please use find_elements(by=By.XPATH, value=xpath) instead\n",
      "  review_summary = driver.find_elements_by_xpath(\"//p[@class='_2-N8zT']\")\n"
     ]
    },
    {
     "data": {
      "text/plain": [
       "['Worth every penny',\n",
       " 'Nice product',\n",
       " 'Perfect product!',\n",
       " 'Classy product',\n",
       " 'Brilliant',\n",
       " 'Good choice',\n",
       " 'Perfect product!',\n",
       " 'Wonderful',\n",
       " 'Terrific purchase',\n",
       " 'Terrific purchase']"
      ]
     },
     "execution_count": 148,
     "metadata": {},
     "output_type": "execute_result"
    }
   ],
   "source": [
    "review_summary = driver.find_elements_by_xpath(\"//p[@class='_2-N8zT']\")\n",
    "len(review_summary)\n",
    "\n",
    "ReviewSummary2 = []\n",
    "\n",
    "for i in review_summary:\n",
    "    ReviewSummary2.append(i.text)\n",
    "    \n",
    "ReviewSummary2"
   ]
  },
  {
   "cell_type": "markdown",
   "id": "dd252b00",
   "metadata": {},
   "source": [
    "Review Summary from page 4"
   ]
  },
  {
   "cell_type": "code",
   "execution_count": 149,
   "id": "3dfade96",
   "metadata": {},
   "outputs": [
    {
     "name": "stderr",
     "output_type": "stream",
     "text": [
      "C:\\Users\\Swetha\\AppData\\Local\\Temp/ipykernel_6712/2105442123.py:1: DeprecationWarning: find_elements_by_xpath is deprecated. Please use find_elements(by=By.XPATH, value=xpath) instead\n",
      "  review_summary = driver.find_elements_by_xpath(\"//p[@class='_2-N8zT']\")\n"
     ]
    },
    {
     "data": {
      "text/plain": [
       "['Simply awesome',\n",
       " 'Good quality product',\n",
       " 'Very poor',\n",
       " 'Perfect product!',\n",
       " 'Classy product',\n",
       " 'Fabulous!',\n",
       " 'Perfect product!',\n",
       " 'Must buy!',\n",
       " 'Mind-blowing purchase',\n",
       " 'Must buy!']"
      ]
     },
     "execution_count": 149,
     "metadata": {},
     "output_type": "execute_result"
    }
   ],
   "source": [
    "review_summary = driver.find_elements_by_xpath(\"//p[@class='_2-N8zT']\")\n",
    "len(review_summary)\n",
    "\n",
    "ReviewSummary3 = []\n",
    "\n",
    "for i in review_summary:\n",
    "    ReviewSummary3.append(i.text)\n",
    "    \n",
    "ReviewSummary3"
   ]
  },
  {
   "cell_type": "markdown",
   "id": "53e1ebf4",
   "metadata": {},
   "source": [
    "Review Summary from page 5"
   ]
  },
  {
   "cell_type": "code",
   "execution_count": 150,
   "id": "887ce995",
   "metadata": {},
   "outputs": [
    {
     "name": "stderr",
     "output_type": "stream",
     "text": [
      "C:\\Users\\Swetha\\AppData\\Local\\Temp/ipykernel_6712/2632108527.py:1: DeprecationWarning: find_elements_by_xpath is deprecated. Please use find_elements(by=By.XPATH, value=xpath) instead\n",
      "  review_summary = driver.find_elements_by_xpath(\"//p[@class='_2-N8zT']\")\n"
     ]
    },
    {
     "data": {
      "text/plain": [
       "['Great product',\n",
       " 'Very Good',\n",
       " 'Wonderful',\n",
       " 'Classy product',\n",
       " 'Awesome',\n",
       " 'Pretty good',\n",
       " 'Awesome',\n",
       " 'Classy product',\n",
       " 'Awesome',\n",
       " 'Perfect product!']"
      ]
     },
     "execution_count": 150,
     "metadata": {},
     "output_type": "execute_result"
    }
   ],
   "source": [
    "review_summary = driver.find_elements_by_xpath(\"//p[@class='_2-N8zT']\")\n",
    "len(review_summary)\n",
    "\n",
    "ReviewSummary4 = []\n",
    "\n",
    "for i in review_summary:\n",
    "    ReviewSummary4.append(i.text)\n",
    "    \n",
    "ReviewSummary4"
   ]
  },
  {
   "cell_type": "code",
   "execution_count": 151,
   "id": "4cfc5729",
   "metadata": {},
   "outputs": [
    {
     "data": {
      "text/plain": [
       "(10, 10, 10, 10, 10)"
      ]
     },
     "execution_count": 151,
     "metadata": {},
     "output_type": "execute_result"
    }
   ],
   "source": [
    "len(ReviewSummary),len(ReviewSummary1),len(ReviewSummary2),len(ReviewSummary3),len(ReviewSummary4)"
   ]
  },
  {
   "cell_type": "markdown",
   "id": "e553357b",
   "metadata": {},
   "source": [
    "Full Review"
   ]
  },
  {
   "cell_type": "markdown",
   "id": "34e48e27",
   "metadata": {},
   "source": [
    "Full Review from page 1"
   ]
  },
  {
   "cell_type": "code",
   "execution_count": 152,
   "id": "a1f1f69c",
   "metadata": {},
   "outputs": [
    {
     "name": "stderr",
     "output_type": "stream",
     "text": [
      "C:\\Users\\Swetha\\AppData\\Local\\Temp/ipykernel_6712/2680913977.py:1: DeprecationWarning: find_elements_by_xpath is deprecated. Please use find_elements(by=By.XPATH, value=xpath) instead\n",
      "  review = driver.find_elements_by_xpath(\"//div[@class='t-ZTKy']\")\n"
     ]
    },
    {
     "data": {
      "text/plain": [
       "['The Best Phone for the Money\\n\\nThe iPhone 11 offers superb cameras, a more durable design and excellent battery life for an affordable price.\\n\\nCompelling ultra-wide camera\\nNew Night mode is excellent\\nLong battery life',\n",
       " 'Really satisfied with the Product I received... It’s totally genuine and the packaging was also really good so if ur planning to buy just go for it.',\n",
       " 'Great iPhone very snappy experience as apple kind. Upgraded from iPhone 7.\\nPros\\n-Camera top class\\n- Battery top performed\\n-Chipset no need to say as apple kind\\n-Security as you expect from apple\\n- Display super bright industry leading colour\\naccuracy and super responsive\\n-Build quality as expect from apple sturdy\\npremium durable beautiful stylish.\\n-Os most stable os in smartphone industry\\n\\nCons\\n-No 5G\\n-Display is not based on OLED technology\\n-Charger headphones and 1 apple stic...\\nREAD MORE',\n",
       " 'Amazing phone with great cameras and better battery which gives you the best performance. I just love the camera .',\n",
       " 'This is my first iOS phone. I am very happy with this product. Very much satisfied with this. I love this phone.',\n",
       " 'Previously I was using one plus 3t it was a great phone\\nAnd then I decided to upgrade I am stuck between Samsung s10 plus or iPhone 11\\nI have seen the specs and everything were good except the display it’s somewhere between 720-1080 and it’s not even an amoled it’s an LCD display\\nBut I decided to go with iPhone because I have never used an IOS device I have Been an android user from the past 9 years I ordered IPhone 11 (128gb) product red\\nMy experience after using 3 weeks\\n1. The delivery ...\\nREAD MORE',\n",
       " 'Amazing Powerful and Durable Gadget.\\n\\nI’m am very happy with the camera picture quality, Amazing face id unlocked in dark room, Strong battery with perfect screen size as you can carry easily in pocket. This is my third iPhone.\\n\\nI shifted from android Samsung Note series to iPhone because of the strong build quality and peace of mind for next 3-4 years.\\n\\nDon’t think to much just go for it and I suggest you to go for minimum 128gb variant or more 256gb.\\n\\nI’ve attached my puppy pics and no fi...\\nREAD MORE',\n",
       " 'So far it’s been an AMAZING experience coming back to iOS after nearly a decade but it’s not as versatile as android though phone is sturdy dropped it accidentally a couple of times and nothing happened fortunately camera is awesome',\n",
       " 'What a camera .....just awesome ..you can feel this iPhone just awesome . Good for gaming also ...try pubg in hd it’s just wow',\n",
       " 'i11 is worthy to buy, too much happy with the product. Thank u flipkart I received the item on time..loved it..']"
      ]
     },
     "execution_count": 152,
     "metadata": {},
     "output_type": "execute_result"
    }
   ],
   "source": [
    "review = driver.find_elements_by_xpath(\"//div[@class='t-ZTKy']\")\n",
    "len(review)\n",
    "\n",
    "FullReview = []\n",
    "\n",
    "for i in review:\n",
    "    FullReview.append(i.text)\n",
    "    \n",
    "FullReview"
   ]
  },
  {
   "cell_type": "markdown",
   "id": "29622012",
   "metadata": {},
   "source": [
    "Full Review from page 2"
   ]
  },
  {
   "cell_type": "code",
   "execution_count": 153,
   "id": "673b0a48",
   "metadata": {},
   "outputs": [
    {
     "name": "stderr",
     "output_type": "stream",
     "text": [
      "C:\\Users\\Swetha\\AppData\\Local\\Temp/ipykernel_6712/2590251483.py:1: DeprecationWarning: find_elements_by_xpath is deprecated. Please use find_elements(by=By.XPATH, value=xpath) instead\n",
      "  review = driver.find_elements_by_xpath(\"//div[@class='t-ZTKy']\")\n"
     ]
    },
    {
     "data": {
      "text/plain": [
       "['iphone 11 is a very good phone to buy only if you can compromise for the display. The display on this is device is pretty good but you can get other options with better displays in this price segment.\\nIf you can survive with an HD+ LCD panel with thicker bezels and a notch up top then this is a very good phone for you.\\nCameras are awesome, battery backup excellent, great performance and a decent premium look. Good job Apple !',\n",
       " 'It’s a must buy who is looking for an upgrade from previous generation of iPhones. If you are using XR then still you can hold on for sometime and upgrade to 2020 model else this phone is a must buy . Camera quality is amazing and wide angle is something to count upon. Performance wise it’s amazing and feels premium while holding in hand. So a big YES for this device. Go for 128 GB variant as the 4K videos will occupy lots of space and the storage can get over very quickly. Try to buy it with...\\nREAD MORE',\n",
       " 'Value for money❤️❤️\\nIts awesome mobile phone in the world ...\\nDisplay was very good and bright ..\\nTrust me freinds you r never regret after Buying..\\nJust go for it....\\nI love this phone and i switch to iphone x to 11',\n",
       " \"It's my first time to use iOS phone and I am loving my upgradation 😍😍 I love the color, I love the assebility of the phone....I need to learn more about its functionality, but as far as I have seen, it's quite easy and it has a lot of functions to work on, specially if you are a content writer or a blogger you get a lot of content creation platforms and they are really amazing.\\n\\nThis phone not only for good quality photography but a lot of other task too.😍💯\",\n",
       " \"Iphone is just awesome.. battery backup is very very nice.. continuously for 10 hours we can use it.camera is just awesome.. display is just fab.i love it alot..i had to wait 15 days for it as i pre ordered it..overalll it's worth the price..these all images are clicked by my iPhone..and i love it.\",\n",
       " 'Best budget Iphone till date ❤️ go for it guys without second thought. Let me explain you guys about Camera, Display, battery, and performance.\\n\\nCamera: at this price range there is no comparison of camera, you’ll love the picture quality as well as video quality. I am a Vlogger I wanted an iPhone with 4k video by front camera and I got this phone and I am more than happy 😃\\n\\nBattery: I use this phone roughly as I am active social media person and I have a youtube channel. so the battery ba...\\nREAD MORE',\n",
       " 'Totally in love with this ❤ the camera quality is amazing just love it 😘😘😘 itsss dammnnnnnn amazing... Must buy iPhone 11 this is my best experience ever ☀👌👌🧡🧡🧡🧡🧡 thanku apple ❤',\n",
       " 'It’s been almost a month since I have been using this phone. I upgraded from an iPhone 8. The main issue with my 8 was battery and this phone is just awesome when it comes to battery. It lasts a day and a half for me with my regular use , internet connected always with 4g\\nCan’t move forward without saying this. Battery of this phone is a life saver when I am traveling or at work when I don’t get the option to charge\\nCamera is superb. Front cam selfies and back cam photos are just awesome.\\n...\\nREAD MORE',\n",
       " 'Really worth of money. i just love it. It is the best phone ever.',\n",
       " 'This is my first ever I phone. Before this I was using my google nexus 5. But moving from android to iOS is a great experience. It’s worth at this price. I will highly recommend it if you want to move to iOS. The best part of this phone is it’s camera and it’s battery life. This two things have won my heart. I loved it. Happy to have it in my hand. Still exploring its features. And can’t forget to mention Flipkart service. Very prompt service and fast delivery.']"
      ]
     },
     "execution_count": 153,
     "metadata": {},
     "output_type": "execute_result"
    }
   ],
   "source": [
    "review = driver.find_elements_by_xpath(\"//div[@class='t-ZTKy']\")\n",
    "len(review)\n",
    "\n",
    "FullReview1 = []\n",
    "\n",
    "for i in review:\n",
    "    FullReview1.append(i.text)\n",
    "    \n",
    "FullReview1"
   ]
  },
  {
   "cell_type": "markdown",
   "id": "e9579537",
   "metadata": {},
   "source": [
    "Full Review from page 3"
   ]
  },
  {
   "cell_type": "code",
   "execution_count": 154,
   "id": "64cfb3f3",
   "metadata": {
    "scrolled": true
   },
   "outputs": [
    {
     "name": "stderr",
     "output_type": "stream",
     "text": [
      "C:\\Users\\Swetha\\AppData\\Local\\Temp/ipykernel_6712/3332283058.py:1: DeprecationWarning: find_elements_by_xpath is deprecated. Please use find_elements(by=By.XPATH, value=xpath) instead\n",
      "  review = driver.find_elements_by_xpath(\"//div[@class='t-ZTKy']\")\n"
     ]
    },
    {
     "data": {
      "text/plain": [
       "['Smooth like butter, camera like fantabulous, sound is crystal clear & its red color is damn attractive, i am just loving it. Must buy if you love photography.\\n\\nLucky to get it in sale, thank you Flipkart.',\n",
       " 'Awesome Phone. Slightly high price but worth. Better than iPhone XR.\\nCamera is superb and wide angle camera is very clear.\\n12MP selfie camera is also very good.\\nA13 Chip gives a very good and smooth performance.',\n",
       " 'Battery backup is extraordinary, camera is decent & performance offered by A13 bionic is awsome. The display is good in practical usage like the visibility of display is very good in direct sun light compare to pro models. Iam extremely satisfied for the money I spent.',\n",
       " 'Superb Product !!!\\nA big and worthy upgrade from mi 3S to iphone 11 .\\nTotally loved it !',\n",
       " 'I have migrated from OP 7pro... and trust me, iPhone 11 is totally worth it.. following are the reasons:-\\n1)there is ABSOLUTELY NO ISSUE WITH THE DISPLAY... its crisp, sharp and I found it to be much much better than OP7 pro. Netflix, Prime video all run crisply... you won’t miss a thing. True Tone works flawlessly...the display brightness is perfect. OP have not calibrated their screens properly.\\n2) iPhone 11 series have really good cameras... others have spoken in depth about them.\\n3) bat...\\nREAD MORE',\n",
       " 'Looking so good 👍 😍 super 👌 stylish 😎 phone\\nClean box 📦 good 👍 delivery 👌 fast delivery\\nOriginal box Original iphone 📱 👌 😍😍😍',\n",
       " 'After 1 month use I found camera quality best compared to my previous Samsung note 10+.Display not good as note 10 also charging too slow.Apple should add fast charger like 11 plus and pro.Best phone for daily use',\n",
       " 'I just directly switch from iphone 6s to iphone 11 .The best premium smartphone I recommend to everyone. Excellent quality and colors the iphone have in 11 series.\\nCamera quality is just awesome and the major feel when we hold in our hands. The sound quality and volume is also higher then the previous models.\\nI will recommend to buy iphone 11 instead of pro models , there is nothing much difference as this model contains everything which fulfill our needs.\\n\\nOnly one thing that I dislike abo...\\nREAD MORE',\n",
       " 'Upgraded from iphone 6 to 11 best phone for iphone users battery is much better than other iphones camera is awesome love to use it.camera is so clear in night.',\n",
       " 'The built quality is not very premium.\\nThe battery back is great .\\nThe LCD panel is not so sharp but the brightness level is very High .\\nCamera is super duper awesome.\\nThe red colour which people think is bright is actually very soothing and excellent colour to choose from .\\nThe A13 Bionic chip is really a flagship processor and can beat any phone which even has 12 gb ram .\\nCamera module is very great and looks very stylish.']"
      ]
     },
     "execution_count": 154,
     "metadata": {},
     "output_type": "execute_result"
    }
   ],
   "source": [
    "review = driver.find_elements_by_xpath(\"//div[@class='t-ZTKy']\")\n",
    "len(review)\n",
    "\n",
    "FullReview2 = []\n",
    "\n",
    "for i in review:\n",
    "    FullReview2.append(i.text)\n",
    "    \n",
    "FullReview2"
   ]
  },
  {
   "cell_type": "markdown",
   "id": "8f39b90f",
   "metadata": {},
   "source": [
    "Full Review from page 4"
   ]
  },
  {
   "cell_type": "code",
   "execution_count": 155,
   "id": "9138d193",
   "metadata": {},
   "outputs": [
    {
     "name": "stderr",
     "output_type": "stream",
     "text": [
      "C:\\Users\\Swetha\\AppData\\Local\\Temp/ipykernel_6712/3839718246.py:1: DeprecationWarning: find_elements_by_xpath is deprecated. Please use find_elements(by=By.XPATH, value=xpath) instead\n",
      "  review = driver.find_elements_by_xpath(\"//div[@class='t-ZTKy']\")\n"
     ]
    },
    {
     "data": {
      "text/plain": [
       "['Really good actually this is my first apple product am using its really awesome performance wise excellent. Am really happy with this iphone11',\n",
       " 'it is very good at performance. Camera is best like before and very smooth response even in water. Don’t buy 12 mini buy iPhone 11 , it is far better than 12 mini believe me ! Have a nice day \\uf8ff ☺️',\n",
       " 'Reviewing again after 5 months. At the beginning the battery and performance was good but it degraded soon. Also I was facing heating issues. The mobile will heat up like a stove sometimes. You cannot even play Pubg even in low settings properly, performance is not a problem but heating is. Also if you play that game for 10 mins the brightness will be automatically down due to over heating even when the auto brightness is set to off. This will not be solved even if u manually increase the bri...\\nREAD MORE',\n",
       " 'In love with this iphone great performance,camera ,battery everything. Go for it have a uncompareble battery backup, no doubts in iPhone camera here You can see the picture which is shot on my iPhone In love with this iphone great performance,camera ,battery everything. Go for it have a uncompareble battery backup, no doubts in iPhone camera here You can see the picture which is shot on my iPhone In love with this iphone great performance,camera ,battery everything. Go for it have a uncompare...\\nREAD MORE',\n",
       " 'We are on apple ecosystem for almost eight years now with couple of iPads and iPhones, including Xr.\\n\\nBought iPhone 11 as a gift to my daughter who loves it. We chose for a purple coloured one. Believe me it is gorgeous and towards the lighter shade. Dazzling and brilliant!\\n\\nThe phone is great and does excellent RAM management like any other Apple device.\\n\\nThe screen, though a LCD and lesser ppi as compared to other flagship phones of competitor brands, is a delight to watch with perfect re...\\nREAD MORE',\n",
       " 'Everything is perfect pictures come out so clearly and at first I wasn’t sure when I got it then when I started to use it and get the hang of it it was amazing!! I can’t wait to see what the next future phones will be like. The screen display on this bad boy are unbelievable they are so clear and never fail me. The performance is super cool there is a lot of cool features as well I like this phone because I feel that it is easy to use and one of my favorite things about this phone is the Face...\\nREAD MORE',\n",
       " 'It is just awesome mobile for this price from Apple,\\n\\nAfter 10 days review\\n\\nBattery enough for 1 day even 24*7 Internet will be on and mostly internet usage\\n\\nCamera is just awesome cool , android 64 MP is equal to this just 12 MP\\n\\nA13 Bionic chip will give more high performance without hanging\\n\\nAudio stereo speakers will give Dolby atoms sound with crystal clear\\n\\nVideo recording is like cinematic shots of every sec can be a 4K 60fps. Just awesome this phone\\niPhone 11 loved one',\n",
       " 'Best Apple iPhone that i have bought at a very reasonable price, camera quality is next level just awesome n of superior quality android phones not even close(RIP) to that and also battery is really good but packaging by Flipkart of iPhone was very poor of such a expensive product, firstly im bit worried about the quality of product if i purchased it through online how was the product but i think now this was mine best decision to bought it through Flipkart online because i got genuine Apple...\\nREAD MORE',\n",
       " 'Best Quality Product OF iPhone Series , Sound Quality & Camera quality is very awesome, Battery Life is very Sufficient for 24 hr Backup With Full Internet Access , I love this this Product too much , It is very fast & making me Very fast in all my daily Routine\\nHighlights;\\n1.Camera: 5 STAR\\n2.Video Recording: 5 star\\n3.Night mODE sHOOTING & Camera:4 star\\n4. Audio Quality: Awesome\\n5. Battery : 5 Star\\n6. Touch:5 Star\\n7. Processor: Very Fast\\nThe M...\\nREAD MORE',\n",
       " 'I rate this product 5* as it has got amazing user experience with the best performing A13 bionic processor. The screen responds and graphics rendering is top notch. With casual gaming and internet browsing, the battery lasts for approx. 1 day. Camera is very good. You will fall in love with the portrait mode. You can call me a loyal Apple customer or whatever but I won’t stop praising the products and overall experience. That user experience matters and is worth every penny you pay.\\n\\nBelow ar...\\nREAD MORE']"
      ]
     },
     "execution_count": 155,
     "metadata": {},
     "output_type": "execute_result"
    }
   ],
   "source": [
    "review = driver.find_elements_by_xpath(\"//div[@class='t-ZTKy']\")\n",
    "len(review)\n",
    "\n",
    "FullReview3 = []\n",
    "\n",
    "for i in review:\n",
    "    FullReview3.append(i.text)\n",
    "    \n",
    "FullReview3"
   ]
  },
  {
   "cell_type": "markdown",
   "id": "6e68508d",
   "metadata": {},
   "source": [
    "Full Review from page 5"
   ]
  },
  {
   "cell_type": "code",
   "execution_count": 156,
   "id": "b98ceb03",
   "metadata": {},
   "outputs": [
    {
     "name": "stderr",
     "output_type": "stream",
     "text": [
      "C:\\Users\\Swetha\\AppData\\Local\\Temp/ipykernel_6712/3412626284.py:1: DeprecationWarning: find_elements_by_xpath is deprecated. Please use find_elements(by=By.XPATH, value=xpath) instead\n",
      "  review = driver.find_elements_by_xpath(\"//div[@class='t-ZTKy']\")\n"
     ]
    },
    {
     "data": {
      "text/plain": [
       "[\"Again back to apple iphone after a gap of 2-3 years. It's pleasure to use iOS and the quality product by Apple. Iphone 11 still works like a beast in 2021 also. It really capable of doing day to day usage as well as hard core gaming. Battery is awesome. I'm really too much satisfied with it. Apart fto the very gorgious IPS LCD (AMOLED will be better) everything is mind boggling. Iphone💕.\",\n",
       " 'impressive super phone and best in class camera ,sound and face unlock is super fast just see and phone is unlock and fast in daily apps use',\n",
       " 'Super and marvellous phone look very cute and nice sound. I love this phone i think white is good colur.Excellent camer 5*😍😘♥️♥️',\n",
       " 'Well while switching from android to iOS the first thing you need to be careful about is that you will loose all your whatsapp chat backups as both are different operating systems. Camera clarity is awesome and though being an lcd screen clarity and resolution is good. Battery backup is also good unlike previous gen iPhone. So far the experience is good will Padre after a few months of usage.\\n\\nP.S the black is more of a dark grey shade and not jet black',\n",
       " 'Very excited to have this phone. This phone has the real power unlike the android phones having SD 855 . The battery life is very good and the camera quality is excellent as comapred to redmi and other phones except google pixel. I M enjoying every single bit of it. Would recommed only if you have the budget.',\n",
       " 'I was using Iphone 6s and also Oneplus 6t. Both mobiles were perfectly alright in Photos, gaming, and smooth interface . My 6s mobile getting battery issue. thought upgrade to 11. Really like this mobile of its Internal storage (compare to 6s) , camera and its touch feeling. Its a worth buying mobile for me.',\n",
       " 'I am using this phone for 5 days and its one of the best camera out there ❤️ the screen is not oled and i am coming from iphone xs so its little bit not up to the mark i would say\\nBut overall value for money💕😍the battery back up is far better than my iphone xs and its worth in my apple ecosystem💫❤️if u are an apple User and have the eco system then go for it❤️though i will be getting the new iphone but its pretty good💫',\n",
       " 'Best and amazing product.....phone looks so premium.... battary is also good as expected .... Wide angle camera is so addictive ...if you are a IOS lover....then this phone will be the best choice for you all!!💯🔥',\n",
       " 'Always love the apple products, upgraded from old iPhone 6S plus to this after having my first baby. I just love to click baby’s photos with it. Overall I just love this phone. Battery back up is okay, sound quality is good. Haven’t tested yet waterproof yet. Only one thing I hate is apple could have given charger & headphones in box.',\n",
       " 'Value for money\\n5 star rating\\nExcellent camera\\nBattery backup full day in single charge.\\n\\nTougher and water resistant design, glossy back.\\nThe screen has excellent brightness and contrast.\\nApple A13 Bionic is the fastest smartphone chip on the planet.\\nExcellent battery life, fast charging support.\\nStereo speakers with great quality.']"
      ]
     },
     "execution_count": 156,
     "metadata": {},
     "output_type": "execute_result"
    }
   ],
   "source": [
    "review = driver.find_elements_by_xpath(\"//div[@class='t-ZTKy']\")\n",
    "len(review)\n",
    "\n",
    "FullReview4 = []\n",
    "\n",
    "for i in review:\n",
    "    FullReview4.append(i.text)\n",
    "    \n",
    "FullReview4"
   ]
  },
  {
   "cell_type": "code",
   "execution_count": 157,
   "id": "145a86a9",
   "metadata": {},
   "outputs": [
    {
     "data": {
      "text/plain": [
       "(10, 10, 10, 10, 10)"
      ]
     },
     "execution_count": 157,
     "metadata": {},
     "output_type": "execute_result"
    }
   ],
   "source": [
    "len(FullReview),len(FullReview1),len(FullReview2),len(FullReview3),len(FullReview4)"
   ]
  },
  {
   "cell_type": "code",
   "execution_count": null,
   "id": "13088f1d",
   "metadata": {},
   "outputs": [],
   "source": []
  },
  {
   "cell_type": "markdown",
   "id": "6e73f068",
   "metadata": {},
   "source": [
    "Q6: Scrape data for first 100 sneakers you find when you visit flipkart.com andsearch for “sneakers” in the\n",
    "search field.\n",
    "You have to scrape 4 attributes of each sneaker:\n",
    "1. Brand\n",
    "2. Product Description\n",
    "3. Price\n",
    "As shown in the below image, you have to scrape the tick marked attributes"
   ]
  },
  {
   "cell_type": "code",
   "execution_count": 69,
   "id": "b2a2809c",
   "metadata": {},
   "outputs": [
    {
     "name": "stderr",
     "output_type": "stream",
     "text": [
      "C:\\Users\\Swetha\\AppData\\Local\\Temp/ipykernel_15420/4040530136.py:6: DeprecationWarning: executable_path has been deprecated, please pass in a Service object\n",
      "  driver=webdriver.Chrome(r'C:\\Users\\Swetha\\Downloads\\chromedriver_win32\\chromedriver.exe')\n"
     ]
    }
   ],
   "source": [
    "import selenium\n",
    "from selenium import webdriver\n",
    "import pandas as pd\n",
    "import warnings\n",
    "\n",
    "driver=webdriver.Chrome(r'C:\\Users\\Swetha\\Downloads\\chromedriver_win32\\chromedriver.exe')\n",
    "\n",
    "url = 'https://www.flipkart.com/'\n",
    "driver.get(url)"
   ]
  },
  {
   "cell_type": "code",
   "execution_count": 70,
   "id": "84d5fc05",
   "metadata": {
    "scrolled": true
   },
   "outputs": [
    {
     "name": "stderr",
     "output_type": "stream",
     "text": [
      "C:\\Users\\Swetha\\AppData\\Local\\Temp/ipykernel_15420/1620535755.py:1: DeprecationWarning: find_element_by_class_name is deprecated. Please use find_element(by=By.CLASS_NAME, value=name) instead\n",
      "  search_sneakers = driver.find_element_by_class_name('_3704LK')\n"
     ]
    }
   ],
   "source": [
    "search_sneakers = driver.find_element_by_class_name('_3704LK')\n",
    "search_sneakers\n",
    "\n",
    "search_sneakers.send_keys(\"Sneakers\")\n"
   ]
  },
  {
   "cell_type": "code",
   "execution_count": 71,
   "id": "bc08b486",
   "metadata": {
    "scrolled": true
   },
   "outputs": [
    {
     "name": "stderr",
     "output_type": "stream",
     "text": [
      "C:\\Users\\Swetha\\AppData\\Local\\Temp/ipykernel_15420/4041978390.py:1: DeprecationWarning: find_elements_by_xpath is deprecated. Please use find_elements(by=By.XPATH, value=xpath) instead\n",
      "  search_button = driver.find_elements_by_xpath(\"/html/body/div[1]/div/div[1]/div[1]/div[2]/div[2]/form/div/button\")\n"
     ]
    },
    {
     "data": {
      "text/plain": [
       "[<selenium.webdriver.remote.webelement.WebElement (session=\"45a0638c81c5741968b00369e1f71833\", element=\"ca8afb14-c4a6-4c26-9756-2779bab90d74\")>]"
      ]
     },
     "execution_count": 71,
     "metadata": {},
     "output_type": "execute_result"
    }
   ],
   "source": [
    "search_button = driver.find_elements_by_xpath(\"/html/body/div[1]/div/div[1]/div[1]/div[2]/div[2]/form/div/button\")\n",
    "\n",
    "search_button"
   ]
  },
  {
   "cell_type": "code",
   "execution_count": 72,
   "id": "25fda821",
   "metadata": {},
   "outputs": [],
   "source": [
    "search_sneakers.click()"
   ]
  },
  {
   "cell_type": "markdown",
   "id": "1951f75b",
   "metadata": {},
   "source": [
    "Brands from page 1"
   ]
  },
  {
   "cell_type": "code",
   "execution_count": 42,
   "id": "efc66ea6",
   "metadata": {},
   "outputs": [
    {
     "name": "stderr",
     "output_type": "stream",
     "text": [
      "C:\\Users\\Swetha\\AppData\\Local\\Temp/ipykernel_15420/2144139643.py:1: DeprecationWarning: find_elements_by_xpath is deprecated. Please use find_elements(by=By.XPATH, value=xpath) instead\n",
      "  brand = driver.find_elements_by_xpath(\"//div[@class='_2WkVRV']\")\n"
     ]
    },
    {
     "data": {
      "text/plain": [
       "['HIGHLANDER',\n",
       " 'HIGHLANDER',\n",
       " 'DUNKASTON',\n",
       " 'World Wear Footwear',\n",
       " 'BRUTON',\n",
       " 'Chevit',\n",
       " 'KWIK FIT',\n",
       " 'SWIGGY',\n",
       " 'BRUTON',\n",
       " 'World Wear Footwear',\n",
       " 'corsac',\n",
       " 'HIGHLANDER',\n",
       " 'BRUTON',\n",
       " 'D-SNEAKERZ',\n",
       " 'Magnolia',\n",
       " 'T-ROCK',\n",
       " 'BRUTON',\n",
       " 'Shoes Bank',\n",
       " 'URBANBOX',\n",
       " 'ASTEROID',\n",
       " 'Labbin',\n",
       " 'Magnolia',\n",
       " 'Kraasa',\n",
       " 'JEXMAN',\n",
       " 'TR',\n",
       " 'RapidBox',\n",
       " 'Rzisbo',\n",
       " 'BIRDE',\n",
       " 'Stefano Rads',\n",
       " 'ASTEROID',\n",
       " 'CLYMB',\n",
       " 'PUMA',\n",
       " 'Airland',\n",
       " 'SCATCHITE',\n",
       " 'Zsyto',\n",
       " 'BRUTON',\n",
       " 'Stinson',\n",
       " 'BRUTON',\n",
       " 'luxury fashion',\n",
       " 'Veraa Shoes']"
      ]
     },
     "execution_count": 42,
     "metadata": {},
     "output_type": "execute_result"
    }
   ],
   "source": [
    "brand = driver.find_elements_by_xpath(\"//div[@class='_2WkVRV']\")\n",
    "len(brand)\n",
    "\n",
    "Brand = []\n",
    "\n",
    "for i in brand:\n",
    "    Brand.append(i.text)\n",
    "Brand"
   ]
  },
  {
   "cell_type": "markdown",
   "id": "59656775",
   "metadata": {},
   "source": [
    "Brands from page 2"
   ]
  },
  {
   "cell_type": "code",
   "execution_count": 51,
   "id": "93d78c6e",
   "metadata": {},
   "outputs": [
    {
     "name": "stderr",
     "output_type": "stream",
     "text": [
      "C:\\Users\\Swetha\\AppData\\Local\\Temp/ipykernel_15420/4068620232.py:1: DeprecationWarning: find_elements_by_xpath is deprecated. Please use find_elements(by=By.XPATH, value=xpath) instead\n",
      "  brand1 = driver.find_elements_by_xpath(\"//div[@class='_2WkVRV']\")\n"
     ]
    },
    {
     "data": {
      "text/plain": [
       "['aadi',\n",
       " 'Chevit',\n",
       " 'Echor',\n",
       " 'HIGHLANDER',\n",
       " 'World Wear Footwear',\n",
       " 'Kzaara',\n",
       " 'India hub',\n",
       " 'RapidBox',\n",
       " 'Xtoon',\n",
       " 'World Wear Footwear',\n",
       " 'Magnolia',\n",
       " 'BIRDE',\n",
       " 'India hub',\n",
       " 'Kraasa',\n",
       " 'Chevit',\n",
       " 'SWIGGY',\n",
       " 'luxury fashion',\n",
       " 'D-SNEAKERZ',\n",
       " 'RANZAG',\n",
       " 'KWIK FIT',\n",
       " 'BRUTON',\n",
       " 'BRUTON',\n",
       " 'BIRDE',\n",
       " 'RapidBox',\n",
       " 'Robbie jones',\n",
       " 'Chevit',\n",
       " 'Bretton',\n",
       " 'HIGHLANDER',\n",
       " 'CLYMB',\n",
       " 'Elevarse',\n",
       " 'Brainer',\n",
       " 'HIGHLANDER',\n",
       " 'Dizzler',\n",
       " 'Echor',\n",
       " 'Rzisbo',\n",
       " 'HIGHLANDER',\n",
       " 'LE GREEM',\n",
       " 'Ktiz',\n",
       " 'ASIAN',\n",
       " 'HIGHLANDER']"
      ]
     },
     "execution_count": 51,
     "metadata": {},
     "output_type": "execute_result"
    }
   ],
   "source": [
    "brand1 = driver.find_elements_by_xpath(\"//div[@class='_2WkVRV']\")\n",
    "len(brand1)\n",
    "\n",
    "Brand1 = []\n",
    "\n",
    "for i in brand1:\n",
    "    Brand1.append(i.text)\n",
    "Brand1"
   ]
  },
  {
   "cell_type": "markdown",
   "id": "cf8ce29b",
   "metadata": {},
   "source": [
    "Brands from page 3"
   ]
  },
  {
   "cell_type": "code",
   "execution_count": 52,
   "id": "cf760cb4",
   "metadata": {},
   "outputs": [
    {
     "name": "stderr",
     "output_type": "stream",
     "text": [
      "C:\\Users\\Swetha\\AppData\\Local\\Temp/ipykernel_15420/1136397244.py:1: DeprecationWarning: find_elements_by_xpath is deprecated. Please use find_elements(by=By.XPATH, value=xpath) instead\n",
      "  brand2 = driver.find_elements_by_xpath(\"//div[@class='_2WkVRV']\")\n"
     ]
    },
    {
     "data": {
      "text/plain": [
       "['Robbie jones',\n",
       " 'Robbie jones',\n",
       " 'WHITE WALKERS',\n",
       " 'HIGHLANDER',\n",
       " 'RapidBox',\n",
       " 'CLYMB',\n",
       " 'Noztile',\n",
       " 'RapidBox',\n",
       " 'Trendmode',\n",
       " 'bluemaker',\n",
       " 'Vellinto',\n",
       " 'BIRDE',\n",
       " 'Numenzo',\n",
       " 'Zorth',\n",
       " 'Chevit',\n",
       " 'SWIGGY',\n",
       " 'PUMA',\n",
       " 'Hida',\n",
       " 'aadi',\n",
       " 'RapidBox',\n",
       " 'Numenzo',\n",
       " 'KNIGHT WALKERS',\n",
       " 'BAUCHHAAR',\n",
       " 'HIGHLANDER',\n",
       " 'PUMA',\n",
       " 'AMICO',\n",
       " 'ESSENCE',\n",
       " 'HIGHLANDER',\n",
       " 'HOTSTYLE',\n",
       " 'Deals4you',\n",
       " 'Zorth',\n",
       " 'HIGHLANDER',\n",
       " 'EMPTILE',\n",
       " 'Robbie jones',\n",
       " 'RODDICK SHOES',\n",
       " 'HIGHLANDER',\n",
       " 'Zixer',\n",
       " 'NIKE',\n",
       " 'DUNKASTON',\n",
       " 'HIGHLANDER']"
      ]
     },
     "execution_count": 52,
     "metadata": {},
     "output_type": "execute_result"
    }
   ],
   "source": [
    "brand2 = driver.find_elements_by_xpath(\"//div[@class='_2WkVRV']\")\n",
    "len(brand2)\n",
    "\n",
    "Brand2 = []\n",
    "\n",
    "for i in brand2:\n",
    "    Brand2.append(i.text)\n",
    "Brand2"
   ]
  },
  {
   "cell_type": "code",
   "execution_count": 53,
   "id": "e7688066",
   "metadata": {},
   "outputs": [
    {
     "data": {
      "text/plain": [
       "(40, 40, 40)"
      ]
     },
     "execution_count": 53,
     "metadata": {},
     "output_type": "execute_result"
    }
   ],
   "source": [
    "len(Brand),len(Brand1),len(Brand2)"
   ]
  },
  {
   "cell_type": "markdown",
   "id": "eb273a7d",
   "metadata": {},
   "source": [
    "Product Description from page 1"
   ]
  },
  {
   "cell_type": "code",
   "execution_count": 77,
   "id": "57937a41",
   "metadata": {},
   "outputs": [
    {
     "name": "stderr",
     "output_type": "stream",
     "text": [
      "C:\\Users\\Swetha\\AppData\\Local\\Temp/ipykernel_15420/4118634599.py:1: DeprecationWarning: find_elements_by_xpath is deprecated. Please use find_elements(by=By.XPATH, value=xpath) instead\n",
      "  product_des = driver.find_elements_by_xpath(\"//a[@class='IRpwTa']\")\n"
     ]
    },
    {
     "data": {
      "text/plain": [
       "['Sneakers For Men',\n",
       " 'Sneakers For Men',\n",
       " 'Sneakers For Men',\n",
       " 'Sneakers For Men',\n",
       " 'Modern Trendy Sneakers Shoes Sneakers For Men',\n",
       " 'Super Stylish & Trendy Combo Pack of 02 Pairs Sneakers ...',\n",
       " 'Kwik FIT casual sneaker shoes and partywear shoes Casua...',\n",
       " 'Sneaker Sneakers For Men',\n",
       " '5011-Latest Collection Stylish Casual Loafer Sneakers S...',\n",
       " 'STYLISH MENS BLACK AND WHITE SNEAKER Sneakers For Men',\n",
       " 'Men White Solid Sneakers Sneakers For Men',\n",
       " 'Modern & Trendy Collection Combo Pack of 02 Shoes for M...',\n",
       " \"Casual , Partywear Sneakers Shoes For Men's And Boys Wh...\",\n",
       " 'Sneakers For Men',\n",
       " 'Men Blue Solid Sneakers Sneakers For Men',\n",
       " 'Lattest Sneakers Shoe Sneakers For Men',\n",
       " \"White Sneaker For Men's/Boy's Sneakers For Men\",\n",
       " 'Sneakers For Men',\n",
       " 'Sneakers For Men',\n",
       " 'Series 7 Sneakers For Men',\n",
       " 'Casual Loafers, Sneakers Shoes for Men Pack of 5 Combo(...',\n",
       " 'Sneakers For Men',\n",
       " 'Sneakers For Men',\n",
       " \"Original Luxury Branded Fashionable Men's Casual Walkin...\",\n",
       " 'Sneakers For Men',\n",
       " 'Sneakers For Men',\n",
       " 'sneaker men red 1258 - 6 Sneakers For Men',\n",
       " 'Sneakers For Men',\n",
       " 'Sneakers For Men',\n",
       " 'Sneakers For Men',\n",
       " 'Sneakers For Men',\n",
       " 'Sneakers For Men']"
      ]
     },
     "execution_count": 77,
     "metadata": {},
     "output_type": "execute_result"
    }
   ],
   "source": [
    "product_des = driver.find_elements_by_xpath(\"//a[@class='IRpwTa']\")\n",
    "len(product_des)\n",
    "\n",
    "Product_Description = []\n",
    "\n",
    "for i in product_des:\n",
    "    Product_Description.append(i.text)\n",
    "    \n",
    "Product_Description"
   ]
  },
  {
   "cell_type": "markdown",
   "id": "537aaf47",
   "metadata": {},
   "source": [
    "Product Description from page 2"
   ]
  },
  {
   "cell_type": "code",
   "execution_count": 78,
   "id": "e274ddfe",
   "metadata": {},
   "outputs": [
    {
     "name": "stderr",
     "output_type": "stream",
     "text": [
      "C:\\Users\\Swetha\\AppData\\Local\\Temp/ipykernel_15420/3325732001.py:1: DeprecationWarning: find_elements_by_xpath is deprecated. Please use find_elements(by=By.XPATH, value=xpath) instead\n",
      "  product_des1 = driver.find_elements_by_xpath(\"//a[@class='IRpwTa']\")\n"
     ]
    },
    {
     "data": {
      "text/plain": [
       "['Modern & Trendy Collection Combo Pack of 02 Shoes for M...',\n",
       " \"Men's Sneakers Fashion Lightweight Running Shoes Tennis...\",\n",
       " 'Sneakers For Men',\n",
       " 'Latest Collection-1227 Stylish Casual Sports Sneakers F...',\n",
       " 'Sneakers For Men',\n",
       " 'Luxury Fashionable casual sneaker shoes Sneakers For Me...',\n",
       " \"white Casual shoes,Sneakers for men's Sneakers For Men\",\n",
       " 'Men 5014 Latest Collection Stylish Casual Sports Loafer...',\n",
       " 'Shark-41 Sneakers For Men',\n",
       " 'Sneakers For Men',\n",
       " 'casual sneaker shoes for men kardam&sons Sneakers For M...',\n",
       " 'Unique & Perfect Collection Combo Pack of 02 Shoes for ...',\n",
       " 'Stylish Comfortable Lightweight, Breathable Walking Sho...',\n",
       " 'Luxury Fashionable casual shoes Sneakers For Men',\n",
       " \"Casual , Partywear Sneakers Shoes For Men's And Boys Wh...\",\n",
       " 'Running Shoes Stylish Comfortable Shoes For Men Sneaker...',\n",
       " 'Casual Loafers, Sneakers Shoes for Men Pack of 5 Combo(...',\n",
       " 'Combo Pack Of 2 Latest Stylish Casual Shoes for Men Lac...',\n",
       " 'Combo Pack Of 4 Casual Shoes Loafer Shoes Sneakers For ...',\n",
       " 'Sports Running Shoes Sneakers For Men',\n",
       " 'Sneakers For Men',\n",
       " 'Perfect & Affordable Combo Pack of 02 Pairs Sneakers Ou...',\n",
       " 'Sneakers For Men',\n",
       " \"Perfect Sports Shoes for Men's Running ,Cycling & Trekk...\",\n",
       " 'Casual Sneakrs For Men Sneakers For Men',\n",
       " 'Sneakers For Men',\n",
       " 'Sneakers For Men',\n",
       " 'Sneakers For Men',\n",
       " 'Sneakers For Men',\n",
       " 'Comfortable & Ultra Light Weight Sneaker Sneakers For M...',\n",
       " 'Skypy-31 Walking Shoes,Training Shoes,Sneakers,Loafers,...',\n",
       " 'Sneakers For Men',\n",
       " 'Sneakers For Men']"
      ]
     },
     "execution_count": 78,
     "metadata": {},
     "output_type": "execute_result"
    }
   ],
   "source": [
    "product_des1 = driver.find_elements_by_xpath(\"//a[@class='IRpwTa']\")\n",
    "len(product_des1)\n",
    "\n",
    "Product_Description1 = []\n",
    "\n",
    "for i in product_des1:\n",
    "    Product_Description1.append(i.text)\n",
    "    \n",
    "Product_Description1"
   ]
  },
  {
   "cell_type": "markdown",
   "id": "0b79bd44",
   "metadata": {},
   "source": [
    "Product Description from page 3"
   ]
  },
  {
   "cell_type": "code",
   "execution_count": 79,
   "id": "2a9d35ed",
   "metadata": {},
   "outputs": [
    {
     "name": "stderr",
     "output_type": "stream",
     "text": [
      "C:\\Users\\Swetha\\AppData\\Local\\Temp/ipykernel_15420/3137522505.py:1: DeprecationWarning: find_elements_by_xpath is deprecated. Please use find_elements(by=By.XPATH, value=xpath) instead\n",
      "  product_des2 = driver.find_elements_by_xpath(\"//a[@class='IRpwTa']\")\n"
     ]
    },
    {
     "data": {
      "text/plain": [
       "['Sneakers For Men',\n",
       " 'Casual Sneakers White Shoes For Men Sneakers For Men',\n",
       " 'Sneakers For Men',\n",
       " 'Sneakers For Men',\n",
       " 'Stylish & Trending Outdoor Walking Comfortable Sneakers...',\n",
       " 'Sneakers For Men',\n",
       " 'Casual Shoes , Snekers Shoes,Lace-Up PVC Shoes For Men ...',\n",
       " 'Sneakers For Men',\n",
       " 'casual for men Sneakers For Men',\n",
       " 'Sneakers For Men',\n",
       " 'Sneakers For Men',\n",
       " 'Sneakers For Men',\n",
       " 'Sneakers For Men',\n",
       " '411 Casual Sneakers For Men',\n",
       " 'Sneakers For Men',\n",
       " '494 Perfect Sports Shoes for Running Training Hikking &...',\n",
       " 'Stylish Comfortable Lightweight, Breathable Walking Sho...',\n",
       " 'CR-1 Sneakers For Men',\n",
       " 'Sneakers For Men',\n",
       " 'New Fashion Outdoor Trendy Lightweight Casual,Canvas St...',\n",
       " 'sports shoes for men | Latest Stylish Casual sneakers f...',\n",
       " 'Sneakers For Men',\n",
       " 'Sneakers For Men',\n",
       " 'all white heartbeat casual shoe Sneakers For Men',\n",
       " 'Sneakers For Men',\n",
       " 'Fashion Outdoor Canvas Casual Light Weight Lace-up Even...',\n",
       " 'Court Vision Low Better Sneakers For Men',\n",
       " 'Sneakers For Men',\n",
       " 'Sneakers For Men',\n",
       " 'Sneakers For Men',\n",
       " 'Stylish White Casual Sneakers shoes Men and Boys Sneake...',\n",
       " 'Puma Smash v2 L Perf Puma White-Puma Whi Sneakers For M...']"
      ]
     },
     "execution_count": 79,
     "metadata": {},
     "output_type": "execute_result"
    }
   ],
   "source": [
    "product_des2 = driver.find_elements_by_xpath(\"//a[@class='IRpwTa']\")\n",
    "len(product_des2)\n",
    "\n",
    "Product_Description2 = []\n",
    "\n",
    "for i in product_des2:\n",
    "    Product_Description2.append(i.text)\n",
    "    \n",
    "Product_Description2"
   ]
  },
  {
   "cell_type": "code",
   "execution_count": 80,
   "id": "470027b0",
   "metadata": {},
   "outputs": [
    {
     "data": {
      "text/plain": [
       "(32, 33, 32)"
      ]
     },
     "execution_count": 80,
     "metadata": {},
     "output_type": "execute_result"
    }
   ],
   "source": [
    "len(Product_Description),len(Product_Description1),len(Product_Description2)"
   ]
  },
  {
   "cell_type": "code",
   "execution_count": null,
   "id": "979209db",
   "metadata": {},
   "outputs": [],
   "source": []
  },
  {
   "cell_type": "markdown",
   "id": "ad94e7a4",
   "metadata": {},
   "source": [
    "Q7: Go to the link - https://www.myntra.com/shoes\n",
    "Set Price filter to “Rs. 7149 to Rs. 14099 ” , Color filter to “Black”, as shown inthe below image.\n",
    "And then scrape First 100 shoes data you get. The data should include “Brand” of the shoes , Short Shoe\n",
    "description, price of the shoe as shown in the below image"
   ]
  },
  {
   "cell_type": "code",
   "execution_count": 120,
   "id": "3e21af6a",
   "metadata": {},
   "outputs": [
    {
     "name": "stderr",
     "output_type": "stream",
     "text": [
      "C:\\Users\\Swetha\\AppData\\Local\\Temp/ipykernel_15420/456481883.py:6: DeprecationWarning: executable_path has been deprecated, please pass in a Service object\n",
      "  driver=webdriver.Chrome(r'C:\\Users\\Swetha\\Downloads\\chromedriver_win32\\chromedriver.exe')\n"
     ]
    }
   ],
   "source": [
    "import selenium\n",
    "from selenium import webdriver\n",
    "import pandas as pd\n",
    "import warnings\n",
    "\n",
    "driver=webdriver.Chrome(r'C:\\Users\\Swetha\\Downloads\\chromedriver_win32\\chromedriver.exe')\n",
    "\n",
    "url = 'https://www.myntra.com/shoes'\n",
    "driver.get(url)"
   ]
  },
  {
   "cell_type": "code",
   "execution_count": 121,
   "id": "3fe4ec13",
   "metadata": {},
   "outputs": [
    {
     "name": "stderr",
     "output_type": "stream",
     "text": [
      "C:\\Users\\Swetha\\AppData\\Local\\Temp/ipykernel_15420/1013047419.py:1: DeprecationWarning: find_element_by_xpath is deprecated. Please use find_element(by=By.XPATH, value=xpath) instead\n",
      "  price_check = driver.find_element_by_xpath(\"/html/body/div[2]/div/div[1]/main/div[3]/div[1]/section/div/div[5]/ul/li[2]/label/div\")\n"
     ]
    },
    {
     "data": {
      "text/plain": [
       "<selenium.webdriver.remote.webelement.WebElement (session=\"b2b7e8e784a6247b30f00880ee3f511d\", element=\"c0097c70-e146-49c1-be55-1bcaeb6c6986\")>"
      ]
     },
     "execution_count": 121,
     "metadata": {},
     "output_type": "execute_result"
    }
   ],
   "source": [
    "price_check = driver.find_element_by_xpath(\"/html/body/div[2]/div/div[1]/main/div[3]/div[1]/section/div/div[5]/ul/li[2]/label/div\")\n",
    "price_check"
   ]
  },
  {
   "cell_type": "code",
   "execution_count": 122,
   "id": "ead8076c",
   "metadata": {},
   "outputs": [],
   "source": [
    "price_check.click()"
   ]
  },
  {
   "cell_type": "code",
   "execution_count": 123,
   "id": "5163b1aa",
   "metadata": {},
   "outputs": [
    {
     "name": "stderr",
     "output_type": "stream",
     "text": [
      "C:\\Users\\Swetha\\AppData\\Local\\Temp/ipykernel_15420/563370162.py:1: DeprecationWarning: find_element_by_xpath is deprecated. Please use find_element(by=By.XPATH, value=xpath) instead\n",
      "  color_black = driver.find_element_by_xpath(\"/html/body/div[2]/div/div[1]/main/div[3]/div[1]/section/div/div[6]/ul/li[1]/label/div\")\n"
     ]
    },
    {
     "data": {
      "text/plain": [
       "<selenium.webdriver.remote.webelement.WebElement (session=\"b2b7e8e784a6247b30f00880ee3f511d\", element=\"aedaf5f2-5da9-4d43-a5b6-f5b88575daed\")>"
      ]
     },
     "execution_count": 123,
     "metadata": {},
     "output_type": "execute_result"
    }
   ],
   "source": [
    "color_black = driver.find_element_by_xpath(\"/html/body/div[2]/div/div[1]/main/div[3]/div[1]/section/div/div[6]/ul/li[1]/label/div\")\n",
    "color_black"
   ]
  },
  {
   "cell_type": "code",
   "execution_count": 124,
   "id": "ad4caa01",
   "metadata": {},
   "outputs": [],
   "source": [
    "color_black.click()"
   ]
  },
  {
   "cell_type": "markdown",
   "id": "7ec62634",
   "metadata": {},
   "source": [
    "Brand"
   ]
  },
  {
   "cell_type": "markdown",
   "id": "271f1204",
   "metadata": {},
   "source": [
    "Brands from page 1"
   ]
  },
  {
   "cell_type": "code",
   "execution_count": 126,
   "id": "413f892e",
   "metadata": {},
   "outputs": [
    {
     "name": "stderr",
     "output_type": "stream",
     "text": [
      "C:\\Users\\Swetha\\AppData\\Local\\Temp/ipykernel_15420/3885127883.py:1: DeprecationWarning: find_elements_by_xpath is deprecated. Please use find_elements(by=By.XPATH, value=xpath) instead\n",
      "  brand = driver.find_elements_by_xpath(\"//h3[@class='product-brand']\")\n"
     ]
    },
    {
     "data": {
      "text/plain": [
       "['ALDO',\n",
       " 'Reebok',\n",
       " 'Nike',\n",
       " 'ALDO',\n",
       " 'Tommy Hilfiger',\n",
       " 'ALDO',\n",
       " 'Puma',\n",
       " 'Puma',\n",
       " 'Puma',\n",
       " 'Hush Puppies',\n",
       " 'Nike',\n",
       " 'Puma',\n",
       " 'Puma',\n",
       " 'ASICS',\n",
       " 'Skechers',\n",
       " 'Hush Puppies',\n",
       " 'Hush Puppies',\n",
       " 'Saint G',\n",
       " 'Bugatti',\n",
       " 'Puma',\n",
       " 'Hush Puppies',\n",
       " 'J.FONTINI',\n",
       " 'Saint G',\n",
       " 'TRIBAN By Decathlon',\n",
       " 'Hush Puppies',\n",
       " 'Columbia',\n",
       " 'Sole To Soul',\n",
       " 'Tommy Hilfiger',\n",
       " 'Tommy Hilfiger',\n",
       " 'MANGO',\n",
       " 'Puma',\n",
       " 'Heel & Buckle London',\n",
       " 'Geox',\n",
       " 'Geox',\n",
       " 'ALDO',\n",
       " 'ALDO',\n",
       " 'ALDO',\n",
       " 'J.FONTINI',\n",
       " 'Bugatti',\n",
       " 'J.FONTINI',\n",
       " 'Saint G',\n",
       " 'DAVINCHI',\n",
       " 'MANGO',\n",
       " 'Sole To Soul',\n",
       " 'Geox',\n",
       " 'Sole To Soul',\n",
       " 'Sole To Soul',\n",
       " 'ROSSO BRUNELLO',\n",
       " 'Heel & Buckle London',\n",
       " 'DAVINCHI']"
      ]
     },
     "execution_count": 126,
     "metadata": {},
     "output_type": "execute_result"
    }
   ],
   "source": [
    "brand = driver.find_elements_by_xpath(\"//h3[@class='product-brand']\")\n",
    "len(brand)\n",
    "\n",
    "Brand = []\n",
    "\n",
    "for i in brand:\n",
    "    Brand.append(i.text)\n",
    "Brand"
   ]
  },
  {
   "cell_type": "code",
   "execution_count": 127,
   "id": "abb7a6fc",
   "metadata": {},
   "outputs": [
    {
     "data": {
      "text/plain": [
       "50"
      ]
     },
     "execution_count": 127,
     "metadata": {},
     "output_type": "execute_result"
    }
   ],
   "source": [
    "len(Brand)"
   ]
  },
  {
   "cell_type": "markdown",
   "id": "b1020ab6",
   "metadata": {},
   "source": [
    "Brands from page 2"
   ]
  },
  {
   "cell_type": "code",
   "execution_count": 128,
   "id": "c2fa675c",
   "metadata": {},
   "outputs": [
    {
     "name": "stderr",
     "output_type": "stream",
     "text": [
      "C:\\Users\\Swetha\\AppData\\Local\\Temp/ipykernel_15420/2304992186.py:1: DeprecationWarning: find_elements_by_xpath is deprecated. Please use find_elements(by=By.XPATH, value=xpath) instead\n",
      "  brand1 = driver.find_elements_by_xpath(\"//h3[@class='product-brand']\")\n"
     ]
    },
    {
     "data": {
      "text/plain": [
       "['DAVINCHI',\n",
       " 'ROSSO BRUNELLO',\n",
       " 'fitflop',\n",
       " 'Saint G',\n",
       " 'Bugatti',\n",
       " 'Cobblerz',\n",
       " 'New Balance',\n",
       " 'Columbia',\n",
       " 'Columbia',\n",
       " 'Cole Haan',\n",
       " 'J.FONTINI',\n",
       " 'Saint G',\n",
       " 'Geox',\n",
       " 'Xtep',\n",
       " 'Geox',\n",
       " 'Cole Haan',\n",
       " 'Cole Haan',\n",
       " 'Geox',\n",
       " 'Geox',\n",
       " 'Cole Haan',\n",
       " 'Saint G',\n",
       " 'Saint G',\n",
       " 'Saint G',\n",
       " 'Royal Enfield',\n",
       " 'Sole To Soul',\n",
       " 'ASICS',\n",
       " 'J.FONTINI',\n",
       " 'J.FONTINI',\n",
       " 'Nike',\n",
       " 'Pavers England',\n",
       " 'Saint G',\n",
       " 'Saint G',\n",
       " 'Saint G',\n",
       " 'Saint G',\n",
       " 'Saint G',\n",
       " 'Saint G',\n",
       " 'J.FONTINI',\n",
       " 'DAVINCHI',\n",
       " 'DAVINCHI',\n",
       " 'Saint G',\n",
       " 'Saint G',\n",
       " 'J.FONTINI',\n",
       " 'Saint G',\n",
       " 'Saint G',\n",
       " 'Saint G',\n",
       " 'Saint G',\n",
       " 'Saint G',\n",
       " 'Saint G',\n",
       " 'ROSSO BRUNELLO',\n",
       " 'DAVINCHI']"
      ]
     },
     "execution_count": 128,
     "metadata": {},
     "output_type": "execute_result"
    }
   ],
   "source": [
    "brand1 = driver.find_elements_by_xpath(\"//h3[@class='product-brand']\")\n",
    "len(brand1)\n",
    "\n",
    "Brand1 = []\n",
    "\n",
    "for i in brand1:\n",
    "    Brand1.append(i.text)\n",
    "Brand1"
   ]
  },
  {
   "cell_type": "code",
   "execution_count": 129,
   "id": "475aebd9",
   "metadata": {},
   "outputs": [
    {
     "data": {
      "text/plain": [
       "50"
      ]
     },
     "execution_count": 129,
     "metadata": {},
     "output_type": "execute_result"
    }
   ],
   "source": [
    "len(Brand1)"
   ]
  },
  {
   "cell_type": "code",
   "execution_count": 137,
   "id": "ead2b861",
   "metadata": {},
   "outputs": [
    {
     "data": {
      "text/plain": [
       "(50, 50)"
      ]
     },
     "execution_count": 137,
     "metadata": {},
     "output_type": "execute_result"
    }
   ],
   "source": [
    "len(Brand),len(Brand1)"
   ]
  },
  {
   "cell_type": "markdown",
   "id": "69962a5d",
   "metadata": {},
   "source": [
    "Short Shoe Description"
   ]
  },
  {
   "cell_type": "markdown",
   "id": "36bfa61d",
   "metadata": {},
   "source": [
    "Desription from page 1"
   ]
  },
  {
   "cell_type": "code",
   "execution_count": 132,
   "id": "7fe44c01",
   "metadata": {},
   "outputs": [
    {
     "name": "stderr",
     "output_type": "stream",
     "text": [
      "C:\\Users\\Swetha\\AppData\\Local\\Temp/ipykernel_15420/4155919517.py:1: DeprecationWarning: find_elements_by_xpath is deprecated. Please use find_elements(by=By.XPATH, value=xpath) instead\n",
      "  short_des = driver.find_elements_by_xpath(\"//h4[@class='product-product']\")\n"
     ]
    },
    {
     "data": {
      "text/plain": [
       "['Men Leather Driving Shoes',\n",
       " 'Men Zig Dynamica 2.0 Running',\n",
       " 'Men Winflo 7 Running Shoes',\n",
       " 'Men Printed Sneakers',\n",
       " 'Men Cleated Leather Sneakers',\n",
       " 'Men Woven Design Sneakers',\n",
       " 'Men Jamming 2.0 Running Shoes',\n",
       " 'Eternity Nitro Running Shoes',\n",
       " 'Electrify Nitro Running Shoes',\n",
       " 'Men Solid Leather Formal Slip-Ons',\n",
       " 'Men Air Max Dawn Sneakers',\n",
       " 'Men FUSE Training Shoes',\n",
       " 'Men Training or Gym Shoes',\n",
       " 'Women Running Shoes',\n",
       " 'Men Go Run Hyper Burst Running',\n",
       " 'Men Solid Leather Formal Slip-Ons',\n",
       " 'Men Formal Derbys',\n",
       " 'Men Mid-Top Chelsea Boots',\n",
       " 'Men Solid Leather Formal Derbys',\n",
       " 'Women Velocity NITRO Runners',\n",
       " 'Men Solid Formal Slip-Ons',\n",
       " 'Men Black Leather Loafers',\n",
       " 'Women Leather Block Heels',\n",
       " 'Unisex Training or Gym Shoes',\n",
       " 'Men Solid Leather Formal Derbys',\n",
       " 'Men FACET OUTDRY Trekking Shoe',\n",
       " 'Women Block Heeled Boots',\n",
       " 'Women CLEAT Textured Sneakers',\n",
       " 'Leather Sandals',\n",
       " 'Women Solid Sneakers',\n",
       " 'Women Eternity NITRO Shoes',\n",
       " 'Men Suede Loafers',\n",
       " 'Men Striped Leather Sneakers',\n",
       " 'Men Leather Driving Shoes',\n",
       " 'Wedge Sandals',\n",
       " 'Leather Slim Heels',\n",
       " 'Wedge Sandals',\n",
       " 'Men Textured Leather Loafers',\n",
       " 'Men Textured Leather High-Top Flat Boots',\n",
       " 'Men Textured Leather Loafers',\n",
       " 'Leather High-Top Heeled Boots',\n",
       " 'Men Textured Formal Leather Loafers',\n",
       " 'Women Heeled Leather Loafers',\n",
       " 'High-Top Block Heeled Boots',\n",
       " 'Women Leather Pumps',\n",
       " 'High-Top Platform Heeled Boots',\n",
       " 'Suede High-Top Block Heeled Boots',\n",
       " 'Printed PU Kitten Sandals',\n",
       " 'Men Formal Leather Derby',\n",
       " 'Solid Slip On Shoes']"
      ]
     },
     "execution_count": 132,
     "metadata": {},
     "output_type": "execute_result"
    }
   ],
   "source": [
    "short_des = driver.find_elements_by_xpath(\"//h4[@class='product-product']\")\n",
    "len(short_des)\n",
    "\n",
    "Short_Description = []\n",
    "\n",
    "for i in short_des:\n",
    "    Short_Description.append(i.text)\n",
    "Short_Description"
   ]
  },
  {
   "cell_type": "code",
   "execution_count": 133,
   "id": "7168312d",
   "metadata": {},
   "outputs": [
    {
     "data": {
      "text/plain": [
       "50"
      ]
     },
     "execution_count": 133,
     "metadata": {},
     "output_type": "execute_result"
    }
   ],
   "source": [
    "len(Short_Description)"
   ]
  },
  {
   "cell_type": "markdown",
   "id": "7dd4f632",
   "metadata": {},
   "source": [
    "Descripton from page 2"
   ]
  },
  {
   "cell_type": "code",
   "execution_count": 135,
   "id": "ed65fa90",
   "metadata": {},
   "outputs": [
    {
     "name": "stderr",
     "output_type": "stream",
     "text": [
      "C:\\Users\\Swetha\\AppData\\Local\\Temp/ipykernel_15420/955340042.py:1: DeprecationWarning: find_elements_by_xpath is deprecated. Please use find_elements(by=By.XPATH, value=xpath) instead\n",
      "  short_des1 = driver.find_elements_by_xpath(\"//h4[@class='product-product']\")\n"
     ]
    },
    {
     "data": {
      "text/plain": [
       "['Solid Slip On Shoes',\n",
       " 'PU Block Pumps with Buckles',\n",
       " 'Embellished Leather Flatform Sandals',\n",
       " 'Leather Party Block Mules',\n",
       " 'Men Solid Formal Oxfords',\n",
       " 'Men Textured Leather Formal Derbys',\n",
       " 'Women Woven Running Shoes',\n",
       " 'Women REDMOND V2 TrekkingShoe',\n",
       " 'PEAKFREAK OUTDRY Trekking Shoe',\n",
       " 'Men GENERATION ZEROGRAND STITCHLITE',\n",
       " 'Men Solid Loafers',\n",
       " 'Women Leather Mules',\n",
       " 'Women Solid Leather Pumps',\n",
       " 'Men Running Shoes',\n",
       " 'Women Solid Leather Pumps',\n",
       " 'Women Open Toe Flats',\n",
       " 'Women Sneakers',\n",
       " 'Women Solid Leather Ballerinas',\n",
       " 'Men Leather Loafers',\n",
       " 'Women Solid Leather Ballerinas',\n",
       " 'Women Leather Heeled Boots',\n",
       " 'Leather Heeled Knee High Boots',\n",
       " 'Women Leather Knee High Boots',\n",
       " 'Cabo WP Riding Boots',\n",
       " 'Platform Peep Toes with Buckles',\n",
       " 'Men Colourblocked PU Sneakers',\n",
       " 'Men Leather Formal Loafers',\n",
       " 'Men Leather Formal Loafers',\n",
       " 'Women WINFLO 7 Running Shoes',\n",
       " 'Men Leather Driving Shoes',\n",
       " 'Leather Wedge Heeled Boots with Buckles',\n",
       " 'Leather High-Top Block Heeled Boots',\n",
       " 'Leather Kitten Heeled Boots',\n",
       " 'Printed Flatform Heeled Boots with Buckles',\n",
       " 'Leather Platform Heeled Boots',\n",
       " 'Leather Block Heeled Boots with Bows',\n",
       " 'Men Solid Leather Formal Loafers',\n",
       " 'Men Formal Leather Slip-Ons',\n",
       " 'Ustraa black',\n",
       " 'Suede Party High-Top Block Heeled Boots',\n",
       " 'Suede High-Top Flatform Heeled Boots',\n",
       " 'Men Textured Leather Formal Loafers',\n",
       " 'Leather Boots with Buckles',\n",
       " 'High-Top Block Heeled Boots',\n",
       " 'Embellished Leather Block Heeled Boots',\n",
       " 'Women High-Top Heeled Boots',\n",
       " 'Leather Block Heeled Boots with Buckles',\n",
       " 'Embellished Flatform Boots',\n",
       " 'High-Top Block Heeled Boots',\n",
       " 'Men Textured Formal Leather Loafers']"
      ]
     },
     "execution_count": 135,
     "metadata": {},
     "output_type": "execute_result"
    }
   ],
   "source": [
    "short_des1 = driver.find_elements_by_xpath(\"//h4[@class='product-product']\")\n",
    "len(short_des1)\n",
    "\n",
    "Short_Description1 = []\n",
    "\n",
    "for i in short_des1:\n",
    "    Short_Description1.append(i.text)\n",
    "Short_Description1"
   ]
  },
  {
   "cell_type": "code",
   "execution_count": 136,
   "id": "8b9a03da",
   "metadata": {},
   "outputs": [
    {
     "data": {
      "text/plain": [
       "50"
      ]
     },
     "execution_count": 136,
     "metadata": {},
     "output_type": "execute_result"
    }
   ],
   "source": [
    "len(Short_Description1)"
   ]
  },
  {
   "cell_type": "code",
   "execution_count": 138,
   "id": "66fc9796",
   "metadata": {},
   "outputs": [
    {
     "data": {
      "text/plain": [
       "(50, 50)"
      ]
     },
     "execution_count": 138,
     "metadata": {},
     "output_type": "execute_result"
    }
   ],
   "source": [
    "len(Short_Description),len(Short_Description1)"
   ]
  },
  {
   "cell_type": "markdown",
   "id": "12ba1427",
   "metadata": {},
   "source": [
    "Price"
   ]
  },
  {
   "cell_type": "markdown",
   "id": "9a419661",
   "metadata": {},
   "source": [
    "Price from page 1"
   ]
  },
  {
   "cell_type": "code",
   "execution_count": 125,
   "id": "12d1dec5",
   "metadata": {},
   "outputs": [
    {
     "name": "stderr",
     "output_type": "stream",
     "text": [
      "C:\\Users\\Swetha\\AppData\\Local\\Temp/ipykernel_15420/4102715418.py:1: DeprecationWarning: find_elements_by_xpath is deprecated. Please use find_elements(by=By.XPATH, value=xpath) instead\n",
      "  price = driver.find_elements_by_xpath(\"//div[@class='product-price']\")\n"
     ]
    },
    {
     "data": {
      "text/plain": [
       "['Rs. 12999',\n",
       " 'Rs. 7999',\n",
       " 'Rs. 7995',\n",
       " 'Rs. 9099Rs. 12999(30% OFF)',\n",
       " 'Rs. 7739Rs. 8599(10% OFF)',\n",
       " 'Rs. 13999',\n",
       " 'Rs. 12999',\n",
       " 'Rs. 12999',\n",
       " 'Rs. 9999',\n",
       " 'Rs. 7649Rs. 8999(15% OFF)',\n",
       " 'Rs. 10995',\n",
       " 'Rs. 7999',\n",
       " 'Rs. 7999',\n",
       " 'Rs. 7999',\n",
       " 'Rs. 7224Rs. 8499(15% OFF)',\n",
       " 'Rs. 8499Rs. 9999(15% OFF)',\n",
       " 'Rs. 8499Rs. 9999(15% OFF)',\n",
       " 'Rs. 10500Rs. 10900(Rs. 400 OFF)',\n",
       " 'Rs. 9499',\n",
       " 'Rs. 8249Rs. 10999(25% OFF)',\n",
       " 'Rs. 8499Rs. 9999(15% OFF)',\n",
       " 'Rs. 8490',\n",
       " 'Rs. 9500',\n",
       " 'Rs. 8579Rs. 10999(22% OFF)',\n",
       " 'Rs. 8499Rs. 9999(15% OFF)',\n",
       " 'Rs. 12999',\n",
       " 'Rs. 8900',\n",
       " 'Rs. 7739Rs. 8599(10% OFF)',\n",
       " 'Rs. 7599',\n",
       " 'Rs. 8990',\n",
       " 'Rs. 9099Rs. 12999(30% OFF)',\n",
       " 'Rs. 12990',\n",
       " 'Rs. 9990',\n",
       " 'Rs. 9499',\n",
       " 'Rs. 7999',\n",
       " 'Rs. 8399Rs. 11999(30% OFF)',\n",
       " 'Rs. 7999',\n",
       " 'Rs. 8490',\n",
       " 'Rs. 8399Rs. 11999(30% OFF)',\n",
       " 'Rs. 7990',\n",
       " 'Rs. 10625Rs. 12500(15% OFF)',\n",
       " 'Rs. 8990',\n",
       " 'Rs. 7990',\n",
       " 'Rs. 7900',\n",
       " 'Rs. 8999',\n",
       " 'Rs. 8900',\n",
       " 'Rs. 9500',\n",
       " 'Rs. 8499',\n",
       " 'Rs. 7990',\n",
       " 'Rs. 7990']"
      ]
     },
     "execution_count": 125,
     "metadata": {},
     "output_type": "execute_result"
    }
   ],
   "source": [
    "price = driver.find_elements_by_xpath(\"//div[@class='product-price']\")\n",
    "len(price)\n",
    "\n",
    "Price = []\n",
    "\n",
    "for i in price:\n",
    "    Price.append(i.text)\n",
    "Price"
   ]
  },
  {
   "cell_type": "code",
   "execution_count": 134,
   "id": "cf7aae94",
   "metadata": {},
   "outputs": [
    {
     "data": {
      "text/plain": [
       "50"
      ]
     },
     "execution_count": 134,
     "metadata": {},
     "output_type": "execute_result"
    }
   ],
   "source": [
    "len(Price)"
   ]
  },
  {
   "cell_type": "markdown",
   "id": "26a98b68",
   "metadata": {},
   "source": [
    "Price from page 2"
   ]
  },
  {
   "cell_type": "code",
   "execution_count": 131,
   "id": "3a5e8240",
   "metadata": {},
   "outputs": [
    {
     "name": "stderr",
     "output_type": "stream",
     "text": [
      "C:\\Users\\Swetha\\AppData\\Local\\Temp/ipykernel_15420/2999880637.py:1: DeprecationWarning: find_elements_by_xpath is deprecated. Please use find_elements(by=By.XPATH, value=xpath) instead\n",
      "  price1 = driver.find_elements_by_xpath(\"//div[@class='product-price']\")\n"
     ]
    },
    {
     "data": {
      "text/plain": [
       "['Rs. 7990',\n",
       " 'Rs. 7999',\n",
       " 'Rs. 8299',\n",
       " 'Rs. 7380Rs. 8200(10% OFF)',\n",
       " 'Rs. 8999',\n",
       " 'Rs. 8999Rs. 9999(Rs. 1000 OFF)',\n",
       " 'Rs. 7799Rs. 12999(40% OFF)',\n",
       " 'Rs. 7999',\n",
       " 'Rs. 9999',\n",
       " 'Rs. 11999',\n",
       " 'Rs. 8990',\n",
       " 'Rs. 7216Rs. 8200(12% OFF)',\n",
       " 'Rs. 7999',\n",
       " 'Rs. 7699',\n",
       " 'Rs. 10990',\n",
       " 'Rs. 11999',\n",
       " 'Rs. 12999',\n",
       " 'Rs. 8999',\n",
       " 'Rs. 9999',\n",
       " 'Rs. 13999',\n",
       " 'Rs. 14025Rs. 16500(15% OFF)',\n",
       " 'Rs. 12325Rs. 14500(15% OFF)',\n",
       " 'Rs. 11815Rs. 13900(15% OFF)',\n",
       " 'Rs. 8500',\n",
       " 'Rs. 7690',\n",
       " 'Rs. 9999',\n",
       " 'Rs. 7490',\n",
       " 'Rs. 7490',\n",
       " 'Rs. 7195Rs. 7995(10% OFF)',\n",
       " 'Rs. 7499',\n",
       " 'Rs. 12665Rs. 14900(15% OFF)',\n",
       " 'Rs. 14025Rs. 16500(15% OFF)',\n",
       " 'Rs. 9900',\n",
       " 'Rs. 8415Rs. 9900(15% OFF)',\n",
       " 'Rs. 9810Rs. 10900(10% OFF)',\n",
       " 'Rs. 12510Rs. 13900(10% OFF)',\n",
       " 'Rs. 9990',\n",
       " 'Rs. 8990',\n",
       " 'Rs. 8990',\n",
       " 'Rs. 8925Rs. 10500(15% OFF)',\n",
       " 'Rs. 11475Rs. 13500(15% OFF)',\n",
       " 'Rs. 8990',\n",
       " 'Rs. 8925Rs. 10500(15% OFF)',\n",
       " 'Rs. 10625Rs. 12500(15% OFF)',\n",
       " 'Rs. 7869Rs. 12900(39% OFF)',\n",
       " 'Rs. 12093Rs. 13900(13% OFF)',\n",
       " 'Rs. 9810Rs. 10900(10% OFF)',\n",
       " 'Rs. 8925Rs. 10500(15% OFF)',\n",
       " 'Rs. 9449Rs. 13499(30% OFF)',\n",
       " 'Rs. 8990']"
      ]
     },
     "execution_count": 131,
     "metadata": {},
     "output_type": "execute_result"
    }
   ],
   "source": [
    "price1 = driver.find_elements_by_xpath(\"//div[@class='product-price']\")\n",
    "len(price1)\n",
    "\n",
    "Price1 = []\n",
    "\n",
    "for i in price1:\n",
    "    Price1.append(i.text)\n",
    "Price1"
   ]
  },
  {
   "cell_type": "code",
   "execution_count": 139,
   "id": "35a71b06",
   "metadata": {},
   "outputs": [
    {
     "data": {
      "text/plain": [
       "50"
      ]
     },
     "execution_count": 139,
     "metadata": {},
     "output_type": "execute_result"
    }
   ],
   "source": [
    "len(Price1)"
   ]
  },
  {
   "cell_type": "code",
   "execution_count": 141,
   "id": "7937c4a8",
   "metadata": {},
   "outputs": [
    {
     "data": {
      "text/plain": [
       "(50, 50)"
      ]
     },
     "execution_count": 141,
     "metadata": {},
     "output_type": "execute_result"
    }
   ],
   "source": [
    "len(Price),len(Price1)"
   ]
  },
  {
   "cell_type": "code",
   "execution_count": null,
   "id": "9c558385",
   "metadata": {},
   "outputs": [],
   "source": []
  },
  {
   "cell_type": "markdown",
   "id": "1df28b04",
   "metadata": {},
   "source": [
    "Q8: Go to webpage https://www.amazon.in/\n",
    "Enter “Laptop” in the search field and then click the search icon.\n",
    "Then set CPU Type filter to “Intel Core i7” and “Intel Core i9” as shown in the below image:\n",
    "\n",
    "After setting the filters scrape first 10 laptops data. You have to scrape 3 attributesfor each laptop:\n",
    "1. Title\n",
    "2. Ratings\n",
    "3. Price\n",
    "As shown in the below image as the tick marked attributes"
   ]
  },
  {
   "cell_type": "code",
   "execution_count": 152,
   "id": "b3b8bf0e",
   "metadata": {},
   "outputs": [
    {
     "name": "stderr",
     "output_type": "stream",
     "text": [
      "C:\\Users\\Swetha\\AppData\\Local\\Temp/ipykernel_15420/2512376049.py:6: DeprecationWarning: executable_path has been deprecated, please pass in a Service object\n",
      "  driver=webdriver.Chrome(r'C:\\Users\\Swetha\\Downloads\\chromedriver_win32\\chromedriver.exe')\n"
     ]
    }
   ],
   "source": [
    "import selenium\n",
    "from selenium import webdriver\n",
    "import pandas as pd\n",
    "import warnings\n",
    "\n",
    "driver=webdriver.Chrome(r'C:\\Users\\Swetha\\Downloads\\chromedriver_win32\\chromedriver.exe')\n",
    "\n",
    "url = 'https://www.amazon.in/'\n",
    "driver.get(url)"
   ]
  },
  {
   "cell_type": "code",
   "execution_count": 153,
   "id": "44964b0c",
   "metadata": {},
   "outputs": [
    {
     "name": "stderr",
     "output_type": "stream",
     "text": [
      "C:\\Users\\Swetha\\AppData\\Local\\Temp/ipykernel_15420/2946675113.py:1: DeprecationWarning: find_element_by_xpath is deprecated. Please use find_element(by=By.XPATH, value=xpath) instead\n",
      "  search_laptop = driver.find_element_by_xpath(\"/html/body/div[1]/header/div/div[1]/div[2]/div/form/div[2]/div[1]/input\")\n"
     ]
    },
    {
     "data": {
      "text/plain": [
       "<selenium.webdriver.remote.webelement.WebElement (session=\"08dfebf79170cd8d68a927fe92db3570\", element=\"206ac9cf-3d81-4e2b-a32f-3e6974aad7b6\")>"
      ]
     },
     "execution_count": 153,
     "metadata": {},
     "output_type": "execute_result"
    }
   ],
   "source": [
    "search_laptop = driver.find_element_by_xpath(\"/html/body/div[1]/header/div/div[1]/div[2]/div/form/div[2]/div[1]/input\")\n",
    "search_laptop"
   ]
  },
  {
   "cell_type": "code",
   "execution_count": 155,
   "id": "3cd5f9f9",
   "metadata": {},
   "outputs": [],
   "source": [
    "search_laptop.send_keys(\"Laptops\")"
   ]
  },
  {
   "cell_type": "code",
   "execution_count": 156,
   "id": "a5b44c18",
   "metadata": {},
   "outputs": [
    {
     "name": "stderr",
     "output_type": "stream",
     "text": [
      "C:\\Users\\Swetha\\AppData\\Local\\Temp/ipykernel_15420/752639963.py:1: DeprecationWarning: find_element_by_xpath is deprecated. Please use find_element(by=By.XPATH, value=xpath) instead\n",
      "  search_btn = driver.find_element_by_xpath(\"/html/body/div[1]/header/div/div[1]/div[2]/div/form/div[3]/div/span/input\")\n"
     ]
    },
    {
     "data": {
      "text/plain": [
       "<selenium.webdriver.remote.webelement.WebElement (session=\"08dfebf79170cd8d68a927fe92db3570\", element=\"ee773d05-3228-45a9-8adb-02d077a64e35\")>"
      ]
     },
     "execution_count": 156,
     "metadata": {},
     "output_type": "execute_result"
    }
   ],
   "source": [
    "search_btn = driver.find_element_by_xpath(\"/html/body/div[1]/header/div/div[1]/div[2]/div/form/div[3]/div/span/input\")\n",
    "search_btn"
   ]
  },
  {
   "cell_type": "code",
   "execution_count": 157,
   "id": "1945f59a",
   "metadata": {},
   "outputs": [],
   "source": [
    "search_btn.click()"
   ]
  },
  {
   "cell_type": "code",
   "execution_count": 164,
   "id": "cffb1fd7",
   "metadata": {},
   "outputs": [
    {
     "name": "stderr",
     "output_type": "stream",
     "text": [
      "C:\\Users\\Swetha\\AppData\\Local\\Temp/ipykernel_15420/695786354.py:1: DeprecationWarning: find_element_by_xpath is deprecated. Please use find_element(by=By.XPATH, value=xpath) instead\n",
      "  search_cpu = driver.find_element_by_xpath(\"/html/body/div[1]/div[2]/div[1]/div[2]/div/div[3]/span/div[1]/div/div/div[6]/ul[4]/li[12]/span/a/div/label/i\")\n"
     ]
    },
    {
     "data": {
      "text/plain": [
       "<selenium.webdriver.remote.webelement.WebElement (session=\"08dfebf79170cd8d68a927fe92db3570\", element=\"1a3c2579-873b-42d1-ac3e-5dd8a0687059\")>"
      ]
     },
     "execution_count": 164,
     "metadata": {},
     "output_type": "execute_result"
    }
   ],
   "source": [
    "search_cpu = driver.find_element_by_xpath(\"/html/body/div[1]/div[2]/div[1]/div[2]/div/div[3]/span/div[1]/div/div/div[6]/ul[4]/li[12]/span/a/div/label/i\")\n",
    "search_cpu"
   ]
  },
  {
   "cell_type": "code",
   "execution_count": 165,
   "id": "cf35d62b",
   "metadata": {},
   "outputs": [],
   "source": [
    "search_cpu.click()"
   ]
  },
  {
   "cell_type": "markdown",
   "id": "22167913",
   "metadata": {},
   "source": [
    "Intel Core i7"
   ]
  },
  {
   "cell_type": "markdown",
   "id": "358a77d0",
   "metadata": {},
   "source": [
    "Title"
   ]
  },
  {
   "cell_type": "code",
   "execution_count": 169,
   "id": "cdb3950d",
   "metadata": {},
   "outputs": [
    {
     "name": "stderr",
     "output_type": "stream",
     "text": [
      "C:\\Users\\Swetha\\AppData\\Local\\Temp/ipykernel_15420/3266265994.py:1: DeprecationWarning: find_elements_by_xpath is deprecated. Please use find_elements(by=By.XPATH, value=xpath) instead\n",
      "  title = driver.find_elements_by_xpath(\"//a[@class='a-link-normal s-underline-text s-underline-link-text s-link-style a-text-normal']\")\n"
     ]
    },
    {
     "data": {
      "text/plain": [
       "['LG Gram 14 inches Ultra-Light Intel Evo 11th Gen Core i7 Laptop (16 GB RAM, 512 GB SSD, New Windows 11 Home Preload, Iris Xe Graphics, USC -C x 2 (with Power), 0.999Kg, (14Z90P-G.AH85A2, Black)',\n",
       " 'LG Gram Intel Evo 11th Gen Core i7 17 inches Ultra-Light Laptop (16 GB RAM, 512 GB SSD, New Windows 11 Home Preload, Iris Xe Graphics, USC -C x 2 (with Power), 1.35 kg, 17Z90P-G.AH85A2, Black)',\n",
       " 'Mi Notebook Ultra 3.2K Resolution Display Intel Core i7-11370H 11th Gen 15.6-inch(39.62 cm) Thin and Light Laptop (16GB/512GB SSD/Iris Xe Graphic/Win 10/MS Office/Backlit KB/Fingerprint Sensor/1.7Kg)',\n",
       " 'ASUS VivoBook 14 (2021), 14-inch (35.56 cms) FHD, Intel Core i7-1065G7 10th Gen, Thin and Light Laptop (16GB/512GB SSD/Integrated Graphics/Office 2021/Windows 11/Silver/1.6 Kg), X415JA-EK701WS',\n",
       " 'ASUS TUF Gaming F15 (2021), 15.6\" (39.62 cms) FHD 144Hz, Intel Core i7-11600H 11th Gen, 4GB RTX 3050 Graphics, Gaming Laptop (16GB/512GB SSD/Windows 10/Office 2019/Gray/2.3 Kg), FX566HCB-HN299TS',\n",
       " 'LG Gram 16 inches Intel Evo 11th Gen Core i7 Ultra-Light Laptop (16 GB RAM, 512 GB SSD, New Windows 11 Home Preload, Iris Xe Graphics, USC -C x 2 (with Power), 1.19 kg, 16Z90P-G.AH85A2, Black)',\n",
       " 'LG Gram Intel Evo 11th Gen Core i7 17 inches Ultra-Light Laptop (16 GB RAM, 512 GB SSD, New Windows 11 Home Preload, Iris Xe Graphics, USC -C x 2 (with Power), 1.35 kg, 17Z90P-G.AH85A2, Black)',\n",
       " 'Lenovo ThinkBook Yoga 14s Intel Core i7 11th Gen 14\"(35.56cm) FHD IPS 300 nits 100% sRGB Dolby Vision 2-in-1 Touchscreen Laptop (16GB RAM/512GB SSD/Windows 10/MS Office/Active Pen/1.50 kg) 20WEA01EIH',\n",
       " 'Lenovo IdeaPad Flex 5 11th Gen Intel Core i7 14\" FHD 2-in-1 Convertible Laptop (16 GB/512GB SDD/Windows 11/MS Office 2021/Backlit Keyboard /Graphite Grey/1.5Kg), 82HS018XIN',\n",
       " 'ASUS ZenBook 13 OLED (2021) Intel Core i7-1165G7 11th Gen 13.3\" (33.78 cms) FHD Thin and Light Laptop (16GB/512GB SSD/Windows 10/Office 2019/Intel Iris Xᵉ Graphics/Pine Grey/1.14 kg), UX325EA-KG722TS']"
      ]
     },
     "execution_count": 169,
     "metadata": {},
     "output_type": "execute_result"
    }
   ],
   "source": [
    "title = driver.find_elements_by_xpath(\"//a[@class='a-link-normal s-underline-text s-underline-link-text s-link-style a-text-normal']\")\n",
    "len(title)\n",
    "\n",
    "Title = []\n",
    "\n",
    "for i in title:\n",
    "    Title.append(i.text)\n",
    "Title[0:10]"
   ]
  },
  {
   "cell_type": "markdown",
   "id": "fac2cef5",
   "metadata": {},
   "source": [
    "Ratings"
   ]
  },
  {
   "cell_type": "code",
   "execution_count": 186,
   "id": "3d325f67",
   "metadata": {},
   "outputs": [
    {
     "name": "stderr",
     "output_type": "stream",
     "text": [
      "C:\\Users\\Swetha\\AppData\\Local\\Temp/ipykernel_15420/3567032692.py:1: DeprecationWarning: find_elements_by_xpath is deprecated. Please use find_elements(by=By.XPATH, value=xpath) instead\n",
      "  rating = driver.find_elements_by_xpath(\"//a[@class='a-popover-trigger a-declarative']\")\n"
     ]
    },
    {
     "data": {
      "text/plain": [
       "['', '', '', '', '', '', '', '', '', '']"
      ]
     },
     "execution_count": 186,
     "metadata": {},
     "output_type": "execute_result"
    }
   ],
   "source": [
    "rating = driver.find_elements_by_xpath(\"//a[@class='a-popover-trigger a-declarative']\")\n",
    "\n",
    "Ratings = []\n",
    "\n",
    "for i in rating:\n",
    "    Ratings.append(i.text)\n",
    "Ratings[0:10]"
   ]
  },
  {
   "cell_type": "markdown",
   "id": "735d8c3b",
   "metadata": {},
   "source": [
    "Price"
   ]
  },
  {
   "cell_type": "code",
   "execution_count": 180,
   "id": "628cee10",
   "metadata": {},
   "outputs": [
    {
     "name": "stderr",
     "output_type": "stream",
     "text": [
      "C:\\Users\\Swetha\\AppData\\Local\\Temp/ipykernel_15420/1126187598.py:1: DeprecationWarning: find_elements_by_xpath is deprecated. Please use find_elements(by=By.XPATH, value=xpath) instead\n",
      "  price = driver.find_elements_by_xpath(\"//span[@class='a-price-whole']\")\n"
     ]
    },
    {
     "data": {
      "text/plain": [
       "['81,999',\n",
       " '96,999',\n",
       " '77,499',\n",
       " '57,490',\n",
       " '89,990',\n",
       " '89,999',\n",
       " '96,999',\n",
       " '87,990',\n",
       " '85,790',\n",
       " '92,900']"
      ]
     },
     "execution_count": 180,
     "metadata": {},
     "output_type": "execute_result"
    }
   ],
   "source": [
    "price = driver.find_elements_by_xpath(\"//span[@class='a-price-whole']\")\n",
    "len(price)\n",
    "\n",
    "Price = []\n",
    "\n",
    "for i in price:\n",
    "    Price.append(i.text)\n",
    "Price[0:10]"
   ]
  },
  {
   "cell_type": "markdown",
   "id": "4b481943",
   "metadata": {},
   "source": [
    "Core i9"
   ]
  },
  {
   "cell_type": "code",
   "execution_count": null,
   "id": "63e4cc4c",
   "metadata": {},
   "outputs": [],
   "source": [
    "search_btn = driver.find_element_by_xpath(\"\")"
   ]
  },
  {
   "cell_type": "code",
   "execution_count": 187,
   "id": "3dd75973",
   "metadata": {},
   "outputs": [
    {
     "name": "stderr",
     "output_type": "stream",
     "text": [
      "C:\\Users\\Swetha\\AppData\\Local\\Temp/ipykernel_15420/3217324694.py:1: DeprecationWarning: find_element_by_xpath is deprecated. Please use find_element(by=By.XPATH, value=xpath) instead\n",
      "  search_i9 = driver.find_element_by_xpath(\"/html/body/div[1]/div[2]/div[1]/div[2]/div/div[3]/span/div[1]/div/div/div[6]/ul[4]/li[15]/span/a/div/label/i\")\n"
     ]
    },
    {
     "data": {
      "text/plain": [
       "<selenium.webdriver.remote.webelement.WebElement (session=\"08dfebf79170cd8d68a927fe92db3570\", element=\"d7e12178-9076-4409-895a-f03d45025adc\")>"
      ]
     },
     "execution_count": 187,
     "metadata": {},
     "output_type": "execute_result"
    }
   ],
   "source": [
    "search_i9 = driver.find_element_by_xpath(\"/html/body/div[1]/div[2]/div[1]/div[2]/div/div[3]/span/div[1]/div/div/div[6]/ul[4]/li[15]/span/a/div/label/i\")\n",
    "search_i9"
   ]
  },
  {
   "cell_type": "code",
   "execution_count": 188,
   "id": "0dec6564",
   "metadata": {},
   "outputs": [],
   "source": [
    "search_i9.click()"
   ]
  },
  {
   "cell_type": "markdown",
   "id": "adf2a1b0",
   "metadata": {},
   "source": [
    "Title"
   ]
  },
  {
   "cell_type": "code",
   "execution_count": 197,
   "id": "4dc6a171",
   "metadata": {},
   "outputs": [
    {
     "name": "stderr",
     "output_type": "stream",
     "text": [
      "C:\\Users\\Swetha\\AppData\\Local\\Temp/ipykernel_15420/3266265994.py:1: DeprecationWarning: find_elements_by_xpath is deprecated. Please use find_elements(by=By.XPATH, value=xpath) instead\n",
      "  title = driver.find_elements_by_xpath(\"//a[@class='a-link-normal s-underline-text s-underline-link-text s-link-style a-text-normal']\")\n"
     ]
    },
    {
     "data": {
      "text/plain": [
       "['ASUS ROG Strix SCAR 15 (2022), 15.6-inch (39.62 cms) 2K WQHD 240Hz/3ms, Core i9-12900H 12th Gen, RTX 3080 Ti 16GB Graphics, Gaming Laptop (32GB/1TB SSD/Win 11/Office 2021/Black/2.3 Kg), G533ZX-LN024WS',\n",
       " 'ASUS TUF Gaming F15 (2021), 15.6-inch (39.62 cms) FHD 240Hz/3ms, Intel Core i9-11900H 11th Gen, RTX 3060 6GB Graphics Gaming Laptop (16GB/1TB SSD/Office 2019/Windows 10/Black/2.3 kg), FX506HM-AZ099TS',\n",
       " 'ASUS TUF Gaming F15 (2021), 15.6\" (39.62 cms) FHD 240Hz, Intel Core i9-11900H 11th Gen, GeForce RTX 3060 6GB Graphics, Gaming Laptop(16GB/1TB SSD/Office 2019/Windows 10/Gray/2.3 Kg), FX566HM-AZ096TS',\n",
       " 'ASUS ROG Strix Scar 17 (2022), 17.3-inch (43.94 cms) 2K WQHD 240Hz/3ms, Core i9-12900H 12th Gen, RTX 3070 Ti 8GB Graphics, Gaming Laptop (32GB/2TB SSD/Win 11/Office 2021/Black/2.9 Kg), G733ZW-LL105WS',\n",
       " 'ASUS TUF Gaming F15 (2021), 15.6-inch (39.62 cms) FHD 144Hz, Intel Core i9-11900H 11th Gen, RTX 3060 6GB Graphics Gaming Laptop (16GB RAM/1TB SSD/Office 2019/Windows 10/Gray/2.3 kg), FX566HM-HN097TS',\n",
       " 'ASUS ROG Strix Scar 15 (2022), 15.6-inch (39.62 cms) 2K WQHD 240Hz/3ms, Core i9-12900H 12th Gen, RTX 3070 Ti 8GB Graphics, Gaming Laptop (32GB/2TB SSD/Win 11/Office 2021/Black/2.3 Kg), G533ZW-LN106WS',\n",
       " 'HP ZBOOK Power G8/ Intel core i9-11900H 8 Core/32GB DDR4 3200 RAM/1TB PCIe NVMe TLC SSD /15.6” FHD /Nvidia Quadro T1200 Dedicated Graphics 4GB DDR6 /Windows 10 Pro / 3 Year Warranty',\n",
       " '(Renewed) HP Omen 15-dh0139TX Gaming Laptop (9th Gen i9-9880H/16GB/1TB HDD + 512GB SSD/Win 10/8GB NVIDIA RTX 2080 Graphics) & Z3700 Wireless Mouse',\n",
       " '(Renewed) Dell G7 7500 15.6inch FHD 300 Hz Display Gaming Laptop (10th Gen i9-10885H / 16 GB / 1TB SSD / NVIDIA RTX 2070 8GB Graphics / 1Yr Premium Warranty / Win 10 + MS Office H&S 2019) D560233WIN9B, Black',\n",
       " 'Dell Precision 5550 || i9 -10885H || 16GB || 1TB NVMe || T2000 4 GB || Win 10 Pro (Free Upgrade Win 11Pro) / 15.6 FHD+ / 3 Year ADP']"
      ]
     },
     "execution_count": 197,
     "metadata": {},
     "output_type": "execute_result"
    }
   ],
   "source": [
    "title = driver.find_elements_by_xpath(\"//a[@class='a-link-normal s-underline-text s-underline-link-text s-link-style a-text-normal']\")\n",
    "len(title)\n",
    "\n",
    "Title = []\n",
    "\n",
    "for i in title:\n",
    "    Title.append(i.text)\n",
    "Title[0:10]"
   ]
  },
  {
   "cell_type": "markdown",
   "id": "286d976e",
   "metadata": {},
   "source": [
    "Ratings"
   ]
  },
  {
   "cell_type": "code",
   "execution_count": 199,
   "id": "53af35f9",
   "metadata": {},
   "outputs": [
    {
     "name": "stderr",
     "output_type": "stream",
     "text": [
      "C:\\Users\\Swetha\\AppData\\Local\\Temp/ipykernel_15420/3567032692.py:1: DeprecationWarning: find_elements_by_xpath is deprecated. Please use find_elements(by=By.XPATH, value=xpath) instead\n",
      "  rating = driver.find_elements_by_xpath(\"//a[@class='a-popover-trigger a-declarative']\")\n"
     ]
    },
    {
     "data": {
      "text/plain": [
       "['', '', '', '', '']"
      ]
     },
     "execution_count": 199,
     "metadata": {},
     "output_type": "execute_result"
    }
   ],
   "source": [
    "rating = driver.find_elements_by_xpath(\"//a[@class='a-popover-trigger a-declarative']\")\n",
    "\n",
    "Ratings = []\n",
    "\n",
    "for i in rating:\n",
    "    Ratings.append(i.text)\n",
    "Ratings[0:10]"
   ]
  },
  {
   "cell_type": "markdown",
   "id": "984f63a5",
   "metadata": {},
   "source": [
    "Price"
   ]
  },
  {
   "cell_type": "code",
   "execution_count": 200,
   "id": "b5371b3c",
   "metadata": {},
   "outputs": [
    {
     "name": "stderr",
     "output_type": "stream",
     "text": [
      "C:\\Users\\Swetha\\AppData\\Local\\Temp/ipykernel_15420/1126187598.py:1: DeprecationWarning: find_elements_by_xpath is deprecated. Please use find_elements(by=By.XPATH, value=xpath) instead\n",
      "  price = driver.find_elements_by_xpath(\"//span[@class='a-price-whole']\")\n"
     ]
    },
    {
     "data": {
      "text/plain": [
       "['2,99,990',\n",
       " '1,43,990',\n",
       " '1,54,850',\n",
       " '2,68,965',\n",
       " '1,48,990',\n",
       " '2,64,990',\n",
       " '2,32,000',\n",
       " '1,38,000',\n",
       " '1,72,000',\n",
       " '2,25,000']"
      ]
     },
     "execution_count": 200,
     "metadata": {},
     "output_type": "execute_result"
    }
   ],
   "source": [
    "price = driver.find_elements_by_xpath(\"//span[@class='a-price-whole']\")\n",
    "len(price)\n",
    "\n",
    "Price = []\n",
    "\n",
    "for i in price:\n",
    "    Price.append(i.text)\n",
    "Price[0:10]"
   ]
  },
  {
   "cell_type": "code",
   "execution_count": null,
   "id": "487ffd70",
   "metadata": {},
   "outputs": [],
   "source": []
  },
  {
   "cell_type": "markdown",
   "id": "c5cc4ee6",
   "metadata": {},
   "source": [
    "Q9: Write a python program to scrape data for first 10 job results for Data Scientist Designation in Noida\n",
    "location. You have to scrape company name, No. of days ago when job was posted, Rating of the company.\n",
    "This task will be done in following steps:\n",
    "1. First get the webpage https://www.ambitionbox.com/\n",
    "2. Click on the Job option as shown in the image\n",
    "3. After reaching to the next webpage, In place of “Search by Designations, Companies, Skills” enter\n",
    "“Data Scientist” and click on search button\n",
    "4. You will reach to the following web page click on location and in place of “Search location” enter\n",
    "“Noida” and select location “Noida”.\n",
    "5. Then scrape the data for the first 10 jobs results you get on the above shown page.\n",
    "6. Finally create a dataframe of the scraped data.\n",
    "Note: All the steps required during scraping should be done through code only and not manually."
   ]
  },
  {
   "cell_type": "code",
   "execution_count": 207,
   "id": "6451a8a8",
   "metadata": {},
   "outputs": [
    {
     "name": "stderr",
     "output_type": "stream",
     "text": [
      "C:\\Users\\Swetha\\AppData\\Local\\Temp/ipykernel_15420/3594517989.py:6: DeprecationWarning: executable_path has been deprecated, please pass in a Service object\n",
      "  driver=webdriver.Chrome(r'C:\\Users\\Swetha\\Downloads\\chromedriver_win32\\chromedriver.exe')\n"
     ]
    }
   ],
   "source": [
    "import selenium\n",
    "from selenium import webdriver\n",
    "import pandas as pd\n",
    "import warnings\n",
    "\n",
    "driver=webdriver.Chrome(r'C:\\Users\\Swetha\\Downloads\\chromedriver_win32\\chromedriver.exe')\n",
    "\n",
    "url = 'https://www.ambitionbox.com/'\n",
    "driver.get(url)"
   ]
  },
  {
   "cell_type": "code",
   "execution_count": 208,
   "id": "614240c9",
   "metadata": {},
   "outputs": [
    {
     "name": "stderr",
     "output_type": "stream",
     "text": [
      "C:\\Users\\Swetha\\AppData\\Local\\Temp/ipykernel_15420/170962433.py:1: DeprecationWarning: find_element_by_xpath is deprecated. Please use find_element(by=By.XPATH, value=xpath) instead\n",
      "  click_job = driver.find_element_by_xpath(\"/html/body/div[1]/nav/nav/a[6]\")\n"
     ]
    },
    {
     "data": {
      "text/plain": [
       "<selenium.webdriver.remote.webelement.WebElement (session=\"465077dad149c79b4022795a704474c7\", element=\"1e500ac6-f8ec-453f-9301-c87401654bc6\")>"
      ]
     },
     "execution_count": 208,
     "metadata": {},
     "output_type": "execute_result"
    }
   ],
   "source": [
    "click_job = driver.find_element_by_xpath(\"/html/body/div[1]/nav/nav/a[6]\")\n",
    "click_job"
   ]
  },
  {
   "cell_type": "code",
   "execution_count": 209,
   "id": "f10e6e01",
   "metadata": {},
   "outputs": [],
   "source": [
    "click_job.click()"
   ]
  },
  {
   "cell_type": "code",
   "execution_count": 211,
   "id": "204eb3f9",
   "metadata": {},
   "outputs": [
    {
     "name": "stderr",
     "output_type": "stream",
     "text": [
      "C:\\Users\\Swetha\\AppData\\Local\\Temp/ipykernel_15420/2879488505.py:1: DeprecationWarning: find_element_by_xpath is deprecated. Please use find_element(by=By.XPATH, value=xpath) instead\n",
      "  search_job = driver.find_element_by_xpath(\"/html/body/div/div/div/div[2]/div[1]/div/div/div/div/span/input\")\n"
     ]
    }
   ],
   "source": [
    "search_job = driver.find_element_by_xpath(\"/html/body/div/div/div/div[2]/div[1]/div/div/div/div/span/input\")\n",
    "search_job\n",
    "\n",
    "search_job.send_keys(\"Data Scientist\")"
   ]
  },
  {
   "cell_type": "code",
   "execution_count": 212,
   "id": "74abd8fd",
   "metadata": {},
   "outputs": [
    {
     "name": "stderr",
     "output_type": "stream",
     "text": [
      "C:\\Users\\Swetha\\AppData\\Local\\Temp/ipykernel_15420/2623568150.py:1: DeprecationWarning: find_element_by_xpath is deprecated. Please use find_element(by=By.XPATH, value=xpath) instead\n",
      "  search_btn = driver.find_element_by_xpath(\"/html/body/div/div/div/div[2]/div[1]/div/div/div/button/span\")\n"
     ]
    }
   ],
   "source": [
    "search_btn = driver.find_element_by_xpath(\"/html/body/div/div/div/div[2]/div[1]/div/div/div/button/span\")\n",
    "search_btn\n",
    "\n",
    "search_btn.click()"
   ]
  },
  {
   "cell_type": "code",
   "execution_count": 214,
   "id": "2de5d203",
   "metadata": {},
   "outputs": [
    {
     "name": "stderr",
     "output_type": "stream",
     "text": [
      "C:\\Users\\Swetha\\AppData\\Local\\Temp/ipykernel_15420/2157288130.py:1: DeprecationWarning: find_element_by_xpath is deprecated. Please use find_element(by=By.XPATH, value=xpath) instead\n",
      "  search_loc = driver.find_element_by_xpath(\"/html/body/div/div/div/div[2]/div[2]/div[1]/div/div/div/div[2]/div[2]/div/div[3]/div[1]/div[1]/div/label\")\n"
     ]
    },
    {
     "data": {
      "text/plain": [
       "<selenium.webdriver.remote.webelement.WebElement (session=\"465077dad149c79b4022795a704474c7\", element=\"2aa378a0-c6fa-4022-90ea-1cf191269ed2\")>"
      ]
     },
     "execution_count": 214,
     "metadata": {},
     "output_type": "execute_result"
    }
   ],
   "source": [
    "search_loc = driver.find_element_by_xpath(\"/html/body/div/div/div/div[2]/div[2]/div[1]/div/div/div/div[2]/div[2]/div/div[3]/div[1]/div[1]/div/label\")\n",
    "search_loc\n",
    "\n"
   ]
  },
  {
   "cell_type": "markdown",
   "id": "f6f06bb6",
   "metadata": {},
   "source": [
    "10 Job search for Noida"
   ]
  },
  {
   "cell_type": "code",
   "execution_count": 219,
   "id": "7516b72c",
   "metadata": {},
   "outputs": [
    {
     "name": "stderr",
     "output_type": "stream",
     "text": [
      "C:\\Users\\Swetha\\AppData\\Local\\Temp/ipykernel_15420/125061551.py:1: DeprecationWarning: find_elements_by_xpath is deprecated. Please use find_elements(by=By.XPATH, value=xpath) instead\n",
      "  title_tags = driver.find_elements_by_xpath('//a[@class=\"title noclick\"]')\n"
     ]
    },
    {
     "data": {
      "text/plain": [
       "[<selenium.webdriver.remote.webelement.WebElement (session=\"465077dad149c79b4022795a704474c7\", element=\"4187b3e8-4d45-428a-8938-8db0ccf85956\")>,\n",
       " <selenium.webdriver.remote.webelement.WebElement (session=\"465077dad149c79b4022795a704474c7\", element=\"7c8e257b-fc2a-46e7-859b-9b4b15a90175\")>,\n",
       " <selenium.webdriver.remote.webelement.WebElement (session=\"465077dad149c79b4022795a704474c7\", element=\"df0d6156-339d-4787-ab90-4057e2e6b5ea\")>,\n",
       " <selenium.webdriver.remote.webelement.WebElement (session=\"465077dad149c79b4022795a704474c7\", element=\"4d86be6b-32b9-435a-b4a1-635b7851075e\")>,\n",
       " <selenium.webdriver.remote.webelement.WebElement (session=\"465077dad149c79b4022795a704474c7\", element=\"6ef3495a-23c8-4e2c-bc11-77342e4c2b9a\")>,\n",
       " <selenium.webdriver.remote.webelement.WebElement (session=\"465077dad149c79b4022795a704474c7\", element=\"0d9d0aa1-e478-4303-baf6-ff002bc7bfc0\")>,\n",
       " <selenium.webdriver.remote.webelement.WebElement (session=\"465077dad149c79b4022795a704474c7\", element=\"1972e466-9ca6-44e0-aafa-1132404da9e8\")>,\n",
       " <selenium.webdriver.remote.webelement.WebElement (session=\"465077dad149c79b4022795a704474c7\", element=\"0e5595cc-86bd-49d1-843a-f22252642d40\")>,\n",
       " <selenium.webdriver.remote.webelement.WebElement (session=\"465077dad149c79b4022795a704474c7\", element=\"a4de7d7f-f50e-4bd6-add1-b41e9c60b162\")>,\n",
       " <selenium.webdriver.remote.webelement.WebElement (session=\"465077dad149c79b4022795a704474c7\", element=\"28e0273e-f213-4315-9ff7-18acb7172c30\")>]"
      ]
     },
     "execution_count": 219,
     "metadata": {},
     "output_type": "execute_result"
    }
   ],
   "source": [
    "title_tags = driver.find_elements_by_xpath('//a[@class=\"title noclick\"]')\n",
    "len(title_tags)\n",
    "title_tags[0:10]"
   ]
  },
  {
   "cell_type": "code",
   "execution_count": 238,
   "id": "659261ee",
   "metadata": {},
   "outputs": [
    {
     "data": {
      "text/plain": [
       "['Excellent Opportunity For Freshers For AI/ML, Data Scientist, BI, QA',\n",
       " \"HCL Hiring Data Scientist (Loc: Noida / Chennai / B'lore)\",\n",
       " 'Data Scientist',\n",
       " 'Data Scientist-II',\n",
       " 'HCL Tech Opening - Senior Data Scientist',\n",
       " 'Data Scientist',\n",
       " 'Urgent Requirement || Data Scientist || Noida',\n",
       " 'Data Scientist with NLP & Python',\n",
       " 'Data Scientist',\n",
       " 'Opportunity | Tavant India']"
      ]
     },
     "execution_count": 238,
     "metadata": {},
     "output_type": "execute_result"
    }
   ],
   "source": [
    "Job_Title = []\n",
    "\n",
    "for i in title_tags:\n",
    "    Job_Title.append(i.text)\n",
    "Job_Title[0:10]"
   ]
  },
  {
   "cell_type": "code",
   "execution_count": 223,
   "id": "3f64d23f",
   "metadata": {},
   "outputs": [
    {
     "name": "stderr",
     "output_type": "stream",
     "text": [
      "C:\\Users\\Swetha\\AppData\\Local\\Temp/ipykernel_15420/1831578003.py:1: DeprecationWarning: find_elements_by_xpath is deprecated. Please use find_elements(by=By.XPATH, value=xpath) instead\n",
      "  company_tags = driver.find_elements_by_xpath(\"//p[@class='company body-medium']\")\n"
     ]
    },
    {
     "data": {
      "text/plain": [
       "[<selenium.webdriver.remote.webelement.WebElement (session=\"465077dad149c79b4022795a704474c7\", element=\"776038ab-4565-4875-a5ac-5eb8b791c5bf\")>,\n",
       " <selenium.webdriver.remote.webelement.WebElement (session=\"465077dad149c79b4022795a704474c7\", element=\"5f52756b-93be-4516-b7fe-3bf04d48d179\")>,\n",
       " <selenium.webdriver.remote.webelement.WebElement (session=\"465077dad149c79b4022795a704474c7\", element=\"f99e15cf-92ad-4990-8c92-e60de8ee3ea6\")>,\n",
       " <selenium.webdriver.remote.webelement.WebElement (session=\"465077dad149c79b4022795a704474c7\", element=\"8c00c428-306c-46c3-81bd-bde7f5546ac6\")>,\n",
       " <selenium.webdriver.remote.webelement.WebElement (session=\"465077dad149c79b4022795a704474c7\", element=\"c984b1bd-076b-48b1-81ad-299fe942b382\")>,\n",
       " <selenium.webdriver.remote.webelement.WebElement (session=\"465077dad149c79b4022795a704474c7\", element=\"47e72934-8402-4120-a203-b7b418955fcd\")>,\n",
       " <selenium.webdriver.remote.webelement.WebElement (session=\"465077dad149c79b4022795a704474c7\", element=\"fb95b764-b564-4f0c-85fe-158ebc6017fe\")>,\n",
       " <selenium.webdriver.remote.webelement.WebElement (session=\"465077dad149c79b4022795a704474c7\", element=\"a410f1a7-aca1-4b72-91fb-db1460da2887\")>,\n",
       " <selenium.webdriver.remote.webelement.WebElement (session=\"465077dad149c79b4022795a704474c7\", element=\"a0151f0a-ebd8-4aac-a276-bfab965802e5\")>,\n",
       " <selenium.webdriver.remote.webelement.WebElement (session=\"465077dad149c79b4022795a704474c7\", element=\"75c23700-aa6c-482a-bd41-d0eedad613b2\")>]"
      ]
     },
     "execution_count": 223,
     "metadata": {},
     "output_type": "execute_result"
    }
   ],
   "source": [
    "company_tags = driver.find_elements_by_xpath(\"//p[@class='company body-medium']\")\n",
    "company_tags"
   ]
  },
  {
   "cell_type": "code",
   "execution_count": 237,
   "id": "445c126a",
   "metadata": {},
   "outputs": [
    {
     "data": {
      "text/plain": [
       "['NTT DATA GLOBAL DELIVERY SERVICES PRIVATE LIMITED',\n",
       " 'HCL Technologies Limited',\n",
       " 'WSP CONSULTANTS INDIA PRIVATE LIMITED',\n",
       " 'Microsoft India (R and D) Pvt Ltd',\n",
       " 'HCL Technologies Ltd',\n",
       " 'Jubilant Foodworks Limited',\n",
       " 'HCL Technologies',\n",
       " 'RATEGAIN TRAVEL TECHNOLOGIES LIMITED',\n",
       " 'Hanu Software Solutions Pvt Ltd',\n",
       " 'Tavant Technologies India Pvt. Ltd.']"
      ]
     },
     "execution_count": 237,
     "metadata": {},
     "output_type": "execute_result"
    }
   ],
   "source": [
    "Company = []\n",
    "\n",
    "for i in company_tags:\n",
    "    Company.append(i.text)\n",
    "Company[0:10]"
   ]
  },
  {
   "cell_type": "code",
   "execution_count": 244,
   "id": "16460c2c",
   "metadata": {},
   "outputs": [
    {
     "data": {
      "text/html": [
       "<div>\n",
       "<style scoped>\n",
       "    .dataframe tbody tr th:only-of-type {\n",
       "        vertical-align: middle;\n",
       "    }\n",
       "\n",
       "    .dataframe tbody tr th {\n",
       "        vertical-align: top;\n",
       "    }\n",
       "\n",
       "    .dataframe thead th {\n",
       "        text-align: right;\n",
       "    }\n",
       "</style>\n",
       "<table border=\"1\" class=\"dataframe\">\n",
       "  <thead>\n",
       "    <tr style=\"text-align: right;\">\n",
       "      <th></th>\n",
       "      <th>Job Title</th>\n",
       "      <th>Company</th>\n",
       "    </tr>\n",
       "  </thead>\n",
       "  <tbody>\n",
       "    <tr>\n",
       "      <th>0</th>\n",
       "      <td>Excellent Opportunity For Freshers For AI/ML, ...</td>\n",
       "      <td>NTT DATA GLOBAL DELIVERY SERVICES PRIVATE LIMITED</td>\n",
       "    </tr>\n",
       "    <tr>\n",
       "      <th>1</th>\n",
       "      <td>HCL Hiring Data Scientist (Loc: Noida / Chenna...</td>\n",
       "      <td>HCL Technologies Limited</td>\n",
       "    </tr>\n",
       "    <tr>\n",
       "      <th>2</th>\n",
       "      <td>Data Scientist</td>\n",
       "      <td>WSP CONSULTANTS INDIA PRIVATE LIMITED</td>\n",
       "    </tr>\n",
       "    <tr>\n",
       "      <th>3</th>\n",
       "      <td>Data Scientist-II</td>\n",
       "      <td>Microsoft India (R and D) Pvt Ltd</td>\n",
       "    </tr>\n",
       "    <tr>\n",
       "      <th>4</th>\n",
       "      <td>HCL Tech Opening - Senior Data Scientist</td>\n",
       "      <td>HCL Technologies Ltd</td>\n",
       "    </tr>\n",
       "    <tr>\n",
       "      <th>5</th>\n",
       "      <td>Data Scientist</td>\n",
       "      <td>Jubilant Foodworks Limited</td>\n",
       "    </tr>\n",
       "    <tr>\n",
       "      <th>6</th>\n",
       "      <td>Urgent Requirement || Data Scientist || Noida</td>\n",
       "      <td>HCL Technologies</td>\n",
       "    </tr>\n",
       "    <tr>\n",
       "      <th>7</th>\n",
       "      <td>Data Scientist with NLP &amp; Python</td>\n",
       "      <td>RATEGAIN TRAVEL TECHNOLOGIES LIMITED</td>\n",
       "    </tr>\n",
       "    <tr>\n",
       "      <th>8</th>\n",
       "      <td>Data Scientist</td>\n",
       "      <td>Hanu Software Solutions Pvt Ltd</td>\n",
       "    </tr>\n",
       "    <tr>\n",
       "      <th>9</th>\n",
       "      <td>Opportunity | Tavant India</td>\n",
       "      <td>Tavant Technologies India Pvt. Ltd.</td>\n",
       "    </tr>\n",
       "  </tbody>\n",
       "</table>\n",
       "</div>"
      ],
      "text/plain": [
       "                                           Job Title  \\\n",
       "0  Excellent Opportunity For Freshers For AI/ML, ...   \n",
       "1  HCL Hiring Data Scientist (Loc: Noida / Chenna...   \n",
       "2                                     Data Scientist   \n",
       "3                                  Data Scientist-II   \n",
       "4           HCL Tech Opening - Senior Data Scientist   \n",
       "5                                     Data Scientist   \n",
       "6      Urgent Requirement || Data Scientist || Noida   \n",
       "7                   Data Scientist with NLP & Python   \n",
       "8                                     Data Scientist   \n",
       "9                         Opportunity | Tavant India   \n",
       "\n",
       "                                             Company  \n",
       "0  NTT DATA GLOBAL DELIVERY SERVICES PRIVATE LIMITED  \n",
       "1                           HCL Technologies Limited  \n",
       "2              WSP CONSULTANTS INDIA PRIVATE LIMITED  \n",
       "3                  Microsoft India (R and D) Pvt Ltd  \n",
       "4                               HCL Technologies Ltd  \n",
       "5                         Jubilant Foodworks Limited  \n",
       "6                                   HCL Technologies  \n",
       "7               RATEGAIN TRAVEL TECHNOLOGIES LIMITED  \n",
       "8                    Hanu Software Solutions Pvt Ltd  \n",
       "9                Tavant Technologies India Pvt. Ltd.  "
      ]
     },
     "execution_count": 244,
     "metadata": {},
     "output_type": "execute_result"
    }
   ],
   "source": [
    "jobs = pd.DataFrame()\n",
    "jobs['Job Title'] = Job_Title\n",
    "jobs['Company'] = Company\n",
    "jobs[0:10]"
   ]
  },
  {
   "cell_type": "code",
   "execution_count": null,
   "id": "c3cec3b0",
   "metadata": {},
   "outputs": [],
   "source": []
  },
  {
   "cell_type": "markdown",
   "id": "70b4e79e",
   "metadata": {},
   "source": [
    "Q10: Write a python program to scrape the salary data for Data Scientist designation.\n",
    "You have to scrape Company name, Number of salaries, Average salary, Minsalary, Max Salary.\n",
    "The above task will be, done as shown in the below steps:\n",
    "1. First get the webpage https://www.ambitionbox.com/\n",
    "2. Click on the salaries option as shown in the image\n",
    "3. After reaching to the following webpage, In place of “Search Job Profile” enters “Data Scientist” and\n",
    "then click on “Data Scientist”.\n",
    "You have to scrape the data ticked in the above image.\n",
    "4. Scrape the data for the first 10 companies. Scrape the company name, total salary record, average\n",
    "salary, minimum salary, maximum salary, experience required.\n",
    "5. Store the data in a dataframe.\n",
    "Note: All the steps required during scraping should be done through code only and not manually"
   ]
  },
  {
   "cell_type": "code",
   "execution_count": 1,
   "id": "9430ac75",
   "metadata": {},
   "outputs": [
    {
     "name": "stderr",
     "output_type": "stream",
     "text": [
      "C:\\Users\\Swetha\\AppData\\Local\\Temp/ipykernel_4804/3594517989.py:6: DeprecationWarning: executable_path has been deprecated, please pass in a Service object\n",
      "  driver=webdriver.Chrome(r'C:\\Users\\Swetha\\Downloads\\chromedriver_win32\\chromedriver.exe')\n"
     ]
    }
   ],
   "source": [
    "import selenium\n",
    "from selenium import webdriver\n",
    "import pandas as pd\n",
    "import warnings\n",
    "\n",
    "driver=webdriver.Chrome(r'C:\\Users\\Swetha\\Downloads\\chromedriver_win32\\chromedriver.exe')\n",
    "\n",
    "url = 'https://www.ambitionbox.com/'\n",
    "driver.get(url)"
   ]
  },
  {
   "cell_type": "code",
   "execution_count": 2,
   "id": "158a9dd9",
   "metadata": {},
   "outputs": [
    {
     "name": "stderr",
     "output_type": "stream",
     "text": [
      "C:\\Users\\Swetha\\AppData\\Local\\Temp/ipykernel_4804/1684049424.py:1: DeprecationWarning: find_element_by_xpath is deprecated. Please use find_element(by=By.XPATH, value=xpath) instead\n",
      "  click_salaries = driver.find_element_by_xpath(\"/html/body/div[1]/nav/nav/a[4]\")\n"
     ]
    },
    {
     "data": {
      "text/plain": [
       "<selenium.webdriver.remote.webelement.WebElement (session=\"ff63bd2e200b3f989c8fc18657be643a\", element=\"05f7aee2-68b0-48da-8367-87e459926616\")>"
      ]
     },
     "execution_count": 2,
     "metadata": {},
     "output_type": "execute_result"
    }
   ],
   "source": [
    "click_salaries = driver.find_element_by_xpath(\"/html/body/div[1]/nav/nav/a[4]\")\n",
    "click_salaries"
   ]
  },
  {
   "cell_type": "code",
   "execution_count": 3,
   "id": "6526ac12",
   "metadata": {},
   "outputs": [],
   "source": [
    "click_salaries.click()"
   ]
  },
  {
   "cell_type": "code",
   "execution_count": 4,
   "id": "963f6ae3",
   "metadata": {},
   "outputs": [
    {
     "name": "stderr",
     "output_type": "stream",
     "text": [
      "C:\\Users\\Swetha\\AppData\\Local\\Temp/ipykernel_4804/839708291.py:1: DeprecationWarning: find_element_by_xpath is deprecated. Please use find_element(by=By.XPATH, value=xpath) instead\n",
      "  search_jobs = driver.find_element_by_xpath(\"/html/body/div/div/div/main/section[1]/div[2]/div[1]/span/input\")\n"
     ]
    }
   ],
   "source": [
    "search_jobs = driver.find_element_by_xpath(\"/html/body/div/div/div/main/section[1]/div[2]/div[1]/span/input\")\n",
    "search_jobs\n",
    "\n",
    "search_jobs.send_keys(\"Data Scientist\")"
   ]
  },
  {
   "cell_type": "markdown",
   "id": "1de0b881",
   "metadata": {},
   "source": [
    "Company Names"
   ]
  },
  {
   "cell_type": "code",
   "execution_count": 7,
   "id": "8e37649b",
   "metadata": {},
   "outputs": [
    {
     "name": "stderr",
     "output_type": "stream",
     "text": [
      "C:\\Users\\Swetha\\AppData\\Local\\Temp/ipykernel_4804/2575069470.py:1: DeprecationWarning: find_elements_by_xpath is deprecated. Please use find_elements(by=By.XPATH, value=xpath) instead\n",
      "  company_names = driver.find_elements_by_xpath(\"//div[@class='name']\")\n"
     ]
    },
    {
     "data": {
      "text/plain": [
       "['Ab Inbev\\nbased on 28 salaries',\n",
       " 'ZS\\nbased on 15 salaries',\n",
       " 'Optum\\nbased on 25 salaries',\n",
       " 'Fractal Analytics\\nbased on 77 salaries',\n",
       " 'Tiger Analytics\\nbased on 33 salaries',\n",
       " 'UnitedHealth\\nbased on 52 salaries',\n",
       " 'Verizon\\nbased on 14 salaries',\n",
       " 'Ganit Business Solutions\\nbased on 13 salaries',\n",
       " 'Ericsson\\nbased on 43 salaries',\n",
       " 'Deloitte\\nbased on 57 salaries']"
      ]
     },
     "execution_count": 7,
     "metadata": {},
     "output_type": "execute_result"
    }
   ],
   "source": [
    "company_names = driver.find_elements_by_xpath(\"//div[@class='name']\")\n",
    "len(company_names)\n",
    "\n",
    "CompanyNames = []\n",
    "\n",
    "for i in company_names:\n",
    "    CompanyNames.append(i.text)\n",
    "CompanyNames[0:10]"
   ]
  },
  {
   "cell_type": "markdown",
   "id": "3fc8a056",
   "metadata": {},
   "source": [
    "Total Salary Record"
   ]
  },
  {
   "cell_type": "code",
   "execution_count": 8,
   "id": "9ebd48f9",
   "metadata": {},
   "outputs": [
    {
     "name": "stderr",
     "output_type": "stream",
     "text": [
      "C:\\Users\\Swetha\\AppData\\Local\\Temp/ipykernel_4804/3136191948.py:1: DeprecationWarning: find_elements_by_xpath is deprecated. Please use find_elements(by=By.XPATH, value=xpath) instead\n",
      "  total_salary_record = driver.find_elements_by_xpath(\"//div[@class='name']\")\n"
     ]
    },
    {
     "data": {
      "text/plain": [
       "['Ab Inbev\\nbased on 28 salaries',\n",
       " 'ZS\\nbased on 15 salaries',\n",
       " 'Optum\\nbased on 25 salaries',\n",
       " 'Fractal Analytics\\nbased on 77 salaries',\n",
       " 'Tiger Analytics\\nbased on 33 salaries',\n",
       " 'UnitedHealth\\nbased on 52 salaries',\n",
       " 'Verizon\\nbased on 14 salaries',\n",
       " 'Ganit Business Solutions\\nbased on 13 salaries',\n",
       " 'Ericsson\\nbased on 43 salaries',\n",
       " 'Deloitte\\nbased on 57 salaries']"
      ]
     },
     "execution_count": 8,
     "metadata": {},
     "output_type": "execute_result"
    }
   ],
   "source": [
    "total_salary_record = driver.find_elements_by_xpath(\"//div[@class='name']\")\n",
    "len(total_salary_record)\n",
    "\n",
    "TotalSalaryRecords = []\n",
    "\n",
    "for i in total_salary_record:\n",
    "    TotalSalaryRecords.append(i.text)\n",
    "TotalSalaryRecords[0:10]"
   ]
  },
  {
   "cell_type": "markdown",
   "id": "739e98a5",
   "metadata": {},
   "source": [
    "Average Salary"
   ]
  },
  {
   "cell_type": "code",
   "execution_count": 11,
   "id": "3e90e54b",
   "metadata": {},
   "outputs": [
    {
     "name": "stderr",
     "output_type": "stream",
     "text": [
      "C:\\Users\\Swetha\\AppData\\Local\\Temp/ipykernel_4804/4283913332.py:1: DeprecationWarning: find_elements_by_xpath is deprecated. Please use find_elements(by=By.XPATH, value=xpath) instead\n",
      "  avg_salary = driver.find_elements_by_xpath(\"//p[@class='averageCtc']\")\n"
     ]
    },
    {
     "data": {
      "text/plain": [
       "['₹ 20.3L',\n",
       " '₹ 15.3L',\n",
       " '₹ 15.1L',\n",
       " '₹ 15.1L',\n",
       " '₹ 14.4L',\n",
       " '₹ 13.9L',\n",
       " '₹ 12.7L',\n",
       " '₹ 12.4L',\n",
       " '₹ 11.9L',\n",
       " '₹ 11.7L']"
      ]
     },
     "execution_count": 11,
     "metadata": {},
     "output_type": "execute_result"
    }
   ],
   "source": [
    "avg_salary = driver.find_elements_by_xpath(\"//p[@class='averageCtc']\")\n",
    "len(avg_salary)\n",
    "\n",
    "AverageSalary = []\n",
    "\n",
    "for i in avg_salary:\n",
    "    AverageSalary.append(i.text)\n",
    "AverageSalary[0:10]"
   ]
  },
  {
   "cell_type": "markdown",
   "id": "adf8474e",
   "metadata": {},
   "source": [
    "Minimun Salary"
   ]
  },
  {
   "cell_type": "code",
   "execution_count": 14,
   "id": "907cf6d7",
   "metadata": {},
   "outputs": [
    {
     "name": "stderr",
     "output_type": "stream",
     "text": [
      "C:\\Users\\Swetha\\AppData\\Local\\Temp/ipykernel_4804/3533623902.py:1: DeprecationWarning: find_elements_by_xpath is deprecated. Please use find_elements(by=By.XPATH, value=xpath) instead\n",
      "  min_sal = driver.find_elements_by_xpath(\"//div[@class='value body-medium']\")\n"
     ]
    },
    {
     "data": {
      "text/plain": [
       "['₹ 15.0L',\n",
       " '₹ 9.5L',\n",
       " '₹ 11.0L',\n",
       " '₹ 9.5L',\n",
       " '₹ 8.3L',\n",
       " '₹ 8.3L',\n",
       " '₹ 10.0L',\n",
       " '₹ 8.5L',\n",
       " '₹ 5.8L',\n",
       " '₹ 6.9L']"
      ]
     },
     "execution_count": 14,
     "metadata": {},
     "output_type": "execute_result"
    }
   ],
   "source": [
    "min_sal = driver.find_elements_by_xpath(\"//div[@class='value body-medium']\")\n",
    "len(min_sal)\n",
    "\n",
    "MinimumSalary = []\n",
    "\n",
    "for i in min_sal:\n",
    "    MinimumSalary.append(i.text)\n",
    "MinimumSalary[0:20:2]"
   ]
  },
  {
   "cell_type": "markdown",
   "id": "95e9e33e",
   "metadata": {},
   "source": [
    "Maximum Salary"
   ]
  },
  {
   "cell_type": "code",
   "execution_count": 18,
   "id": "57283ca8",
   "metadata": {},
   "outputs": [
    {
     "name": "stderr",
     "output_type": "stream",
     "text": [
      "C:\\Users\\Swetha\\AppData\\Local\\Temp/ipykernel_4804/4241220985.py:1: DeprecationWarning: find_elements_by_xpath is deprecated. Please use find_elements(by=By.XPATH, value=xpath) instead\n",
      "  max_sal = driver.find_elements_by_xpath(\"//div[@class='value body-medium']\")\n"
     ]
    },
    {
     "data": {
      "text/plain": [
       "['₹ 15.0L',\n",
       " '₹ 25.5L',\n",
       " '₹ 9.5L',\n",
       " '₹ 20.0L',\n",
       " '₹ 11.0L',\n",
       " '₹ 21.3L',\n",
       " '₹ 9.5L',\n",
       " '₹ 22.0L',\n",
       " '₹ 8.3L',\n",
       " '₹ 20.0L',\n",
       " '₹ 8.3L',\n",
       " '₹ 20.5L',\n",
       " '₹ 10.0L',\n",
       " '₹ 21.0L',\n",
       " '₹ 8.5L',\n",
       " '₹ 15.0L',\n",
       " '₹ 5.8L',\n",
       " '₹ 24.0L',\n",
       " '₹ 6.9L',\n",
       " '₹ 23.4L']"
      ]
     },
     "execution_count": 18,
     "metadata": {},
     "output_type": "execute_result"
    }
   ],
   "source": [
    "max_sal = driver.find_elements_by_xpath(\"//div[@class='value body-medium']\")\n",
    "len(max_sal)\n",
    "\n",
    "MaximumSalary = []\n",
    "\n",
    "for i in max_sal:\n",
    "    MaximumSalary.append(i.text)\n",
    "MaximumSalary[0:20]"
   ]
  },
  {
   "cell_type": "markdown",
   "id": "6fc5c97c",
   "metadata": {},
   "source": [
    "Experience Required"
   ]
  },
  {
   "cell_type": "code",
   "execution_count": 20,
   "id": "4cca75f6",
   "metadata": {},
   "outputs": [
    {
     "name": "stderr",
     "output_type": "stream",
     "text": [
      "C:\\Users\\Swetha\\AppData\\Local\\Temp/ipykernel_4804/435674108.py:1: DeprecationWarning: find_elements_by_xpath is deprecated. Please use find_elements(by=By.XPATH, value=xpath) instead\n",
      "  exp_req = driver.find_elements_by_xpath(\"//div[@class='salaries sbold-list-header']\")\n"
     ]
    },
    {
     "data": {
      "text/plain": [
       "['Data Scientist\\n . \\n3-4 yrs exp',\n",
       " 'Data Scientist\\n . \\n2 yrs exp',\n",
       " 'Data Scientist\\n . \\n3-4 yrs exp',\n",
       " 'Data Scientist\\n . \\n2-4 yrs exp',\n",
       " 'Data Scientist\\n . \\n3-4 yrs exp',\n",
       " 'Data Scientist\\n . \\n2-4 yrs exp',\n",
       " 'Data Scientist\\n . \\n4 yrs exp',\n",
       " 'Data Scientist\\n . \\n4 yrs exp',\n",
       " 'Data Scientist\\n . \\n3-4 yrs exp',\n",
       " 'Data Scientist\\n . \\n2-4 yrs exp']"
      ]
     },
     "execution_count": 20,
     "metadata": {},
     "output_type": "execute_result"
    }
   ],
   "source": [
    "exp_req = driver.find_elements_by_xpath(\"//div[@class='salaries sbold-list-header']\")\n",
    "len(exp_req)\n",
    "\n",
    "Experience = []\n",
    "\n",
    "for i in exp_req:\n",
    "    Experience.append(i.text)\n",
    "Experience[0:10]"
   ]
  },
  {
   "cell_type": "code",
   "execution_count": null,
   "id": "5ca68a64",
   "metadata": {},
   "outputs": [],
   "source": []
  }
 ],
 "metadata": {
  "kernelspec": {
   "display_name": "Python 3 (ipykernel)",
   "language": "python",
   "name": "python3"
  },
  "language_info": {
   "codemirror_mode": {
    "name": "ipython",
    "version": 3
   },
   "file_extension": ".py",
   "mimetype": "text/x-python",
   "name": "python",
   "nbconvert_exporter": "python",
   "pygments_lexer": "ipython3",
   "version": "3.9.7"
  }
 },
 "nbformat": 4,
 "nbformat_minor": 5
}
